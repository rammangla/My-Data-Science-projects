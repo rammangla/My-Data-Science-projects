{
  "nbformat": 4,
  "nbformat_minor": 0,
  "metadata": {
    "colab": {
      "name": "Employee Promotion problem.ipynb",
      "provenance": [],
      "collapsed_sections": [],
      "toc_visible": true,
      "authorship_tag": "ABX9TyPMTiziMk8NXcMcPUufJgYv",
      "include_colab_link": true
    },
    "kernelspec": {
      "name": "python3",
      "display_name": "Python 3"
    }
  },
  "cells": [
    {
      "cell_type": "markdown",
      "metadata": {
        "id": "view-in-github",
        "colab_type": "text"
      },
      "source": [
        "<a href=\"https://colab.research.google.com/github/rammangla/My-Data-Science-projects/blob/main/Employee_Promotion_problem.ipynb\" target=\"_parent\"><img src=\"https://colab.research.google.com/assets/colab-badge.svg\" alt=\"Open In Colab\"/></a>"
      ]
    },
    {
      "cell_type": "markdown",
      "metadata": {
        "id": "_G8abCyLwCjj"
      },
      "source": [
        "## **Problem Statement**"
      ]
    },
    {
      "cell_type": "markdown",
      "metadata": {
        "id": "WvNW_dh3wqKt"
      },
      "source": [
        "The client is a large MNC and they have 9 broad verticals across the organisation.\n",
        "\n",
        "The problem our client is facing is identifying the right people for promotion automatically by feeding various attributes of the employee.\n",
        "\n",
        "They have provided multiple attributes about employees' past and current performance along with demographics.\n",
        "\n",
        "*The task is to predict whether the proposed employee will get promotion or not.*"
      ]
    },
    {
      "cell_type": "markdown",
      "metadata": {
        "id": "nNdPOK6xyYiS"
      },
      "source": [
        "### Data Source"
      ]
    },
    {
      "cell_type": "markdown",
      "metadata": {
        "id": "wLFPA2wcyiMG"
      },
      "source": [
        "The data is a part of ongoing hackathon on *Analytics Vidhya*. [Employee promotion problem](https://datahack.analyticsvidhya.com/contest/wns-analytics-hackathon-2018-1/#ProblemStatement)"
      ]
    },
    {
      "cell_type": "markdown",
      "metadata": {
        "id": "b_2dA0UjcNMZ"
      },
      "source": [
        "## Importing initial libraries"
      ]
    },
    {
      "cell_type": "code",
      "metadata": {
        "id": "WYGLeUq_Z5K9"
      },
      "source": [
        "import pandas as pd\n",
        "import numpy as np\n",
        "import matplotlib.pyplot as plt\n",
        "%matplotlib inline\n",
        "import seaborn as sns\n",
        "pd.options.display.max_rows=100"
      ],
      "execution_count": 1,
      "outputs": []
    },
    {
      "cell_type": "code",
      "metadata": {
        "id": "DwGbMA3qi7ub"
      },
      "source": [
        "sns.set_style(style='whitegrid')"
      ],
      "execution_count": 2,
      "outputs": []
    },
    {
      "cell_type": "markdown",
      "metadata": {
        "id": "npQB46uJ0K1Z"
      },
      "source": [
        "## Importing the dataset"
      ]
    },
    {
      "cell_type": "code",
      "metadata": {
        "id": "w_EmbVAPaGfB"
      },
      "source": [
        "train_data=r'/content/train_LZdllcl.csv'\n",
        "prom_df=pd.read_csv(train_data)"
      ],
      "execution_count": 3,
      "outputs": []
    },
    {
      "cell_type": "code",
      "metadata": {
        "colab": {
          "base_uri": "https://localhost:8080/",
          "height": 287
        },
        "id": "P7Z2V9YcbdLs",
        "outputId": "e9f59d95-1bfe-4ef1-819e-f6bee10e6b7f"
      },
      "source": [
        "prom_df.head()"
      ],
      "execution_count": 4,
      "outputs": [
        {
          "output_type": "execute_result",
          "data": {
            "text/html": [
              "<div>\n",
              "<style scoped>\n",
              "    .dataframe tbody tr th:only-of-type {\n",
              "        vertical-align: middle;\n",
              "    }\n",
              "\n",
              "    .dataframe tbody tr th {\n",
              "        vertical-align: top;\n",
              "    }\n",
              "\n",
              "    .dataframe thead th {\n",
              "        text-align: right;\n",
              "    }\n",
              "</style>\n",
              "<table border=\"1\" class=\"dataframe\">\n",
              "  <thead>\n",
              "    <tr style=\"text-align: right;\">\n",
              "      <th></th>\n",
              "      <th>employee_id</th>\n",
              "      <th>department</th>\n",
              "      <th>region</th>\n",
              "      <th>education</th>\n",
              "      <th>gender</th>\n",
              "      <th>recruitment_channel</th>\n",
              "      <th>no_of_trainings</th>\n",
              "      <th>age</th>\n",
              "      <th>previous_year_rating</th>\n",
              "      <th>length_of_service</th>\n",
              "      <th>KPIs_met &gt;80%</th>\n",
              "      <th>awards_won?</th>\n",
              "      <th>avg_training_score</th>\n",
              "      <th>is_promoted</th>\n",
              "    </tr>\n",
              "  </thead>\n",
              "  <tbody>\n",
              "    <tr>\n",
              "      <th>0</th>\n",
              "      <td>65438</td>\n",
              "      <td>Sales &amp; Marketing</td>\n",
              "      <td>region_7</td>\n",
              "      <td>Master's &amp; above</td>\n",
              "      <td>f</td>\n",
              "      <td>sourcing</td>\n",
              "      <td>1</td>\n",
              "      <td>35</td>\n",
              "      <td>5.0</td>\n",
              "      <td>8</td>\n",
              "      <td>1</td>\n",
              "      <td>0</td>\n",
              "      <td>49</td>\n",
              "      <td>0</td>\n",
              "    </tr>\n",
              "    <tr>\n",
              "      <th>1</th>\n",
              "      <td>65141</td>\n",
              "      <td>Operations</td>\n",
              "      <td>region_22</td>\n",
              "      <td>Bachelor's</td>\n",
              "      <td>m</td>\n",
              "      <td>other</td>\n",
              "      <td>1</td>\n",
              "      <td>30</td>\n",
              "      <td>5.0</td>\n",
              "      <td>4</td>\n",
              "      <td>0</td>\n",
              "      <td>0</td>\n",
              "      <td>60</td>\n",
              "      <td>0</td>\n",
              "    </tr>\n",
              "    <tr>\n",
              "      <th>2</th>\n",
              "      <td>7513</td>\n",
              "      <td>Sales &amp; Marketing</td>\n",
              "      <td>region_19</td>\n",
              "      <td>Bachelor's</td>\n",
              "      <td>m</td>\n",
              "      <td>sourcing</td>\n",
              "      <td>1</td>\n",
              "      <td>34</td>\n",
              "      <td>3.0</td>\n",
              "      <td>7</td>\n",
              "      <td>0</td>\n",
              "      <td>0</td>\n",
              "      <td>50</td>\n",
              "      <td>0</td>\n",
              "    </tr>\n",
              "    <tr>\n",
              "      <th>3</th>\n",
              "      <td>2542</td>\n",
              "      <td>Sales &amp; Marketing</td>\n",
              "      <td>region_23</td>\n",
              "      <td>Bachelor's</td>\n",
              "      <td>m</td>\n",
              "      <td>other</td>\n",
              "      <td>2</td>\n",
              "      <td>39</td>\n",
              "      <td>1.0</td>\n",
              "      <td>10</td>\n",
              "      <td>0</td>\n",
              "      <td>0</td>\n",
              "      <td>50</td>\n",
              "      <td>0</td>\n",
              "    </tr>\n",
              "    <tr>\n",
              "      <th>4</th>\n",
              "      <td>48945</td>\n",
              "      <td>Technology</td>\n",
              "      <td>region_26</td>\n",
              "      <td>Bachelor's</td>\n",
              "      <td>m</td>\n",
              "      <td>other</td>\n",
              "      <td>1</td>\n",
              "      <td>45</td>\n",
              "      <td>3.0</td>\n",
              "      <td>2</td>\n",
              "      <td>0</td>\n",
              "      <td>0</td>\n",
              "      <td>73</td>\n",
              "      <td>0</td>\n",
              "    </tr>\n",
              "  </tbody>\n",
              "</table>\n",
              "</div>"
            ],
            "text/plain": [
              "   employee_id         department  ... avg_training_score is_promoted\n",
              "0        65438  Sales & Marketing  ...                 49           0\n",
              "1        65141         Operations  ...                 60           0\n",
              "2         7513  Sales & Marketing  ...                 50           0\n",
              "3         2542  Sales & Marketing  ...                 50           0\n",
              "4        48945         Technology  ...                 73           0\n",
              "\n",
              "[5 rows x 14 columns]"
            ]
          },
          "metadata": {
            "tags": []
          },
          "execution_count": 4
        }
      ]
    },
    {
      "cell_type": "code",
      "metadata": {
        "colab": {
          "base_uri": "https://localhost:8080/",
          "height": 468
        },
        "id": "SQysTIgC5Ow4",
        "outputId": "e1c521c1-de46-4e31-9dce-c09536342f2f"
      },
      "source": [
        "data_description=pd.read_excel('/content/Book1.xlsx',sheet_name=0, header=0)\n",
        "pd.options.display.max_colwidth=None\n",
        "data_description"
      ],
      "execution_count": 5,
      "outputs": [
        {
          "output_type": "execute_result",
          "data": {
            "text/html": [
              "<div>\n",
              "<style scoped>\n",
              "    .dataframe tbody tr th:only-of-type {\n",
              "        vertical-align: middle;\n",
              "    }\n",
              "\n",
              "    .dataframe tbody tr th {\n",
              "        vertical-align: top;\n",
              "    }\n",
              "\n",
              "    .dataframe thead th {\n",
              "        text-align: right;\n",
              "    }\n",
              "</style>\n",
              "<table border=\"1\" class=\"dataframe\">\n",
              "  <thead>\n",
              "    <tr style=\"text-align: right;\">\n",
              "      <th></th>\n",
              "      <th>Variable</th>\n",
              "      <th>Definition</th>\n",
              "    </tr>\n",
              "  </thead>\n",
              "  <tbody>\n",
              "    <tr>\n",
              "      <th>0</th>\n",
              "      <td>Employee ID</td>\n",
              "      <td>Unique Id of employee</td>\n",
              "    </tr>\n",
              "    <tr>\n",
              "      <th>1</th>\n",
              "      <td>Department</td>\n",
              "      <td>Department of employee</td>\n",
              "    </tr>\n",
              "    <tr>\n",
              "      <th>2</th>\n",
              "      <td>Region</td>\n",
              "      <td>Region of employement</td>\n",
              "    </tr>\n",
              "    <tr>\n",
              "      <th>3</th>\n",
              "      <td>Education</td>\n",
              "      <td>Education level</td>\n",
              "    </tr>\n",
              "    <tr>\n",
              "      <th>4</th>\n",
              "      <td>Gender</td>\n",
              "      <td>Gender of employee</td>\n",
              "    </tr>\n",
              "    <tr>\n",
              "      <th>5</th>\n",
              "      <td>Recruitment Channel</td>\n",
              "      <td>Channel of recruitment of employee</td>\n",
              "    </tr>\n",
              "    <tr>\n",
              "      <th>6</th>\n",
              "      <td>No of trainings</td>\n",
              "      <td>No of other trainings done in past on soft skills, technical skills etc.</td>\n",
              "    </tr>\n",
              "    <tr>\n",
              "      <th>7</th>\n",
              "      <td>Age</td>\n",
              "      <td>Age of employee</td>\n",
              "    </tr>\n",
              "    <tr>\n",
              "      <th>8</th>\n",
              "      <td>Previous Year Rating</td>\n",
              "      <td>Rating of employee in previous year</td>\n",
              "    </tr>\n",
              "    <tr>\n",
              "      <th>9</th>\n",
              "      <td>Length of service</td>\n",
              "      <td>Length of service in years</td>\n",
              "    </tr>\n",
              "    <tr>\n",
              "      <th>10</th>\n",
              "      <td>KPIs_met&gt;80%</td>\n",
              "      <td>if % of KPI( key performance indicator) &gt; 80%) then 1 else 0</td>\n",
              "    </tr>\n",
              "    <tr>\n",
              "      <th>11</th>\n",
              "      <td>awards won</td>\n",
              "      <td>if award won during previous year then 1 else 0</td>\n",
              "    </tr>\n",
              "    <tr>\n",
              "      <th>12</th>\n",
              "      <td>avg training score</td>\n",
              "      <td>Average score in current training evaluation</td>\n",
              "    </tr>\n",
              "    <tr>\n",
              "      <th>13</th>\n",
              "      <td>Is promoted</td>\n",
              "      <td>(Target variable) Recommended for promotion or not</td>\n",
              "    </tr>\n",
              "  </tbody>\n",
              "</table>\n",
              "</div>"
            ],
            "text/plain": [
              "                Variable                                                                Definition\n",
              "0            Employee ID                                                     Unique Id of employee\n",
              "1             Department                                                    Department of employee\n",
              "2                 Region                                                     Region of employement\n",
              "3              Education                                                           Education level\n",
              "4                 Gender                                                        Gender of employee\n",
              "5    Recruitment Channel                                        Channel of recruitment of employee\n",
              "6        No of trainings  No of other trainings done in past on soft skills, technical skills etc.\n",
              "7                    Age                                                           Age of employee\n",
              "8   Previous Year Rating                                       Rating of employee in previous year\n",
              "9      Length of service                                                Length of service in years\n",
              "10          KPIs_met>80%              if % of KPI( key performance indicator) > 80%) then 1 else 0\n",
              "11            awards won                           if award won during previous year then 1 else 0\n",
              "12    avg training score                              Average score in current training evaluation\n",
              "13           Is promoted                        (Target variable) Recommended for promotion or not"
            ]
          },
          "metadata": {
            "tags": []
          },
          "execution_count": 5
        }
      ]
    },
    {
      "cell_type": "markdown",
      "metadata": {
        "id": "g6N-V4pHcVXx"
      },
      "source": [
        "## Exhorting the dataset"
      ]
    },
    {
      "cell_type": "code",
      "metadata": {
        "colab": {
          "base_uri": "https://localhost:8080/"
        },
        "id": "tXGnYlGndWXU",
        "outputId": "29ad88d4-e03d-4f21-b4ca-d6e6bf3a046b"
      },
      "source": [
        "prom_df.info()"
      ],
      "execution_count": 6,
      "outputs": [
        {
          "output_type": "stream",
          "text": [
            "<class 'pandas.core.frame.DataFrame'>\n",
            "RangeIndex: 54808 entries, 0 to 54807\n",
            "Data columns (total 14 columns):\n",
            " #   Column                Non-Null Count  Dtype  \n",
            "---  ------                --------------  -----  \n",
            " 0   employee_id           54808 non-null  int64  \n",
            " 1   department            54808 non-null  object \n",
            " 2   region                54808 non-null  object \n",
            " 3   education             52399 non-null  object \n",
            " 4   gender                54808 non-null  object \n",
            " 5   recruitment_channel   54808 non-null  object \n",
            " 6   no_of_trainings       54808 non-null  int64  \n",
            " 7   age                   54808 non-null  int64  \n",
            " 8   previous_year_rating  50684 non-null  float64\n",
            " 9   length_of_service     54808 non-null  int64  \n",
            " 10  KPIs_met >80%         54808 non-null  int64  \n",
            " 11  awards_won?           54808 non-null  int64  \n",
            " 12  avg_training_score    54808 non-null  int64  \n",
            " 13  is_promoted           54808 non-null  int64  \n",
            "dtypes: float64(1), int64(8), object(5)\n",
            "memory usage: 5.9+ MB\n"
          ],
          "name": "stdout"
        }
      ]
    },
    {
      "cell_type": "code",
      "metadata": {
        "colab": {
          "base_uri": "https://localhost:8080/"
        },
        "id": "XmDvwN28d8xL",
        "outputId": "87c981f8-6d73-4283-88a7-a5dfa4067bbf"
      },
      "source": [
        "prom_df.isnull().sum()"
      ],
      "execution_count": 7,
      "outputs": [
        {
          "output_type": "execute_result",
          "data": {
            "text/plain": [
              "employee_id                0\n",
              "department                 0\n",
              "region                     0\n",
              "education               2409\n",
              "gender                     0\n",
              "recruitment_channel        0\n",
              "no_of_trainings            0\n",
              "age                        0\n",
              "previous_year_rating    4124\n",
              "length_of_service          0\n",
              "KPIs_met >80%              0\n",
              "awards_won?                0\n",
              "avg_training_score         0\n",
              "is_promoted                0\n",
              "dtype: int64"
            ]
          },
          "metadata": {
            "tags": []
          },
          "execution_count": 7
        }
      ]
    },
    {
      "cell_type": "markdown",
      "metadata": {
        "id": "c8qoHHCZediW"
      },
      "source": [
        "There are 2409 null values in education.\n",
        "\n",
        "There are 4124 null values in previous year rating"
      ]
    },
    {
      "cell_type": "code",
      "metadata": {
        "id": "OUvlAK0zbfqx"
      },
      "source": [
        "#Employee_id is only the depiction of id of employee and doesn't display any useful information\n",
        "del prom_df['employee_id']"
      ],
      "execution_count": 8,
      "outputs": []
    },
    {
      "cell_type": "code",
      "metadata": {
        "colab": {
          "base_uri": "https://localhost:8080/",
          "height": 455
        },
        "id": "4ERrLcezfSaj",
        "outputId": "7060cd63-be29-407a-dcf6-9553d6e3f265"
      },
      "source": [
        "prom_df.describe(include='all').T"
      ],
      "execution_count": 9,
      "outputs": [
        {
          "output_type": "execute_result",
          "data": {
            "text/html": [
              "<div>\n",
              "<style scoped>\n",
              "    .dataframe tbody tr th:only-of-type {\n",
              "        vertical-align: middle;\n",
              "    }\n",
              "\n",
              "    .dataframe tbody tr th {\n",
              "        vertical-align: top;\n",
              "    }\n",
              "\n",
              "    .dataframe thead th {\n",
              "        text-align: right;\n",
              "    }\n",
              "</style>\n",
              "<table border=\"1\" class=\"dataframe\">\n",
              "  <thead>\n",
              "    <tr style=\"text-align: right;\">\n",
              "      <th></th>\n",
              "      <th>count</th>\n",
              "      <th>unique</th>\n",
              "      <th>top</th>\n",
              "      <th>freq</th>\n",
              "      <th>mean</th>\n",
              "      <th>std</th>\n",
              "      <th>min</th>\n",
              "      <th>25%</th>\n",
              "      <th>50%</th>\n",
              "      <th>75%</th>\n",
              "      <th>max</th>\n",
              "    </tr>\n",
              "  </thead>\n",
              "  <tbody>\n",
              "    <tr>\n",
              "      <th>department</th>\n",
              "      <td>54808</td>\n",
              "      <td>9</td>\n",
              "      <td>Sales &amp; Marketing</td>\n",
              "      <td>16840</td>\n",
              "      <td>NaN</td>\n",
              "      <td>NaN</td>\n",
              "      <td>NaN</td>\n",
              "      <td>NaN</td>\n",
              "      <td>NaN</td>\n",
              "      <td>NaN</td>\n",
              "      <td>NaN</td>\n",
              "    </tr>\n",
              "    <tr>\n",
              "      <th>region</th>\n",
              "      <td>54808</td>\n",
              "      <td>34</td>\n",
              "      <td>region_2</td>\n",
              "      <td>12343</td>\n",
              "      <td>NaN</td>\n",
              "      <td>NaN</td>\n",
              "      <td>NaN</td>\n",
              "      <td>NaN</td>\n",
              "      <td>NaN</td>\n",
              "      <td>NaN</td>\n",
              "      <td>NaN</td>\n",
              "    </tr>\n",
              "    <tr>\n",
              "      <th>education</th>\n",
              "      <td>52399</td>\n",
              "      <td>3</td>\n",
              "      <td>Bachelor's</td>\n",
              "      <td>36669</td>\n",
              "      <td>NaN</td>\n",
              "      <td>NaN</td>\n",
              "      <td>NaN</td>\n",
              "      <td>NaN</td>\n",
              "      <td>NaN</td>\n",
              "      <td>NaN</td>\n",
              "      <td>NaN</td>\n",
              "    </tr>\n",
              "    <tr>\n",
              "      <th>gender</th>\n",
              "      <td>54808</td>\n",
              "      <td>2</td>\n",
              "      <td>m</td>\n",
              "      <td>38496</td>\n",
              "      <td>NaN</td>\n",
              "      <td>NaN</td>\n",
              "      <td>NaN</td>\n",
              "      <td>NaN</td>\n",
              "      <td>NaN</td>\n",
              "      <td>NaN</td>\n",
              "      <td>NaN</td>\n",
              "    </tr>\n",
              "    <tr>\n",
              "      <th>recruitment_channel</th>\n",
              "      <td>54808</td>\n",
              "      <td>3</td>\n",
              "      <td>other</td>\n",
              "      <td>30446</td>\n",
              "      <td>NaN</td>\n",
              "      <td>NaN</td>\n",
              "      <td>NaN</td>\n",
              "      <td>NaN</td>\n",
              "      <td>NaN</td>\n",
              "      <td>NaN</td>\n",
              "      <td>NaN</td>\n",
              "    </tr>\n",
              "    <tr>\n",
              "      <th>no_of_trainings</th>\n",
              "      <td>54808</td>\n",
              "      <td>NaN</td>\n",
              "      <td>NaN</td>\n",
              "      <td>NaN</td>\n",
              "      <td>1.25301</td>\n",
              "      <td>0.609264</td>\n",
              "      <td>1</td>\n",
              "      <td>1</td>\n",
              "      <td>1</td>\n",
              "      <td>1</td>\n",
              "      <td>10</td>\n",
              "    </tr>\n",
              "    <tr>\n",
              "      <th>age</th>\n",
              "      <td>54808</td>\n",
              "      <td>NaN</td>\n",
              "      <td>NaN</td>\n",
              "      <td>NaN</td>\n",
              "      <td>34.8039</td>\n",
              "      <td>7.66017</td>\n",
              "      <td>20</td>\n",
              "      <td>29</td>\n",
              "      <td>33</td>\n",
              "      <td>39</td>\n",
              "      <td>60</td>\n",
              "    </tr>\n",
              "    <tr>\n",
              "      <th>previous_year_rating</th>\n",
              "      <td>50684</td>\n",
              "      <td>NaN</td>\n",
              "      <td>NaN</td>\n",
              "      <td>NaN</td>\n",
              "      <td>3.32926</td>\n",
              "      <td>1.25999</td>\n",
              "      <td>1</td>\n",
              "      <td>3</td>\n",
              "      <td>3</td>\n",
              "      <td>4</td>\n",
              "      <td>5</td>\n",
              "    </tr>\n",
              "    <tr>\n",
              "      <th>length_of_service</th>\n",
              "      <td>54808</td>\n",
              "      <td>NaN</td>\n",
              "      <td>NaN</td>\n",
              "      <td>NaN</td>\n",
              "      <td>5.86551</td>\n",
              "      <td>4.26509</td>\n",
              "      <td>1</td>\n",
              "      <td>3</td>\n",
              "      <td>5</td>\n",
              "      <td>7</td>\n",
              "      <td>37</td>\n",
              "    </tr>\n",
              "    <tr>\n",
              "      <th>KPIs_met &gt;80%</th>\n",
              "      <td>54808</td>\n",
              "      <td>NaN</td>\n",
              "      <td>NaN</td>\n",
              "      <td>NaN</td>\n",
              "      <td>0.351974</td>\n",
              "      <td>0.47759</td>\n",
              "      <td>0</td>\n",
              "      <td>0</td>\n",
              "      <td>0</td>\n",
              "      <td>1</td>\n",
              "      <td>1</td>\n",
              "    </tr>\n",
              "    <tr>\n",
              "      <th>awards_won?</th>\n",
              "      <td>54808</td>\n",
              "      <td>NaN</td>\n",
              "      <td>NaN</td>\n",
              "      <td>NaN</td>\n",
              "      <td>0.0231718</td>\n",
              "      <td>0.15045</td>\n",
              "      <td>0</td>\n",
              "      <td>0</td>\n",
              "      <td>0</td>\n",
              "      <td>0</td>\n",
              "      <td>1</td>\n",
              "    </tr>\n",
              "    <tr>\n",
              "      <th>avg_training_score</th>\n",
              "      <td>54808</td>\n",
              "      <td>NaN</td>\n",
              "      <td>NaN</td>\n",
              "      <td>NaN</td>\n",
              "      <td>63.3868</td>\n",
              "      <td>13.3716</td>\n",
              "      <td>39</td>\n",
              "      <td>51</td>\n",
              "      <td>60</td>\n",
              "      <td>76</td>\n",
              "      <td>99</td>\n",
              "    </tr>\n",
              "    <tr>\n",
              "      <th>is_promoted</th>\n",
              "      <td>54808</td>\n",
              "      <td>NaN</td>\n",
              "      <td>NaN</td>\n",
              "      <td>NaN</td>\n",
              "      <td>0.08517</td>\n",
              "      <td>0.279137</td>\n",
              "      <td>0</td>\n",
              "      <td>0</td>\n",
              "      <td>0</td>\n",
              "      <td>0</td>\n",
              "      <td>1</td>\n",
              "    </tr>\n",
              "  </tbody>\n",
              "</table>\n",
              "</div>"
            ],
            "text/plain": [
              "                      count unique                top  ...  50%  75%  max\n",
              "department            54808      9  Sales & Marketing  ...  NaN  NaN  NaN\n",
              "region                54808     34           region_2  ...  NaN  NaN  NaN\n",
              "education             52399      3         Bachelor's  ...  NaN  NaN  NaN\n",
              "gender                54808      2                  m  ...  NaN  NaN  NaN\n",
              "recruitment_channel   54808      3              other  ...  NaN  NaN  NaN\n",
              "no_of_trainings       54808    NaN                NaN  ...    1    1   10\n",
              "age                   54808    NaN                NaN  ...   33   39   60\n",
              "previous_year_rating  50684    NaN                NaN  ...    3    4    5\n",
              "length_of_service     54808    NaN                NaN  ...    5    7   37\n",
              "KPIs_met >80%         54808    NaN                NaN  ...    0    1    1\n",
              "awards_won?           54808    NaN                NaN  ...    0    0    1\n",
              "avg_training_score    54808    NaN                NaN  ...   60   76   99\n",
              "is_promoted           54808    NaN                NaN  ...    0    0    1\n",
              "\n",
              "[13 rows x 11 columns]"
            ]
          },
          "metadata": {
            "tags": []
          },
          "execution_count": 9
        }
      ]
    },
    {
      "cell_type": "markdown",
      "metadata": {
        "id": "xAPbG6IgfzA8"
      },
      "source": [
        "## Exploratory data analysis(EDA)"
      ]
    },
    {
      "cell_type": "markdown",
      "metadata": {
        "id": "T9N5Uy8xf9uD"
      },
      "source": [
        "### Univariate Analysis"
      ]
    },
    {
      "cell_type": "code",
      "metadata": {
        "colab": {
          "base_uri": "https://localhost:8080/",
          "height": 695
        },
        "id": "hDPXUoJ3b2oH",
        "outputId": "2146718f-d0fc-4b3f-8b2d-9505834cb76f"
      },
      "source": [
        "print(prom_df['department'].value_counts())\n",
        "sns.set_style(style='darkgrid')\n",
        "fig=plt.figure(figsize=(11,8))\n",
        "ax=plt.axes()\n",
        "sns.countplot(x=\"department\",data=prom_df,orient='v',palette=\"Set2\",saturation=1,ax=ax)\n",
        "plt.xlabel(\"Department\")\n",
        "plt.ylabel(\"Count\")\n",
        "plt.title(\"Department count\")\n",
        "i=0\n",
        "lis=[0,1,2,4,8,3,5,6,7]\n",
        "for p in ax.patches:\n",
        "    height = p.get_height()\n",
        "    ax.text(p.get_x()+p.get_width()/2., height + 0.1,\n",
        "        prom_df['department'].value_counts()[lis[i]],ha=\"center\")\n",
        "    i += 1\n",
        "\n",
        "\n",
        "\n",
        "\n"
      ],
      "execution_count": 10,
      "outputs": [
        {
          "output_type": "stream",
          "text": [
            "Sales & Marketing    16840\n",
            "Operations           11348\n",
            "Technology            7138\n",
            "Procurement           7138\n",
            "Analytics             5352\n",
            "Finance               2536\n",
            "HR                    2418\n",
            "Legal                 1039\n",
            "R&D                    999\n",
            "Name: department, dtype: int64\n"
          ],
          "name": "stdout"
        },
        {
          "output_type": "display_data",
          "data": {
            "image/png": "[encoded data removed]",
            "text/plain": [
              "<Figure size 792x576 with 1 Axes>"
            ]
          },
          "metadata": {
            "tags": []
          }
        }
      ]
    },
    {
      "cell_type": "markdown",
      "metadata": {
        "id": "Y1RaiRDacD91"
      },
      "source": [
        "**There are in total 9 departments in company. The various departments along with their value counts is also shown**"
      ]
    },
    {
      "cell_type": "code",
      "metadata": {
        "colab": {
          "base_uri": "https://localhost:8080/"
        },
        "id": "ezQG_IcOqups",
        "outputId": "d1e0c2bc-5ccd-4003-b6a2-3f9088d8b042"
      },
      "source": [
        "prom_df['region'].unique()"
      ],
      "execution_count": 11,
      "outputs": [
        {
          "output_type": "execute_result",
          "data": {
            "text/plain": [
              "array(['region_7', 'region_22', 'region_19', 'region_23', 'region_26',\n",
              "       'region_2', 'region_20', 'region_34', 'region_1', 'region_4',\n",
              "       'region_29', 'region_31', 'region_15', 'region_14', 'region_11',\n",
              "       'region_5', 'region_28', 'region_17', 'region_13', 'region_16',\n",
              "       'region_25', 'region_10', 'region_27', 'region_30', 'region_12',\n",
              "       'region_21', 'region_8', 'region_32', 'region_6', 'region_33',\n",
              "       'region_24', 'region_3', 'region_9', 'region_18'], dtype=object)"
            ]
          },
          "metadata": {
            "tags": []
          },
          "execution_count": 11
        }
      ]
    },
    {
      "cell_type": "markdown",
      "metadata": {
        "id": "ELb_YbxmqzVp"
      },
      "source": [
        "**It may be better to convert these region names into numbers corresponding to those regions**"
      ]
    },
    {
      "cell_type": "code",
      "metadata": {
        "id": "T4XVnEmhtCDI"
      },
      "source": [
        "prom_df['region']=prom_df['region'].str[7:]"
      ],
      "execution_count": 12,
      "outputs": []
    },
    {
      "cell_type": "code",
      "metadata": {
        "colab": {
          "base_uri": "https://localhost:8080/",
          "height": 1000
        },
        "id": "OD2P6hdecqyO",
        "outputId": "fc38fd26-9c46-4ea5-a66c-27eaa43dd08a"
      },
      "source": [
        "\n",
        "print(prom_df['region'].value_counts())\n",
        "sns.set_style(style='darkgrid')\n",
        "fig=plt.figure(figsize=(11,8))\n",
        "ax=plt.axes()\n",
        "sns.countplot(x=\"region\",data=prom_df,orient='v',palette=\"Set2\",saturation=1,ax=ax)\n",
        "plt.xlabel(\"region\")\n",
        "plt.ylabel(\"Count\")\n",
        "plt.xticks(rotation=90)\n",
        "plt.title(\"Region count\")\n"
      ],
      "execution_count": 13,
      "outputs": [
        {
          "output_type": "stream",
          "text": [
            "2     12343\n",
            "22     6428\n",
            "7      4843\n",
            "15     2808\n",
            "13     2648\n",
            "26     2260\n",
            "31     1935\n",
            "4      1703\n",
            "27     1659\n",
            "16     1465\n",
            "28     1318\n",
            "11     1315\n",
            "23     1175\n",
            "29      994\n",
            "32      945\n",
            "19      874\n",
            "20      850\n",
            "14      827\n",
            "25      819\n",
            "17      796\n",
            "5       766\n",
            "6       690\n",
            "30      657\n",
            "8       655\n",
            "10      648\n",
            "1       610\n",
            "24      508\n",
            "12      500\n",
            "9       420\n",
            "21      411\n",
            "3       346\n",
            "34      292\n",
            "33      269\n",
            "18       31\n",
            "Name: region, dtype: int64\n"
          ],
          "name": "stdout"
        },
        {
          "output_type": "execute_result",
          "data": {
            "text/plain": [
              "Text(0.5, 1.0, 'Region count')"
            ]
          },
          "metadata": {
            "tags": []
          },
          "execution_count": 13
        },
        {
          "output_type": "display_data",
          "data": {
            "image/png": "[encoded data removed]",
            "text/plain": [
              "<Figure size 792x576 with 1 Axes>"
            ]
          },
          "metadata": {
            "tags": []
          }
        }
      ]
    },
    {
      "cell_type": "markdown",
      "metadata": {
        "id": "zVoUXywLc_A0"
      },
      "source": [
        "**In total, there are 34 region of employments. The various regions along with employee count is shown above**"
      ]
    },
    {
      "cell_type": "code",
      "metadata": {
        "colab": {
          "base_uri": "https://localhost:8080/",
          "height": 604
        },
        "id": "1_kmq1YSt4Mh",
        "outputId": "3b45a811-232a-4171-f2b9-11015f45dfe6"
      },
      "source": [
        "print(prom_df['education'].value_counts(dropna=False))\n",
        "sns.set_style(style='darkgrid')\n",
        "fig=plt.figure(figsize=(11,8))\n",
        "ax=plt.axes()\n",
        "sns.countplot(x='education',data=prom_df,orient='v',palette=\"Set2\",ax=ax)\n",
        "plt.xlabel(\"education\")\n",
        "plt.ylabel(\"Employee Count\")\n",
        "plt.title(\"Education vs frequency\")\n",
        "lis=[1,0,2]\n",
        "i=0\n",
        "for p in ax.patches:\n",
        "    height = p.get_height()\n",
        "    ax.text(p.get_x()+p.get_width()/2., height + 0.1,\n",
        "        prom_df['education'].value_counts()[lis[i]],ha=\"center\")\n",
        "    i += 1\n"
      ],
      "execution_count": 14,
      "outputs": [
        {
          "output_type": "stream",
          "text": [
            "Bachelor's          36669\n",
            "Master's & above    14925\n",
            "NaN                  2409\n",
            "Below Secondary       805\n",
            "Name: education, dtype: int64\n"
          ],
          "name": "stdout"
        },
        {
          "output_type": "display_data",
          "data": {
            "image/png": "[encoded data removed]",
            "text/plain": [
              "<Figure size 792x576 with 1 Axes>"
            ]
          },
          "metadata": {
            "tags": []
          }
        }
      ]
    },
    {
      "cell_type": "markdown",
      "metadata": {
        "id": "eI_vh6MydjrT"
      },
      "source": [
        "**A person may have three kinds of education:**\n",
        "\n",
        "\n",
        "1.   Masters and above\n",
        "2.   Bachelor's\n",
        "3.   Below secondary\n",
        "*nan* indicates missing values\n",
        "\n"
      ]
    },
    {
      "cell_type": "code",
      "metadata": {
        "colab": {
          "base_uri": "https://localhost:8080/",
          "height": 321
        },
        "id": "Q-c-OxMMdc4W",
        "outputId": "b2538e84-27f0-4133-b1a0-4b3f19a5fd60"
      },
      "source": [
        "print(prom_df['gender'].value_counts())\n",
        "fig=plt.figure()\n",
        "ax=plt.axes()\n",
        "data=prom_df['gender'].value_counts().values\n",
        "labels=prom_df['gender'].value_counts().index\n",
        "explode=[.2,0]\n",
        "plt.pie(x=data,labels=labels,explode=explode,startangle=90,colors=['chartreuse','darkorchid'],autopct='%.2f%%')\n",
        "plt.legend()"
      ],
      "execution_count": 15,
      "outputs": [
        {
          "output_type": "stream",
          "text": [
            "m    38496\n",
            "f    16312\n",
            "Name: gender, dtype: int64\n"
          ],
          "name": "stdout"
        },
        {
          "output_type": "execute_result",
          "data": {
            "text/plain": [
              "<matplotlib.legend.Legend at 0x7fb4d666f590>"
            ]
          },
          "metadata": {
            "tags": []
          },
          "execution_count": 15
        },
        {
          "output_type": "display_data",
          "data": {
            "image/png": "[encoded data removed]",
            "text/plain": [
              "<Figure size 432x288 with 1 Axes>"
            ]
          },
          "metadata": {
            "tags": []
          }
        }
      ]
    },
    {
      "cell_type": "markdown",
      "metadata": {
        "id": "3uvmQBzKeDKW"
      },
      "source": [
        "**The two gender along with their percentages is shown above**"
      ]
    },
    {
      "cell_type": "code",
      "metadata": {
        "colab": {
          "base_uri": "https://localhost:8080/",
          "height": 585
        },
        "id": "hzj7vY64d_wr",
        "outputId": "9d0ac277-082f-4aa0-b698-d2386b71e0e8"
      },
      "source": [
        "print(prom_df['recruitment_channel'].value_counts())\n",
        "sns.set_style(style='darkgrid')\n",
        "fig=plt.figure(figsize=(11,8))\n",
        "ax=plt.axes()\n",
        "sns.countplot(x=\"recruitment_channel\",data=prom_df,orient='v',palette=\"Set2\",saturation=1,ax=ax)\n",
        "plt.xlabel(\"Recruitment Channel\")\n",
        "plt.ylabel(\"Count\")\n",
        "plt.title(\"Recruitment channel vs frequency\")\n",
        "i=0\n",
        "lis=[1,0,2]\n",
        "for p in ax.patches:\n",
        "    height = p.get_height()\n",
        "    ax.text(p.get_x()+p.get_width()/2., height + 0.1,\n",
        "        prom_df['recruitment_channel'].value_counts()[lis[i]],ha=\"center\")\n",
        "    i += 1\n"
      ],
      "execution_count": 16,
      "outputs": [
        {
          "output_type": "stream",
          "text": [
            "other       30446\n",
            "sourcing    23220\n",
            "referred     1142\n",
            "Name: recruitment_channel, dtype: int64\n"
          ],
          "name": "stdout"
        },
        {
          "output_type": "display_data",
          "data": {
            "image/png": "[encoded data removed]",
            "text/plain": [
              "<Figure size 792x576 with 1 Axes>"
            ]
          },
          "metadata": {
            "tags": []
          }
        }
      ]
    },
    {
      "cell_type": "markdown",
      "metadata": {
        "id": "KdlwiZP9eZgj"
      },
      "source": [
        "Recruitment channel denotes the way employee was admitted to the company.\n",
        "The channels are:\n",
        "1. Sourcing\n",
        "2. Referred\n",
        "3. Others( denoting some other ways)"
      ]
    },
    {
      "cell_type": "code",
      "metadata": {
        "colab": {
          "base_uri": "https://localhost:8080/",
          "height": 731
        },
        "id": "-30bU8lIeW1D",
        "outputId": "a2c19d91-63ff-476b-ba5f-f3728c6b9192"
      },
      "source": [
        "print(prom_df['no_of_trainings'].value_counts())\n",
        "sns.set_style(style='darkgrid')\n",
        "fig=plt.figure(figsize=(11,8))\n",
        "ax=plt.axes()\n",
        "sns.countplot(x=\"no_of_trainings\",data=prom_df,orient='v',palette=\"Set2\",saturation=1,ax=ax)\n",
        "plt.xlabel(\"No of trainings\")\n",
        "plt.ylabel(\"Count\")\n",
        "plt.title(\"No of trainings vs frequency\")"
      ],
      "execution_count": 17,
      "outputs": [
        {
          "output_type": "stream",
          "text": [
            "1     44378\n",
            "2      7987\n",
            "3      1776\n",
            "4       468\n",
            "5       128\n",
            "6        44\n",
            "7        12\n",
            "10        5\n",
            "9         5\n",
            "8         5\n",
            "Name: no_of_trainings, dtype: int64\n"
          ],
          "name": "stdout"
        },
        {
          "output_type": "execute_result",
          "data": {
            "text/plain": [
              "Text(0.5, 1.0, 'No of trainings vs frequency')"
            ]
          },
          "metadata": {
            "tags": []
          },
          "execution_count": 17
        },
        {
          "output_type": "display_data",
          "data": {
            "image/png": "[encoded data removed]",
            "text/plain": [
              "<Figure size 792x576 with 1 Axes>"
            ]
          },
          "metadata": {
            "tags": []
          }
        }
      ]
    },
    {
      "cell_type": "markdown",
      "metadata": {
        "id": "4vCaMtZBe8gv"
      },
      "source": [
        "The column denotes the number of past training the employee had.\n",
        "There is minimum of 1 and maximum of 10 training among all the employees of a company"
      ]
    },
    {
      "cell_type": "code",
      "metadata": {
        "colab": {
          "base_uri": "https://localhost:8080/"
        },
        "id": "aUwll799e56s",
        "outputId": "46ceab2e-a3a7-4a86-d886-78ac32e61e1e"
      },
      "source": [
        "print(prom_df['age'].min())\n",
        "print(prom_df['age'].max())"
      ],
      "execution_count": 18,
      "outputs": [
        {
          "output_type": "stream",
          "text": [
            "20\n",
            "60\n"
          ],
          "name": "stdout"
        }
      ]
    },
    {
      "cell_type": "markdown",
      "metadata": {
        "id": "b46l0nkBflGA"
      },
      "source": [
        "**All employees of the company lies in the age range of 20-60**"
      ]
    },
    {
      "cell_type": "code",
      "metadata": {
        "id": "095q9TCOwspH"
      },
      "source": [
        "count,bins=np.histogram(a=prom_df['age'],bins=[20,25,30,35,40,45,50,55,60])"
      ],
      "execution_count": 19,
      "outputs": []
    },
    {
      "cell_type": "code",
      "metadata": {
        "colab": {
          "base_uri": "https://localhost:8080/"
        },
        "id": "CoHV-PsuxSAm",
        "outputId": "5c7044de-0b19-437c-a8fb-cb667b8d283e"
      },
      "source": [
        "bins"
      ],
      "execution_count": 20,
      "outputs": [
        {
          "output_type": "execute_result",
          "data": {
            "text/plain": [
              "array([20, 25, 30, 35, 40, 45, 50, 55, 60])"
            ]
          },
          "metadata": {
            "tags": []
          },
          "execution_count": 20
        }
      ]
    },
    {
      "cell_type": "code",
      "metadata": {
        "colab": {
          "base_uri": "https://localhost:8080/"
        },
        "id": "dU9prQYTxTmm",
        "outputId": "d742a385-af0e-4a38-cb1c-25729873047d"
      },
      "source": [
        "count"
      ],
      "execution_count": 21,
      "outputs": [
        {
          "output_type": "execute_result",
          "data": {
            "text/plain": [
              "array([ 1715, 12738, 17019, 11011,  5940,  3012,  1938,  1435])"
            ]
          },
          "metadata": {
            "tags": []
          },
          "execution_count": 21
        }
      ]
    },
    {
      "cell_type": "code",
      "metadata": {
        "colab": {
          "base_uri": "https://localhost:8080/",
          "height": 404
        },
        "id": "TntdRuy9qkLU",
        "outputId": "82ceca7f-1811-4f38-9157-3f808c0c31e4"
      },
      "source": [
        "fig=plt.figure(figsize=(10,6))\n",
        "ax=plt.axes()\n",
        "plt.hist(x=prom_df['age'],bins=bins,color='lime')\n",
        "plt.xlabel(\"Age\")\n",
        "plt.ylabel(\"Frequency\")\n",
        "plt.title(\"Age distribution\")\n",
        "i=0\n",
        "lis=count\n",
        "for p in ax.patches:\n",
        "    height = p.get_height()\n",
        "    ax.text(p.get_x()+p.get_width()/2., height + 0.1,\n",
        "        lis[i],ha=\"center\")\n",
        "    i += 1\n",
        "\n"
      ],
      "execution_count": 22,
      "outputs": [
        {
          "output_type": "display_data",
          "data": {
            "image/png": "[encoded data removed]",
            "text/plain": [
              "<Figure size 720x432 with 1 Axes>"
            ]
          },
          "metadata": {
            "tags": []
          }
        }
      ]
    },
    {
      "cell_type": "code",
      "metadata": {
        "colab": {
          "base_uri": "https://localhost:8080/"
        },
        "id": "i_YF3k01fXEk",
        "outputId": "967da475-4ca0-4bba-d66d-4c7368f59f6f"
      },
      "source": [
        "prom_df['previous_year_rating'].value_counts(dropna=False)"
      ],
      "execution_count": 23,
      "outputs": [
        {
          "output_type": "execute_result",
          "data": {
            "text/plain": [
              "3.0    18618\n",
              "5.0    11741\n",
              "4.0     9877\n",
              "1.0     6223\n",
              "2.0     4225\n",
              "NaN     4124\n",
              "Name: previous_year_rating, dtype: int64"
            ]
          },
          "metadata": {
            "tags": []
          },
          "execution_count": 23
        }
      ]
    },
    {
      "cell_type": "code",
      "metadata": {
        "colab": {
          "base_uri": "https://localhost:8080/",
          "height": 514
        },
        "id": "nQiQc7np5u57",
        "outputId": "81579c4d-112d-40a9-e01c-6700726916ff"
      },
      "source": [
        "fig=plt.figure(figsize=(11,8))\n",
        "ax=plt.axes()\n",
        "sns.countplot(x=\"previous_year_rating\",data=prom_df,orient='v',palette=\"Set2\",saturation=1,ax=ax)\n",
        "plt.xlabel(\"previous_year_rating\")\n",
        "plt.ylabel(\"Frequency\")\n",
        "plt.title(\"Previous Year rating vs frequency\")\n",
        "i=0\n",
        "lis=[6223,4225,18618,9877,11741]\n",
        "for p in ax.patches:\n",
        "    height = p.get_height()\n",
        "    ax.text(p.get_x()+p.get_width()/2., height + 0.1,\n",
        "        lis[i],ha=\"center\")\n",
        "    i += 1\n"
      ],
      "execution_count": 24,
      "outputs": [
        {
          "output_type": "display_data",
          "data": {
            "image/png": "[encoded data removed]",
            "text/plain": [
              "<Figure size 792x576 with 1 Axes>"
            ]
          },
          "metadata": {
            "tags": []
          }
        }
      ]
    },
    {
      "cell_type": "markdown",
      "metadata": {
        "id": "p5Kj2Iv_gAv2"
      },
      "source": [
        "**The rating scale used by company in this case lies in range 1-5.**\n",
        "*nan denotes missing or empty value*"
      ]
    },
    {
      "cell_type": "code",
      "metadata": {
        "colab": {
          "base_uri": "https://localhost:8080/"
        },
        "id": "4BZAc9x9f730",
        "outputId": "23af72ec-fd5e-4bf8-ea7d-f6572107aec4"
      },
      "source": [
        "print(prom_df['length_of_service'].min())\n",
        "print(prom_df['length_of_service'].max())"
      ],
      "execution_count": 25,
      "outputs": [
        {
          "output_type": "stream",
          "text": [
            "1\n",
            "37\n"
          ],
          "name": "stdout"
        }
      ]
    },
    {
      "cell_type": "code",
      "metadata": {
        "colab": {
          "base_uri": "https://localhost:8080/",
          "height": 404
        },
        "id": "X38o4zir7HrL",
        "outputId": "689fa88c-a793-403d-b5d2-8d39f5455003"
      },
      "source": [
        "count,bins=np.histogram(a=prom_df['length_of_service'],bins=np.arange(start=1,stop=38,step=2))\n",
        "fig=plt.figure(figsize=(10,6))\n",
        "ax=plt.axes()\n",
        "plt.hist(x=prom_df['length_of_service'],bins=bins,color='indigo')\n",
        "plt.xlabel(\"Length of service\")\n",
        "plt.ylabel(\"Frequency\")\n",
        "plt.title(\"Length of service distribution\")\n",
        "plt.xticks(ticks=bins)\n",
        "i=0\n",
        "lis=count\n",
        "for p in ax.patches:\n",
        "    height = p.get_height()\n",
        "    ax.text(p.get_x()+p.get_width()/2., height + 0.1,\n",
        "        lis[i],ha=\"center\")\n",
        "    i += 1"
      ],
      "execution_count": 26,
      "outputs": [
        {
          "output_type": "display_data",
          "data": {
            "image/png": "[encoded data removed]",
            "text/plain": [
              "<Figure size 720x432 with 1 Axes>"
            ]
          },
          "metadata": {
            "tags": []
          }
        }
      ]
    },
    {
      "cell_type": "markdown",
      "metadata": {
        "id": "hCk0zj1igx6I"
      },
      "source": [
        "**Time period for which employees serving the company lies in range of 1-37 years**"
      ]
    },
    {
      "cell_type": "code",
      "metadata": {
        "colab": {
          "base_uri": "https://localhost:8080/"
        },
        "id": "5nyqa39kgjyf",
        "outputId": "c6ef366c-a0fd-4472-f4f5-4afe4c3d6b2c"
      },
      "source": [
        "prom_df['KPIs_met >80%'].unique()"
      ],
      "execution_count": 27,
      "outputs": [
        {
          "output_type": "execute_result",
          "data": {
            "text/plain": [
              "array([1, 0])"
            ]
          },
          "metadata": {
            "tags": []
          },
          "execution_count": 27
        }
      ]
    },
    {
      "cell_type": "code",
      "metadata": {
        "colab": {
          "base_uri": "https://localhost:8080/",
          "height": 321
        },
        "id": "ny2TNyYv8T_5",
        "outputId": "bdf55d58-2c31-4746-d70b-5644717a50d4"
      },
      "source": [
        "print(prom_df['KPIs_met >80%'].value_counts())\n",
        "fig=plt.figure()\n",
        "ax=plt.axes()\n",
        "data=prom_df['KPIs_met >80%'].value_counts().values\n",
        "labels=prom_df['KPIs_met >80%'].value_counts().index\n",
        "explode=[.2,0]\n",
        "plt.pie(x=data,labels=labels,explode=explode,startangle=90,colors=['slateblue','darkorange'],autopct='%.2f%%')\n",
        "plt.legend()"
      ],
      "execution_count": 28,
      "outputs": [
        {
          "output_type": "stream",
          "text": [
            "0    35517\n",
            "1    19291\n",
            "Name: KPIs_met >80%, dtype: int64\n"
          ],
          "name": "stdout"
        },
        {
          "output_type": "execute_result",
          "data": {
            "text/plain": [
              "<matplotlib.legend.Legend at 0x7fb4d6323f50>"
            ]
          },
          "metadata": {
            "tags": []
          },
          "execution_count": 28
        },
        {
          "output_type": "display_data",
          "data": {
            "image/png": "[encoded data removed]",
            "text/plain": [
              "<Figure size 432x288 with 1 Axes>"
            ]
          },
          "metadata": {
            "tags": []
          }
        }
      ]
    },
    {
      "cell_type": "markdown",
      "metadata": {
        "id": "LgYEqTjOh3le"
      },
      "source": [
        "*KPI indicates key performance indicator.*\n",
        "**The column indicates if the percentage of KPI is greater than 80% or not. If yes, then 1 otherwise 0**"
      ]
    },
    {
      "cell_type": "code",
      "metadata": {
        "colab": {
          "base_uri": "https://localhost:8080/"
        },
        "id": "SmS2te8KhHZS",
        "outputId": "46f18b73-1456-4cb2-941b-120fc2aa9a5e"
      },
      "source": [
        "prom_df['awards_won?'].unique()"
      ],
      "execution_count": 29,
      "outputs": [
        {
          "output_type": "execute_result",
          "data": {
            "text/plain": [
              "array([0, 1])"
            ]
          },
          "metadata": {
            "tags": []
          },
          "execution_count": 29
        }
      ]
    },
    {
      "cell_type": "code",
      "metadata": {
        "colab": {
          "base_uri": "https://localhost:8080/",
          "height": 322
        },
        "id": "Bg7cDUmG86s7",
        "outputId": "c537726b-89b7-402d-a636-d90b3ff9b642"
      },
      "source": [
        "print(prom_df['awards_won?'].value_counts())\n",
        "fig=plt.figure()\n",
        "ax=plt.axes()\n",
        "data=prom_df['awards_won?'].value_counts().values\n",
        "labels=prom_df['awards_won?'].value_counts().index\n",
        "explode=[.1,0]\n",
        "plt.pie(x=data,labels=labels,explode=explode,startangle=90,colors=['slateblue','darkorange'],autopct='%.2f%%')\n",
        "plt.legend()"
      ],
      "execution_count": 30,
      "outputs": [
        {
          "output_type": "stream",
          "text": [
            "0    53538\n",
            "1     1270\n",
            "Name: awards_won?, dtype: int64\n"
          ],
          "name": "stdout"
        },
        {
          "output_type": "execute_result",
          "data": {
            "text/plain": [
              "<matplotlib.legend.Legend at 0x7fb4d62fa8d0>"
            ]
          },
          "metadata": {
            "tags": []
          },
          "execution_count": 30
        },
        {
          "output_type": "display_data",
          "data": {
            "image/png": "[encoded data removed]",
            "text/plain": [
              "<Figure size 432x288 with 1 Axes>"
            ]
          },
          "metadata": {
            "tags": []
          }
        }
      ]
    },
    {
      "cell_type": "markdown",
      "metadata": {
        "id": "9IYOEke_iUyu"
      },
      "source": [
        "**The column indicate whether employee had won an award in the past or not. If yes, then 1 otherwise 0**"
      ]
    },
    {
      "cell_type": "code",
      "metadata": {
        "colab": {
          "base_uri": "https://localhost:8080/"
        },
        "id": "XyrpgllsiS4k",
        "outputId": "72c29f49-907a-4996-9ea5-8e553d8e328e"
      },
      "source": [
        "print(prom_df['avg_training_score'].min())\n",
        "print(prom_df['avg_training_score'].max())"
      ],
      "execution_count": 31,
      "outputs": [
        {
          "output_type": "stream",
          "text": [
            "39\n",
            "99\n"
          ],
          "name": "stdout"
        }
      ]
    },
    {
      "cell_type": "code",
      "metadata": {
        "colab": {
          "base_uri": "https://localhost:8080/",
          "height": 404
        },
        "id": "qNZ-MiZq9V98",
        "outputId": "1718f62e-07ad-409e-953d-8381de1e505c"
      },
      "source": [
        "count,bins=np.histogram(a=prom_df['avg_training_score'],bins=np.arange(start=35,stop=100,step=4))\n",
        "fig=plt.figure(figsize=(10,6))\n",
        "ax=plt.axes()\n",
        "plt.hist(x=prom_df['avg_training_score'],bins=bins,color='indigo')\n",
        "plt.xlabel(\"Average training score\")\n",
        "plt.ylabel(\"Frequency\")\n",
        "plt.title(\"Training score distribution\")\n",
        "plt.xticks(ticks=bins)\n",
        "i=0\n",
        "lis=count\n",
        "for p in ax.patches:\n",
        "    height = p.get_height()\n",
        "    ax.text(p.get_x()+p.get_width()/2., height + 0.1,\n",
        "        lis[i],ha=\"center\")\n",
        "    i += 1"
      ],
      "execution_count": 32,
      "outputs": [
        {
          "output_type": "display_data",
          "data": {
            "image/png": "[encoded data removed]",
            "text/plain": [
              "<Figure size 720x432 with 1 Axes>"
            ]
          },
          "metadata": {
            "tags": []
          }
        }
      ]
    },
    {
      "cell_type": "markdown",
      "metadata": {
        "id": "wNDLFAJIizsd"
      },
      "source": [
        "The column denote the training score an employee get out of 100 in current evaluation.\n",
        "**Max value is 99.**\n",
        "**Min value is 39.**"
      ]
    },
    {
      "cell_type": "code",
      "metadata": {
        "colab": {
          "base_uri": "https://localhost:8080/"
        },
        "id": "PLH3ZgHqiksb",
        "outputId": "e3a2ce87-6878-43bc-868e-38f54e472475"
      },
      "source": [
        "prom_df['is_promoted'].unique()\n"
      ],
      "execution_count": 33,
      "outputs": [
        {
          "output_type": "execute_result",
          "data": {
            "text/plain": [
              "array([0, 1])"
            ]
          },
          "metadata": {
            "tags": []
          },
          "execution_count": 33
        }
      ]
    },
    {
      "cell_type": "code",
      "metadata": {
        "colab": {
          "base_uri": "https://localhost:8080/",
          "height": 326
        },
        "id": "2HBtkkVL-TXT",
        "outputId": "fd60f38e-469d-4248-ce38-451a2d827147"
      },
      "source": [
        "print(prom_df['is_promoted'].value_counts())\n",
        "fig=plt.figure()\n",
        "ax=plt.axes()\n",
        "data=prom_df['is_promoted'].value_counts().values\n",
        "labels=prom_df['is_promoted'].value_counts().index\n",
        "explode=[.2,0]\n",
        "plt.pie(x=data,labels=labels,explode=explode,startangle=90,colors=['crimson','darkorange'],autopct='%.2f%%')\n",
        "plt.legend()"
      ],
      "execution_count": 34,
      "outputs": [
        {
          "output_type": "stream",
          "text": [
            "0    50140\n",
            "1     4668\n",
            "Name: is_promoted, dtype: int64\n"
          ],
          "name": "stdout"
        },
        {
          "output_type": "execute_result",
          "data": {
            "text/plain": [
              "<matplotlib.legend.Legend at 0x7fb4d61fb710>"
            ]
          },
          "metadata": {
            "tags": []
          },
          "execution_count": 34
        },
        {
          "output_type": "display_data",
          "data": {
            "image/png": "[encoded data removed]",
            "text/plain": [
              "<Figure size 432x288 with 1 Axes>"
            ]
          },
          "metadata": {
            "tags": []
          }
        }
      ]
    },
    {
      "cell_type": "markdown",
      "metadata": {
        "id": "THBDEJMIjS9P"
      },
      "source": [
        "This is the *target* column.\n",
        "**Based on the various factors listed before, the goal is to predict whether an employee is promoted or not.**"
      ]
    },
    {
      "cell_type": "markdown",
      "metadata": {
        "id": "GpxJ9BqhBfLG"
      },
      "source": [
        "### Bivariate Analysis"
      ]
    },
    {
      "cell_type": "code",
      "metadata": {
        "id": "s8s1eGYrjRkl"
      },
      "source": [
        "def my_func(x):\n",
        "  return np.mean(x)*100\n",
        "table=pd.pivot_table(data=prom_df,index=\"department\",values=\"is_promoted\",aggfunc=my_func)\n",
        "table.sort_values(by='is_promoted',axis=0,inplace=True,ascending=False)"
      ],
      "execution_count": 35,
      "outputs": []
    },
    {
      "cell_type": "code",
      "metadata": {
        "colab": {
          "base_uri": "https://localhost:8080/",
          "height": 348
        },
        "id": "CLM-phLmh1aB",
        "outputId": "00d5cefa-be13-4bd4-cd2e-50a429ee073d"
      },
      "source": [
        "table"
      ],
      "execution_count": 36,
      "outputs": [
        {
          "output_type": "execute_result",
          "data": {
            "text/html": [
              "<div>\n",
              "<style scoped>\n",
              "    .dataframe tbody tr th:only-of-type {\n",
              "        vertical-align: middle;\n",
              "    }\n",
              "\n",
              "    .dataframe tbody tr th {\n",
              "        vertical-align: top;\n",
              "    }\n",
              "\n",
              "    .dataframe thead th {\n",
              "        text-align: right;\n",
              "    }\n",
              "</style>\n",
              "<table border=\"1\" class=\"dataframe\">\n",
              "  <thead>\n",
              "    <tr style=\"text-align: right;\">\n",
              "      <th></th>\n",
              "      <th>is_promoted</th>\n",
              "    </tr>\n",
              "    <tr>\n",
              "      <th>department</th>\n",
              "      <th></th>\n",
              "    </tr>\n",
              "  </thead>\n",
              "  <tbody>\n",
              "    <tr>\n",
              "      <th>Technology</th>\n",
              "      <td>10.759316</td>\n",
              "    </tr>\n",
              "    <tr>\n",
              "      <th>Procurement</th>\n",
              "      <td>9.638554</td>\n",
              "    </tr>\n",
              "    <tr>\n",
              "      <th>Analytics</th>\n",
              "      <td>9.566517</td>\n",
              "    </tr>\n",
              "    <tr>\n",
              "      <th>Operations</th>\n",
              "      <td>9.014804</td>\n",
              "    </tr>\n",
              "    <tr>\n",
              "      <th>Finance</th>\n",
              "      <td>8.123028</td>\n",
              "    </tr>\n",
              "    <tr>\n",
              "      <th>Sales &amp; Marketing</th>\n",
              "      <td>7.203088</td>\n",
              "    </tr>\n",
              "    <tr>\n",
              "      <th>R&amp;D</th>\n",
              "      <td>6.906907</td>\n",
              "    </tr>\n",
              "    <tr>\n",
              "      <th>HR</th>\n",
              "      <td>5.624483</td>\n",
              "    </tr>\n",
              "    <tr>\n",
              "      <th>Legal</th>\n",
              "      <td>5.101059</td>\n",
              "    </tr>\n",
              "  </tbody>\n",
              "</table>\n",
              "</div>"
            ],
            "text/plain": [
              "                   is_promoted\n",
              "department                    \n",
              "Technology           10.759316\n",
              "Procurement           9.638554\n",
              "Analytics             9.566517\n",
              "Operations            9.014804\n",
              "Finance               8.123028\n",
              "Sales & Marketing     7.203088\n",
              "R&D                   6.906907\n",
              "HR                    5.624483\n",
              "Legal                 5.101059"
            ]
          },
          "metadata": {
            "tags": []
          },
          "execution_count": 36
        }
      ]
    },
    {
      "cell_type": "code",
      "metadata": {
        "colab": {
          "base_uri": "https://localhost:8080/",
          "height": 395
        },
        "id": "Mev0ph2FYfBD",
        "outputId": "aa7b50a7-99b0-4460-b4db-07d3912f678e"
      },
      "source": [
        "fig=plt.figure()\n",
        "ax=plt.axes()\n",
        "table.plot(kind='bar',color=['aquamarine','teal'],ax=ax)\n",
        "plt.xlabel(\"Department\")\n",
        "plt.ylabel(\"Percentage promoted\")\n",
        "plt.yticks(ticks=[0,2,4,6,8,10],labels=['0%','2%','4%','6%','8%','10%'])\n",
        "plt.title(\"% of employees promoted( based on department\")"
      ],
      "execution_count": 37,
      "outputs": [
        {
          "output_type": "execute_result",
          "data": {
            "text/plain": [
              "Text(0.5, 1.0, '% of employees promoted( based on department')"
            ]
          },
          "metadata": {
            "tags": []
          },
          "execution_count": 37
        },
        {
          "output_type": "display_data",
          "data": {
            "image/png": "[encoded data removed]",
            "text/plain": [
              "<Figure size 432x288 with 1 Axes>"
            ]
          },
          "metadata": {
            "tags": []
          }
        }
      ]
    },
    {
      "cell_type": "code",
      "metadata": {
        "id": "0yyPRwq9cSxi"
      },
      "source": [
        "def my_func(x):\n",
        "  return np.mean(x)*100\n",
        "table=pd.pivot_table(data=prom_df,index=\"region\",values=\"is_promoted\",aggfunc=my_func)\n",
        "table.sort_values(by='is_promoted',axis=0,inplace=True,ascending=False)"
      ],
      "execution_count": 38,
      "outputs": []
    },
    {
      "cell_type": "code",
      "metadata": {
        "colab": {
          "base_uri": "https://localhost:8080/",
          "height": 228
        },
        "id": "lmlzrVW-lWDu",
        "outputId": "91c43c9a-3c75-46be-b577-c717d5809d6a"
      },
      "source": [
        "table.head()"
      ],
      "execution_count": 39,
      "outputs": [
        {
          "output_type": "execute_result",
          "data": {
            "text/html": [
              "<div>\n",
              "<style scoped>\n",
              "    .dataframe tbody tr th:only-of-type {\n",
              "        vertical-align: middle;\n",
              "    }\n",
              "\n",
              "    .dataframe tbody tr th {\n",
              "        vertical-align: top;\n",
              "    }\n",
              "\n",
              "    .dataframe thead th {\n",
              "        text-align: right;\n",
              "    }\n",
              "</style>\n",
              "<table border=\"1\" class=\"dataframe\">\n",
              "  <thead>\n",
              "    <tr style=\"text-align: right;\">\n",
              "      <th></th>\n",
              "      <th>is_promoted</th>\n",
              "    </tr>\n",
              "    <tr>\n",
              "      <th>region</th>\n",
              "      <th></th>\n",
              "    </tr>\n",
              "  </thead>\n",
              "  <tbody>\n",
              "    <tr>\n",
              "      <th>4</th>\n",
              "      <td>14.445097</td>\n",
              "    </tr>\n",
              "    <tr>\n",
              "      <th>17</th>\n",
              "      <td>13.693467</td>\n",
              "    </tr>\n",
              "    <tr>\n",
              "      <th>25</th>\n",
              "      <td>12.576313</td>\n",
              "    </tr>\n",
              "    <tr>\n",
              "      <th>28</th>\n",
              "      <td>11.684370</td>\n",
              "    </tr>\n",
              "    <tr>\n",
              "      <th>23</th>\n",
              "      <td>11.659574</td>\n",
              "    </tr>\n",
              "  </tbody>\n",
              "</table>\n",
              "</div>"
            ],
            "text/plain": [
              "        is_promoted\n",
              "region             \n",
              "4         14.445097\n",
              "17        13.693467\n",
              "25        12.576313\n",
              "28        11.684370\n",
              "23        11.659574"
            ]
          },
          "metadata": {
            "tags": []
          },
          "execution_count": 39
        }
      ]
    },
    {
      "cell_type": "code",
      "metadata": {
        "colab": {
          "base_uri": "https://localhost:8080/",
          "height": 228
        },
        "id": "V4j-25lzlZe5",
        "outputId": "9ea69349-de0e-425a-f48c-690f99674e16"
      },
      "source": [
        "table.tail()"
      ],
      "execution_count": 40,
      "outputs": [
        {
          "output_type": "execute_result",
          "data": {
            "text/html": [
              "<div>\n",
              "<style scoped>\n",
              "    .dataframe tbody tr th:only-of-type {\n",
              "        vertical-align: middle;\n",
              "    }\n",
              "\n",
              "    .dataframe tbody tr th {\n",
              "        vertical-align: top;\n",
              "    }\n",
              "\n",
              "    .dataframe thead th {\n",
              "        text-align: right;\n",
              "    }\n",
              "</style>\n",
              "<table border=\"1\" class=\"dataframe\">\n",
              "  <thead>\n",
              "    <tr style=\"text-align: right;\">\n",
              "      <th></th>\n",
              "      <th>is_promoted</th>\n",
              "    </tr>\n",
              "    <tr>\n",
              "      <th>region</th>\n",
              "      <th></th>\n",
              "    </tr>\n",
              "  </thead>\n",
              "  <tbody>\n",
              "    <tr>\n",
              "      <th>33</th>\n",
              "      <td>3.717472</td>\n",
              "    </tr>\n",
              "    <tr>\n",
              "      <th>24</th>\n",
              "      <td>3.543307</td>\n",
              "    </tr>\n",
              "    <tr>\n",
              "      <th>18</th>\n",
              "      <td>3.225806</td>\n",
              "    </tr>\n",
              "    <tr>\n",
              "      <th>34</th>\n",
              "      <td>2.739726</td>\n",
              "    </tr>\n",
              "    <tr>\n",
              "      <th>9</th>\n",
              "      <td>1.904762</td>\n",
              "    </tr>\n",
              "  </tbody>\n",
              "</table>\n",
              "</div>"
            ],
            "text/plain": [
              "        is_promoted\n",
              "region             \n",
              "33         3.717472\n",
              "24         3.543307\n",
              "18         3.225806\n",
              "34         2.739726\n",
              "9          1.904762"
            ]
          },
          "metadata": {
            "tags": []
          },
          "execution_count": 40
        }
      ]
    },
    {
      "cell_type": "code",
      "metadata": {
        "colab": {
          "base_uri": "https://localhost:8080/",
          "height": 479
        },
        "id": "bxB8rORLlGsN",
        "outputId": "fffe2b38-04d8-40a8-e76f-d7efe2d34d7e"
      },
      "source": [
        "fig=plt.figure(figsize=(12,7))\n",
        "ax=plt.axes()\n",
        "table.plot(kind='bar',color=['teal'],ax=ax)\n",
        "plt.xlabel(\"Region\")\n",
        "plt.ylabel(\"Percentage promoted\")\n",
        "plt.yticks(ticks=[0,2,4,6,8,10,12,14],labels=['0%','2%','4%','6%','8%','10%','12%','14%'])\n",
        "plt.title(\"% of employees promoted( based on region\")"
      ],
      "execution_count": 41,
      "outputs": [
        {
          "output_type": "execute_result",
          "data": {
            "text/plain": [
              "Text(0.5, 1.0, '% of employees promoted( based on region')"
            ]
          },
          "metadata": {
            "tags": []
          },
          "execution_count": 41
        },
        {
          "output_type": "display_data",
          "data": {
            "image/png": "[encoded data removed]",
            "text/plain": [
              "<Figure size 864x504 with 1 Axes>"
            ]
          },
          "metadata": {
            "tags": []
          }
        }
      ]
    },
    {
      "cell_type": "code",
      "metadata": {
        "id": "MWoiwH9vlSAc"
      },
      "source": [
        "def my_func(x):\n",
        "  return np.mean(x)*100\n",
        "table=pd.pivot_table(data=prom_df,index=\"education\",values=\"is_promoted\",aggfunc=my_func)\n",
        "table.sort_values(by='is_promoted',axis=0,inplace=True,ascending=False)"
      ],
      "execution_count": 42,
      "outputs": []
    },
    {
      "cell_type": "code",
      "metadata": {
        "colab": {
          "base_uri": "https://localhost:8080/",
          "height": 168
        },
        "id": "OoVawQAol0ax",
        "outputId": "734f9004-0c0a-4d36-fb7a-2250487371cc"
      },
      "source": [
        "table"
      ],
      "execution_count": 43,
      "outputs": [
        {
          "output_type": "execute_result",
          "data": {
            "text/html": [
              "<div>\n",
              "<style scoped>\n",
              "    .dataframe tbody tr th:only-of-type {\n",
              "        vertical-align: middle;\n",
              "    }\n",
              "\n",
              "    .dataframe tbody tr th {\n",
              "        vertical-align: top;\n",
              "    }\n",
              "\n",
              "    .dataframe thead th {\n",
              "        text-align: right;\n",
              "    }\n",
              "</style>\n",
              "<table border=\"1\" class=\"dataframe\">\n",
              "  <thead>\n",
              "    <tr style=\"text-align: right;\">\n",
              "      <th></th>\n",
              "      <th>is_promoted</th>\n",
              "    </tr>\n",
              "    <tr>\n",
              "      <th>education</th>\n",
              "      <th></th>\n",
              "    </tr>\n",
              "  </thead>\n",
              "  <tbody>\n",
              "    <tr>\n",
              "      <th>Master's &amp; above</th>\n",
              "      <td>9.855946</td>\n",
              "    </tr>\n",
              "    <tr>\n",
              "      <th>Below Secondary</th>\n",
              "      <td>8.322981</td>\n",
              "    </tr>\n",
              "    <tr>\n",
              "      <th>Bachelor's</th>\n",
              "      <td>8.203114</td>\n",
              "    </tr>\n",
              "  </tbody>\n",
              "</table>\n",
              "</div>"
            ],
            "text/plain": [
              "                  is_promoted\n",
              "education                    \n",
              "Master's & above     9.855946\n",
              "Below Secondary      8.322981\n",
              "Bachelor's           8.203114"
            ]
          },
          "metadata": {
            "tags": []
          },
          "execution_count": 43
        }
      ]
    },
    {
      "cell_type": "code",
      "metadata": {
        "colab": {
          "base_uri": "https://localhost:8080/",
          "height": 390
        },
        "id": "QtkoKJlcl1st",
        "outputId": "71ce8a82-dd2a-43e5-978b-c771908b2ada"
      },
      "source": [
        "fig=plt.figure()\n",
        "ax=plt.axes()\n",
        "table.plot(kind='bar',color=['limegreen'],ax=ax)\n",
        "plt.xlabel(\"Education\")\n",
        "plt.ylabel(\"Percentage promoted\")\n",
        "plt.yticks(ticks=[0,2,4,6,8,10],labels=['0%','2%','4%','6%','8%','10%'])\n",
        "plt.title(\"% of employees promoted( based on education\")"
      ],
      "execution_count": 44,
      "outputs": [
        {
          "output_type": "execute_result",
          "data": {
            "text/plain": [
              "Text(0.5, 1.0, '% of employees promoted( based on education')"
            ]
          },
          "metadata": {
            "tags": []
          },
          "execution_count": 44
        },
        {
          "output_type": "display_data",
          "data": {
            "image/png": "[encoded data removed]",
            "text/plain": [
              "<Figure size 432x288 with 1 Axes>"
            ]
          },
          "metadata": {
            "tags": []
          }
        }
      ]
    },
    {
      "cell_type": "code",
      "metadata": {
        "colab": {
          "base_uri": "https://localhost:8080/",
          "height": 358
        },
        "id": "q3SFOhUlmKQ2",
        "outputId": "207b4bfb-a09e-436e-ad1e-1d96aab450d5"
      },
      "source": [
        "female_prop=len(prom_df[(prom_df['gender']=='f') & (prom_df['is_promoted']==1)])/len(prom_df[(prom_df['gender']=='f')])\n",
        "male_prop=len(prom_df[(prom_df['gender']=='m') & (prom_df['is_promoted']==1)])/len(prom_df[(prom_df['gender']=='m')])\n",
        "lis1=['female','male']\n",
        "lis2=[female_prop/(female_prop+male_prop),male_prop/(female_prop+male_prop)]\n",
        "plt.pie(lis2,labels=lis1,radius=1,colors=['blueviolet','aquamarine'],explode=[.1,0],autopct='%.2f%%')"
      ],
      "execution_count": 45,
      "outputs": [
        {
          "output_type": "execute_result",
          "data": {
            "text/plain": [
              "([<matplotlib.patches.Wedge at 0x7fb4d6edd3d0>,\n",
              "  <matplotlib.patches.Wedge at 0x7fb4d6e21e50>],\n",
              " [Text(-0.07381477058857593, 1.1977275899147335, 'female'),\n",
              "  Text(0.06766353970619421, -1.097916957421839, 'male')],\n",
              " [Text(-0.043058616176669284, 0.6986744274502612, '51.96%'),\n",
              "  Text(0.03690738529428775, -0.5988637949573667, '48.04%')])"
            ]
          },
          "metadata": {
            "tags": []
          },
          "execution_count": 45
        },
        {
          "output_type": "display_data",
          "data": {
            "image/png": "[encoded data removed]",
            "text/plain": [
              "<Figure size 432x288 with 1 Axes>"
            ]
          },
          "metadata": {
            "tags": []
          }
        }
      ]
    },
    {
      "cell_type": "code",
      "metadata": {
        "colab": {
          "base_uri": "https://localhost:8080/",
          "height": 412
        },
        "id": "db2DBo0snMmM",
        "outputId": "0bbcd3da-39be-4efb-c4ec-8f58dce462fb"
      },
      "source": [
        "other=len(prom_df[(prom_df['recruitment_channel']=='other') & (prom_df['is_promoted']==1)])/len(prom_df[(prom_df['recruitment_channel']=='other')])\n",
        "sourcing=len(prom_df[(prom_df['recruitment_channel']=='sourcing') & (prom_df['is_promoted']==1)])/len(prom_df[(prom_df['recruitment_channel']=='sourcing')])\n",
        "referred=other=len(prom_df[(prom_df['recruitment_channel']=='referred') & (prom_df['is_promoted']==1)])/len(prom_df[(prom_df['recruitment_channel']=='referred')])\n",
        "list1=['other','sourcing','referred']\n",
        "s=other+sourcing+referred\n",
        "list2=[other/s,sourcing/s,referred/s]\n",
        "plt.pie(list2,labels=list1,radius=1,explode=[0,0,.1],autopct=\"%.2f%%\")"
      ],
      "execution_count": 46,
      "outputs": [
        {
          "output_type": "execute_result",
          "data": {
            "text/plain": [
              "([<matplotlib.patches.Wedge at 0x7fb4d6653d50>,\n",
              "  <matplotlib.patches.Wedge at 0x7fb4d65d8350>,\n",
              "  <matplotlib.patches.Wedge at 0x7fb4d65f6310>],\n",
              " [Text(0.4372142488585272, 1.009377877999649, 'other'),\n",
              "  Text(-1.1, 1.3471114790620887e-16, 'sourcing'),\n",
              "  Text(0.4769609987547564, -1.1011395032723443, 'referred')],\n",
              " [Text(0.23848049937737845, 0.5505697516361721, '36.99%'),\n",
              "  Text(-0.6, 7.347880794884119e-17, '26.02%'),\n",
              "  Text(0.27822724927360787, -0.6423313769088675, '36.99%')])"
            ]
          },
          "metadata": {
            "tags": []
          },
          "execution_count": 46
        },
        {
          "output_type": "display_data",
          "data": {
            "image/png": "[encoded data removed]",
            "text/plain": [
              "<Figure size 432x288 with 1 Axes>"
            ]
          },
          "metadata": {
            "tags": []
          }
        }
      ]
    },
    {
      "cell_type": "code",
      "metadata": {
        "id": "31soD1B7rvfc"
      },
      "source": [
        "def my_func(x):\n",
        "  return np.mean(x)*100\n",
        "table=pd.pivot_table(data=prom_df,index=\"no_of_trainings\",values=\"is_promoted\",aggfunc=my_func)\n",
        "table.sort_values(by='is_promoted',axis=0,inplace=True,ascending=False)"
      ],
      "execution_count": 47,
      "outputs": []
    },
    {
      "cell_type": "code",
      "metadata": {
        "colab": {
          "base_uri": "https://localhost:8080/",
          "height": 378
        },
        "id": "KmufjvTusQHR",
        "outputId": "b56b5759-cb57-48e7-d36a-81cd595d48b7"
      },
      "source": [
        "table"
      ],
      "execution_count": 48,
      "outputs": [
        {
          "output_type": "execute_result",
          "data": {
            "text/html": [
              "<div>\n",
              "<style scoped>\n",
              "    .dataframe tbody tr th:only-of-type {\n",
              "        vertical-align: middle;\n",
              "    }\n",
              "\n",
              "    .dataframe tbody tr th {\n",
              "        vertical-align: top;\n",
              "    }\n",
              "\n",
              "    .dataframe thead th {\n",
              "        text-align: right;\n",
              "    }\n",
              "</style>\n",
              "<table border=\"1\" class=\"dataframe\">\n",
              "  <thead>\n",
              "    <tr style=\"text-align: right;\">\n",
              "      <th></th>\n",
              "      <th>is_promoted</th>\n",
              "    </tr>\n",
              "    <tr>\n",
              "      <th>no_of_trainings</th>\n",
              "      <th></th>\n",
              "    </tr>\n",
              "  </thead>\n",
              "  <tbody>\n",
              "    <tr>\n",
              "      <th>1</th>\n",
              "      <td>8.810672</td>\n",
              "    </tr>\n",
              "    <tr>\n",
              "      <th>2</th>\n",
              "      <td>7.574809</td>\n",
              "    </tr>\n",
              "    <tr>\n",
              "      <th>3</th>\n",
              "      <td>6.869369</td>\n",
              "    </tr>\n",
              "    <tr>\n",
              "      <th>4</th>\n",
              "      <td>5.555556</td>\n",
              "    </tr>\n",
              "    <tr>\n",
              "      <th>6</th>\n",
              "      <td>4.545455</td>\n",
              "    </tr>\n",
              "    <tr>\n",
              "      <th>5</th>\n",
              "      <td>2.343750</td>\n",
              "    </tr>\n",
              "    <tr>\n",
              "      <th>7</th>\n",
              "      <td>0.000000</td>\n",
              "    </tr>\n",
              "    <tr>\n",
              "      <th>8</th>\n",
              "      <td>0.000000</td>\n",
              "    </tr>\n",
              "    <tr>\n",
              "      <th>9</th>\n",
              "      <td>0.000000</td>\n",
              "    </tr>\n",
              "    <tr>\n",
              "      <th>10</th>\n",
              "      <td>0.000000</td>\n",
              "    </tr>\n",
              "  </tbody>\n",
              "</table>\n",
              "</div>"
            ],
            "text/plain": [
              "                 is_promoted\n",
              "no_of_trainings             \n",
              "1                   8.810672\n",
              "2                   7.574809\n",
              "3                   6.869369\n",
              "4                   5.555556\n",
              "6                   4.545455\n",
              "5                   2.343750\n",
              "7                   0.000000\n",
              "8                   0.000000\n",
              "9                   0.000000\n",
              "10                  0.000000"
            ]
          },
          "metadata": {
            "tags": []
          },
          "execution_count": 48
        }
      ]
    },
    {
      "cell_type": "code",
      "metadata": {
        "colab": {
          "base_uri": "https://localhost:8080/",
          "height": 313
        },
        "id": "qUFqhuQ3sUe2",
        "outputId": "b3749d0c-8b43-4a69-d6b2-3b6ef19e556e"
      },
      "source": [
        "fig=plt.figure()\n",
        "ax=plt.axes()\n",
        "table.plot(color=['darkcyan'],ax=ax,marker='o',mfc='blue')\n",
        "plt.xlabel(\"No of trainings\")\n",
        "plt.ylabel(\"Percentage promoted\")\n",
        "plt.yticks(ticks=[0,2,4,6,8,10],labels=['0%','2%','4%','6%','8%','10%'])\n",
        "plt.xticks(ticks=range(0,11))\n",
        "plt.title(\"% of employees promoted( based on No of trainings\")"
      ],
      "execution_count": 49,
      "outputs": [
        {
          "output_type": "execute_result",
          "data": {
            "text/plain": [
              "Text(0.5, 1.0, '% of employees promoted( based on No of trainings')"
            ]
          },
          "metadata": {
            "tags": []
          },
          "execution_count": 49
        },
        {
          "output_type": "display_data",
          "data": {
            "image/png": "[encoded data removed]",
            "text/plain": [
              "<Figure size 432x288 with 1 Axes>"
            ]
          },
          "metadata": {
            "tags": []
          }
        }
      ]
    },
    {
      "cell_type": "code",
      "metadata": {
        "colab": {
          "base_uri": "https://localhost:8080/",
          "height": 297
        },
        "id": "631oZdNXtSN0",
        "outputId": "077ee44d-06cc-464d-bc72-586175c635e0"
      },
      "source": [
        "sample1=prom_df[prom_df['is_promoted']==1]\n",
        "sample2=prom_df[prom_df['is_promoted']==0]\n",
        "sns.histplot(sample1['age'],bins=20,kde=True,color='orange',label='promoted',stat='probability')\n",
        "sns.histplot(sample2['age'],bins=20,kde=True,color='red',label='not_promoted',stat='probability')\n",
        "plt.legend()"
      ],
      "execution_count": 50,
      "outputs": [
        {
          "output_type": "execute_result",
          "data": {
            "text/plain": [
              "<matplotlib.legend.Legend at 0x7fb4d6091ad0>"
            ]
          },
          "metadata": {
            "tags": []
          },
          "execution_count": 50
        },
        {
          "output_type": "display_data",
          "data": {
            "image/png": "[encoded data removed]",
            "text/plain": [
              "<Figure size 432x288 with 1 Axes>"
            ]
          },
          "metadata": {
            "tags": []
          }
        }
      ]
    },
    {
      "cell_type": "code",
      "metadata": {
        "id": "IvMor_Etu3Z4"
      },
      "source": [
        "def my_func(x):\n",
        "  return np.mean(x)*100\n",
        "table=pd.pivot_table(data=prom_df,index=\"previous_year_rating\",values=\"is_promoted\",aggfunc=my_func)\n",
        "table.sort_values(by='is_promoted',axis=0,inplace=True,ascending=False)"
      ],
      "execution_count": 51,
      "outputs": []
    },
    {
      "cell_type": "code",
      "metadata": {
        "colab": {
          "base_uri": "https://localhost:8080/",
          "height": 228
        },
        "id": "ojnYPNdiwEXs",
        "outputId": "04af8463-eb4d-441e-abd1-5cccf4246995"
      },
      "source": [
        "table"
      ],
      "execution_count": 52,
      "outputs": [
        {
          "output_type": "execute_result",
          "data": {
            "text/html": [
              "<div>\n",
              "<style scoped>\n",
              "    .dataframe tbody tr th:only-of-type {\n",
              "        vertical-align: middle;\n",
              "    }\n",
              "\n",
              "    .dataframe tbody tr th {\n",
              "        vertical-align: top;\n",
              "    }\n",
              "\n",
              "    .dataframe thead th {\n",
              "        text-align: right;\n",
              "    }\n",
              "</style>\n",
              "<table border=\"1\" class=\"dataframe\">\n",
              "  <thead>\n",
              "    <tr style=\"text-align: right;\">\n",
              "      <th></th>\n",
              "      <th>is_promoted</th>\n",
              "    </tr>\n",
              "    <tr>\n",
              "      <th>previous_year_rating</th>\n",
              "      <th></th>\n",
              "    </tr>\n",
              "  </thead>\n",
              "  <tbody>\n",
              "    <tr>\n",
              "      <th>5.0</th>\n",
              "      <td>16.361468</td>\n",
              "    </tr>\n",
              "    <tr>\n",
              "      <th>4.0</th>\n",
              "      <td>7.937633</td>\n",
              "    </tr>\n",
              "    <tr>\n",
              "      <th>3.0</th>\n",
              "      <td>7.277903</td>\n",
              "    </tr>\n",
              "    <tr>\n",
              "      <th>2.0</th>\n",
              "      <td>4.284024</td>\n",
              "    </tr>\n",
              "    <tr>\n",
              "      <th>1.0</th>\n",
              "      <td>1.414109</td>\n",
              "    </tr>\n",
              "  </tbody>\n",
              "</table>\n",
              "</div>"
            ],
            "text/plain": [
              "                      is_promoted\n",
              "previous_year_rating             \n",
              "5.0                     16.361468\n",
              "4.0                      7.937633\n",
              "3.0                      7.277903\n",
              "2.0                      4.284024\n",
              "1.0                      1.414109"
            ]
          },
          "metadata": {
            "tags": []
          },
          "execution_count": 52
        }
      ]
    },
    {
      "cell_type": "code",
      "metadata": {
        "colab": {
          "base_uri": "https://localhost:8080/",
          "height": 313
        },
        "id": "dBCxk8VuwFRw",
        "outputId": "9069a577-eca7-417b-cfaa-47a5b349c75d"
      },
      "source": [
        "fig=plt.figure()\n",
        "ax=plt.axes()\n",
        "table.plot(color=['darkcyan'],ax=ax,marker='o',mfc='blue')\n",
        "plt.xlabel(\"Previous Year Rating\")\n",
        "plt.ylabel(\"Percentage promoted\")\n",
        "plt.yticks(ticks=[0,2,4,6,8,10,12,14,16],labels=['0%','2%','4%','6%','8%','10%','12%','14%','16%'])\n",
        "plt.xticks(ticks=[1,2,3,4,5])\n",
        "plt.title(\"% of employees promoted( based on previous year rating\")"
      ],
      "execution_count": 53,
      "outputs": [
        {
          "output_type": "execute_result",
          "data": {
            "text/plain": [
              "Text(0.5, 1.0, '% of employees promoted( based on previous year rating')"
            ]
          },
          "metadata": {
            "tags": []
          },
          "execution_count": 53
        },
        {
          "output_type": "display_data",
          "data": {
            "image/png": "[encoded data removed]",
            "text/plain": [
              "<Figure size 432x288 with 1 Axes>"
            ]
          },
          "metadata": {
            "tags": []
          }
        }
      ]
    },
    {
      "cell_type": "code",
      "metadata": {
        "colab": {
          "base_uri": "https://localhost:8080/",
          "height": 298
        },
        "id": "zGbTDxcjw0nU",
        "outputId": "76573b6a-976b-46d6-bb7f-c4075ad1a5e6"
      },
      "source": [
        "sample1=prom_df[prom_df['is_promoted']==1]\n",
        "sample2=prom_df[prom_df['is_promoted']==0]\n",
        "sns.histplot(sample1['length_of_service'],bins=20,color='red',kde=True,label='promoted',stat='probability')\n",
        "sns.histplot(sample2['length_of_service'],bins=20,color='blue',kde=True,label='not_promoted',stat='probability')\n",
        "plt.legend()"
      ],
      "execution_count": 54,
      "outputs": [
        {
          "output_type": "execute_result",
          "data": {
            "text/plain": [
              "<matplotlib.legend.Legend at 0x7fb4cb6fc350>"
            ]
          },
          "metadata": {
            "tags": []
          },
          "execution_count": 54
        },
        {
          "output_type": "display_data",
          "data": {
            "image/png": "[encoded data removed]",
            "text/plain": [
              "<Figure size 432x288 with 1 Axes>"
            ]
          },
          "metadata": {
            "tags": []
          }
        }
      ]
    },
    {
      "cell_type": "code",
      "metadata": {
        "colab": {
          "base_uri": "https://localhost:8080/",
          "height": 357
        },
        "id": "jOvxLl_JxfMs",
        "outputId": "624e3271-1a87-4175-8350-89096a05e862"
      },
      "source": [
        "KPI_1=len(prom_df[(prom_df['KPIs_met >80%']==1) & (prom_df['is_promoted']==1)])/len(prom_df[(prom_df['KPIs_met >80%']==1)])\n",
        "KPI_0=len(prom_df[(prom_df['KPIs_met >80%']==0) & (prom_df['is_promoted']==1)])/len(prom_df[(prom_df['KPIs_met >80%']==1)])\n",
        "lis1=['KPI=1','KPI=0']\n",
        "lis2=[KPI_1/(KPI_1+KPI_0),KPI_0/(KPI_0+KPI_1)]\n",
        "plt.pie(lis2,labels=lis1,radius=1,colors=['blueviolet','aquamarine'],explode=[.1,0],autopct='%.2f%%')"
      ],
      "execution_count": 55,
      "outputs": [
        {
          "output_type": "execute_result",
          "data": {
            "text/plain": [
              "([<matplotlib.patches.Wedge at 0x7fb4cb6064d0>,\n",
              "  <matplotlib.patches.Wedge at 0x7fb4cb606cd0>],\n",
              " [Text(-0.7016783876602655, 0.9734718487406251, 'KPI=1'),\n",
              "  Text(0.6432051051408125, -0.8923492549001184, 'KPI=0')],\n",
              " [Text(-0.4093123928018215, 0.5678585784320311, '69.88%'),\n",
              "  Text(0.35083914825862494, -0.48673595721824636, '30.12%')])"
            ]
          },
          "metadata": {
            "tags": []
          },
          "execution_count": 55
        },
        {
          "output_type": "display_data",
          "data": {
            "image/png": "[encoded data removed]",
            "text/plain": [
              "<Figure size 432x288 with 1 Axes>"
            ]
          },
          "metadata": {
            "tags": []
          }
        }
      ]
    },
    {
      "cell_type": "code",
      "metadata": {
        "colab": {
          "base_uri": "https://localhost:8080/",
          "height": 357
        },
        "id": "PT4Zyni13DfE",
        "outputId": "c059f952-fa57-4912-b131-e09f0edcb895"
      },
      "source": [
        "award_y=len(prom_df[(prom_df['awards_won?']==1) & (prom_df['is_promoted']==1)])/len(prom_df[(prom_df['awards_won?']==1)])\n",
        "award_n=len(prom_df[(prom_df['awards_won?']==0) & (prom_df['is_promoted']==1)])/len(prom_df[(prom_df['awards_won?']==0)])\n",
        "s=award_y+award_n\n",
        "list1=[award_y/s,award_n/s]\n",
        "list2=['award_y','award_n']\n",
        "plt.pie(x=list1,labels=list2,radius=1,autopct=\"%.2f%%\",colors=['coral','azure'])"
      ],
      "execution_count": 56,
      "outputs": [
        {
          "output_type": "execute_result",
          "data": {
            "text/plain": [
              "([<matplotlib.patches.Wedge at 0x7fb4cb5ce890>,\n",
              "  <matplotlib.patches.Wedge at 0x7fb4cb558050>],\n",
              " [Text(-0.9824839335241001, 0.49469720068645223, 'award_y'),\n",
              "  Text(0.9824839335240999, -0.49469720068645234, 'award_n')],\n",
              " [Text(-0.5359003273767818, 0.2698348367380648, '85.15%'),\n",
              "  Text(0.5359003273767817, -0.26983483673806485, '14.85%')])"
            ]
          },
          "metadata": {
            "tags": []
          },
          "execution_count": 56
        },
        {
          "output_type": "display_data",
          "data": {
            "image/png": "[encoded data removed]",
            "text/plain": [
              "<Figure size 432x288 with 1 Axes>"
            ]
          },
          "metadata": {
            "tags": []
          }
        }
      ]
    },
    {
      "cell_type": "code",
      "metadata": {
        "colab": {
          "base_uri": "https://localhost:8080/",
          "height": 298
        },
        "id": "mm6mdZTh37EI",
        "outputId": "6986111c-6bf4-4a05-ce06-0f56dacca6f0"
      },
      "source": [
        "sample1=prom_df[prom_df['is_promoted']==1]\n",
        "sample2=prom_df[prom_df['is_promoted']==0]\n",
        "sns.histplot(sample1['avg_training_score'],bins=20,kde=True,color='blueviolet',label='promoted',stat='probability')\n",
        "sns.histplot(sample2['avg_training_score'],bins=20,kde=True,color='seagreen',label='not_promoted',stat='probability')\n",
        "plt.legend()"
      ],
      "execution_count": 57,
      "outputs": [
        {
          "output_type": "execute_result",
          "data": {
            "text/plain": [
              "<matplotlib.legend.Legend at 0x7fb4d6387b10>"
            ]
          },
          "metadata": {
            "tags": []
          },
          "execution_count": 57
        },
        {
          "output_type": "display_data",
          "data": {
            "image/png": "[encoded data removed]",
            "text/plain": [
              "<Figure size 432x288 with 1 Axes>"
            ]
          },
          "metadata": {
            "tags": []
          }
        }
      ]
    },
    {
      "cell_type": "code",
      "metadata": {
        "colab": {
          "base_uri": "https://localhost:8080/",
          "height": 297
        },
        "id": "c26d2yDOZpeP",
        "outputId": "8b97ad92-d48f-44ed-d968-dd2ddb9e0519"
      },
      "source": [
        "fig=plt.figure()\n",
        "ax=plt.axes()\n",
        "sns.histplot(x='age',data=prom_df,hue='education',stat='count',kde=True)\n",
        "plt.xlabel('Age')"
      ],
      "execution_count": 58,
      "outputs": [
        {
          "output_type": "execute_result",
          "data": {
            "text/plain": [
              "Text(0.5, 0, 'Age')"
            ]
          },
          "metadata": {
            "tags": []
          },
          "execution_count": 58
        },
        {
          "output_type": "display_data",
          "data": {
            "image/png": "[encoded data removed]",
            "text/plain": [
              "<Figure size 432x288 with 1 Axes>"
            ]
          },
          "metadata": {
            "tags": []
          }
        }
      ]
    },
    {
      "cell_type": "code",
      "metadata": {
        "colab": {
          "base_uri": "https://localhost:8080/",
          "height": 297
        },
        "id": "n_dftU8Wm125",
        "outputId": "c87add14-23bb-44ce-8245-45a8e3bfa10c"
      },
      "source": [
        "fig=plt.figure()\n",
        "ax=plt.axes()\n",
        "sns.regplot(x='age',y='length_of_service',data=prom_df,marker='+',color='g',ci=99)\n"
      ],
      "execution_count": 59,
      "outputs": [
        {
          "output_type": "execute_result",
          "data": {
            "text/plain": [
              "<matplotlib.axes._subplots.AxesSubplot at 0x7fb4cb480bd0>"
            ]
          },
          "metadata": {
            "tags": []
          },
          "execution_count": 59
        },
        {
          "output_type": "display_data",
          "data": {
            "image/png": "[encoded data removed]",
            "text/plain": [
              "<Figure size 432x288 with 1 Axes>"
            ]
          },
          "metadata": {
            "tags": []
          }
        }
      ]
    },
    {
      "cell_type": "markdown",
      "metadata": {
        "id": "WKaUrfle6WsK"
      },
      "source": [
        "## Data Preprocessing"
      ]
    },
    {
      "cell_type": "code",
      "metadata": {
        "colab": {
          "base_uri": "https://localhost:8080/"
        },
        "id": "6hAwqTKyT4b1",
        "outputId": "1a2c18bb-a5b1-45f6-c444-2e66b0084337"
      },
      "source": [
        "prom_df.info()"
      ],
      "execution_count": 60,
      "outputs": [
        {
          "output_type": "stream",
          "text": [
            "<class 'pandas.core.frame.DataFrame'>\n",
            "RangeIndex: 54808 entries, 0 to 54807\n",
            "Data columns (total 13 columns):\n",
            " #   Column                Non-Null Count  Dtype  \n",
            "---  ------                --------------  -----  \n",
            " 0   department            54808 non-null  object \n",
            " 1   region                54808 non-null  object \n",
            " 2   education             52399 non-null  object \n",
            " 3   gender                54808 non-null  object \n",
            " 4   recruitment_channel   54808 non-null  object \n",
            " 5   no_of_trainings       54808 non-null  int64  \n",
            " 6   age                   54808 non-null  int64  \n",
            " 7   previous_year_rating  50684 non-null  float64\n",
            " 8   length_of_service     54808 non-null  int64  \n",
            " 9   KPIs_met >80%         54808 non-null  int64  \n",
            " 10  awards_won?           54808 non-null  int64  \n",
            " 11  avg_training_score    54808 non-null  int64  \n",
            " 12  is_promoted           54808 non-null  int64  \n",
            "dtypes: float64(1), int64(7), object(5)\n",
            "memory usage: 5.4+ MB\n"
          ],
          "name": "stdout"
        }
      ]
    },
    {
      "cell_type": "markdown",
      "metadata": {
        "id": "Ou7grDkkUFh2"
      },
      "source": [
        "### Dealing with missing values"
      ]
    },
    {
      "cell_type": "markdown",
      "metadata": {
        "id": "jzJTGuVwaf7t"
      },
      "source": [
        "**Education**\n",
        "\n",
        "We can impute persons with age from 20-23 years with \"Below Secondary\"\n",
        "\n",
        "Persons with age range 23-41 with \"Bachelors\"\n",
        "\n",
        "Persons with age>41 years with \"Masters\""
      ]
    },
    {
      "cell_type": "code",
      "metadata": {
        "colab": {
          "base_uri": "https://localhost:8080/"
        },
        "id": "NUPTRJnGgSm4",
        "outputId": "db78bb21-24bb-4d41-9285-26fc6d1cb26f"
      },
      "source": [
        "prom_df['education'].value_counts(dropna=False)"
      ],
      "execution_count": 61,
      "outputs": [
        {
          "output_type": "execute_result",
          "data": {
            "text/plain": [
              "Bachelor's          36669\n",
              "Master's & above    14925\n",
              "NaN                  2409\n",
              "Below Secondary       805\n",
              "Name: education, dtype: int64"
            ]
          },
          "metadata": {
            "tags": []
          },
          "execution_count": 61
        }
      ]
    },
    {
      "cell_type": "code",
      "metadata": {
        "id": "RT3nhHtraMVv"
      },
      "source": [
        "row_index=prom_df[prom_df['age']<23].index.values"
      ],
      "execution_count": 62,
      "outputs": []
    },
    {
      "cell_type": "code",
      "metadata": {
        "id": "PG9E1UCRizq0"
      },
      "source": [
        "prom_df.loc[row_index,'education']=prom_df.loc[row_index,'education'].replace(np.nan,'Below Secondary')"
      ],
      "execution_count": 63,
      "outputs": []
    },
    {
      "cell_type": "code",
      "metadata": {
        "id": "fgNpbL-IiCIf"
      },
      "source": [
        "row_index=prom_df[(prom_df['age']>=23)&(prom_df['age']<42)].index.values\n",
        "prom_df.loc[row_index,'education']=prom_df.loc[row_index,'education'].replace(np.nan,\"Bachelor's\")\n"
      ],
      "execution_count": 64,
      "outputs": []
    },
    {
      "cell_type": "code",
      "metadata": {
        "id": "UymH94pVk8di"
      },
      "source": [
        "row_index=prom_df[prom_df['age']>=42].index.values\n",
        "prom_df.loc[row_index,'education']=prom_df.loc[row_index,'education'].replace(np.nan,\"Master's & above\")\n"
      ],
      "execution_count": 65,
      "outputs": []
    },
    {
      "cell_type": "code",
      "metadata": {
        "colab": {
          "base_uri": "https://localhost:8080/"
        },
        "id": "HfMOPuAWlRqG",
        "outputId": "294ecbc7-4f6e-472e-b191-6e4ffea3ff43"
      },
      "source": [
        "prom_df['previous_year_rating'].value_counts(dropna=False)"
      ],
      "execution_count": 66,
      "outputs": [
        {
          "output_type": "execute_result",
          "data": {
            "text/plain": [
              "3.0    18618\n",
              "5.0    11741\n",
              "4.0     9877\n",
              "1.0     6223\n",
              "2.0     4225\n",
              "NaN     4124\n",
              "Name: previous_year_rating, dtype: int64"
            ]
          },
          "metadata": {
            "tags": []
          },
          "execution_count": 66
        }
      ]
    },
    {
      "cell_type": "markdown",
      "metadata": {
        "id": "7t-dfvf1lzmi"
      },
      "source": [
        "We have seen before previous year rating and is_promoted are strongly correlated. We can assign value of 5 for those getting promoted and 2 for those which are not."
      ]
    },
    {
      "cell_type": "code",
      "metadata": {
        "id": "OArw63tjlZgg"
      },
      "source": [
        "row_index=prom_df[prom_df['is_promoted']==1].index.values"
      ],
      "execution_count": 67,
      "outputs": []
    },
    {
      "cell_type": "code",
      "metadata": {
        "id": "rrK-sd-bmXN9"
      },
      "source": [
        "prom_df.loc[row_index,'previous_year_rating']=prom_df.loc[row_index,'previous_year_rating'].replace(np.nan,5)"
      ],
      "execution_count": 68,
      "outputs": []
    },
    {
      "cell_type": "code",
      "metadata": {
        "id": "6Pylb_8YmYyE"
      },
      "source": [
        "row_index=prom_df[prom_df['is_promoted']==0].index.values\n",
        "prom_df.loc[row_index,'previous_year_rating']=prom_df.loc[row_index,'previous_year_rating'].replace(np.nan,2)"
      ],
      "execution_count": 69,
      "outputs": []
    },
    {
      "cell_type": "code",
      "metadata": {
        "id": "Yr5MLFuqnCIi",
        "colab": {
          "base_uri": "https://localhost:8080/"
        },
        "outputId": "49d2ab73-2b62-4434-e647-b0d6d631298c"
      },
      "source": [
        "prom_df.isna().sum()"
      ],
      "execution_count": 70,
      "outputs": [
        {
          "output_type": "execute_result",
          "data": {
            "text/plain": [
              "department              0\n",
              "region                  0\n",
              "education               0\n",
              "gender                  0\n",
              "recruitment_channel     0\n",
              "no_of_trainings         0\n",
              "age                     0\n",
              "previous_year_rating    0\n",
              "length_of_service       0\n",
              "KPIs_met >80%           0\n",
              "awards_won?             0\n",
              "avg_training_score      0\n",
              "is_promoted             0\n",
              "dtype: int64"
            ]
          },
          "metadata": {
            "tags": []
          },
          "execution_count": 70
        }
      ]
    },
    {
      "cell_type": "code",
      "metadata": {
        "id": "smN4_muTfYAF"
      },
      "source": [
        "prom_copy=prom_df.copy()\n"
      ],
      "execution_count": 71,
      "outputs": []
    },
    {
      "cell_type": "code",
      "metadata": {
        "colab": {
          "base_uri": "https://localhost:8080/"
        },
        "id": "RZyUXWUifgA4",
        "outputId": "e67ca7b7-ef40-4214-cc1d-c58938fee6a9"
      },
      "source": [
        "prom_copy.info()"
      ],
      "execution_count": 72,
      "outputs": [
        {
          "output_type": "stream",
          "text": [
            "<class 'pandas.core.frame.DataFrame'>\n",
            "RangeIndex: 54808 entries, 0 to 54807\n",
            "Data columns (total 13 columns):\n",
            " #   Column                Non-Null Count  Dtype  \n",
            "---  ------                --------------  -----  \n",
            " 0   department            54808 non-null  object \n",
            " 1   region                54808 non-null  object \n",
            " 2   education             54808 non-null  object \n",
            " 3   gender                54808 non-null  object \n",
            " 4   recruitment_channel   54808 non-null  object \n",
            " 5   no_of_trainings       54808 non-null  int64  \n",
            " 6   age                   54808 non-null  int64  \n",
            " 7   previous_year_rating  54808 non-null  float64\n",
            " 8   length_of_service     54808 non-null  int64  \n",
            " 9   KPIs_met >80%         54808 non-null  int64  \n",
            " 10  awards_won?           54808 non-null  int64  \n",
            " 11  avg_training_score    54808 non-null  int64  \n",
            " 12  is_promoted           54808 non-null  int64  \n",
            "dtypes: float64(1), int64(7), object(5)\n",
            "memory usage: 5.4+ MB\n"
          ],
          "name": "stdout"
        }
      ]
    },
    {
      "cell_type": "markdown",
      "metadata": {
        "id": "tLlVOWaToGwA"
      },
      "source": [
        "### Encoding Categorical Variables"
      ]
    },
    {
      "cell_type": "markdown",
      "metadata": {
        "id": "xy_U43NZgBCB"
      },
      "source": [
        "There are 9 departments. It may be better to label encode them"
      ]
    },
    {
      "cell_type": "code",
      "metadata": {
        "id": "ln70tlvjf-la"
      },
      "source": [
        "from sklearn.preprocessing import LabelEncoder\n",
        "le=LabelEncoder()\n",
        "prom_copy['department']=le.fit_transform(prom_copy['department'])"
      ],
      "execution_count": 73,
      "outputs": []
    },
    {
      "cell_type": "markdown",
      "metadata": {
        "id": "3cYRo6TYg8xQ"
      },
      "source": [
        "There are 34 regions. It will be better to label encode them"
      ]
    },
    {
      "cell_type": "code",
      "metadata": {
        "id": "EagqXk-8g8Vo"
      },
      "source": [
        "prom_copy['region']=prom_copy['region'].astype('int')"
      ],
      "execution_count": 74,
      "outputs": []
    },
    {
      "cell_type": "markdown",
      "metadata": {
        "id": "dvRbzBWCh1Gv"
      },
      "source": [
        "Education are of 3 types. Better is to one hot encode them"
      ]
    },
    {
      "cell_type": "code",
      "metadata": {
        "id": "sHlLlgBch0by"
      },
      "source": [
        "\n",
        "sample=pd.get_dummies(prom_copy['education'])\n",
        "prom_copy=pd.concat([sample,prom_copy],axis=1)\n",
        "del prom_copy['education']"
      ],
      "execution_count": 75,
      "outputs": []
    },
    {
      "cell_type": "code",
      "metadata": {
        "id": "l3wk4NOni7Au"
      },
      "source": [
        "del prom_copy['Below Secondary']"
      ],
      "execution_count": 76,
      "outputs": []
    },
    {
      "cell_type": "markdown",
      "metadata": {
        "id": "EF2Etp9Ojdfm"
      },
      "source": [
        "Gender have only 2 values. It will also be one hot encoded"
      ]
    },
    {
      "cell_type": "code",
      "metadata": {
        "id": "BHcCDKg2jzEp"
      },
      "source": [
        "sample=pd.get_dummies(prom_copy['gender'])\n",
        "prom_copy=pd.concat([sample,prom_copy],axis=1)\n",
        "del prom_copy['gender']"
      ],
      "execution_count": 77,
      "outputs": []
    },
    {
      "cell_type": "code",
      "metadata": {
        "id": "12TAppeFkD1i"
      },
      "source": [
        "del prom_copy['m']"
      ],
      "execution_count": 78,
      "outputs": []
    },
    {
      "cell_type": "markdown",
      "metadata": {
        "id": "MQkmSXfmkwED"
      },
      "source": [
        "There are 3 columns in recruitment channel which are better be one hot encoded."
      ]
    },
    {
      "cell_type": "code",
      "metadata": {
        "id": "KlJLGruDkOwD"
      },
      "source": [
        "sample=pd.get_dummies(prom_copy['recruitment_channel'])\n",
        "prom_copy=pd.concat([sample,prom_copy],axis=1)\n",
        "del prom_copy['recruitment_channel']"
      ],
      "execution_count": 79,
      "outputs": []
    },
    {
      "cell_type": "code",
      "metadata": {
        "id": "p0kvpMVYlNcR"
      },
      "source": [
        "del prom_copy['referred']"
      ],
      "execution_count": 80,
      "outputs": []
    },
    {
      "cell_type": "markdown",
      "metadata": {
        "id": "9GkjtDlPlXIa"
      },
      "source": [
        "Previous year rating are whole numbers which should be in int."
      ]
    },
    {
      "cell_type": "code",
      "metadata": {
        "id": "D5YHWEujlvb-"
      },
      "source": [
        "prom_copy['previous_year_rating']=prom_copy['previous_year_rating'].astype('int')"
      ],
      "execution_count": 81,
      "outputs": []
    },
    {
      "cell_type": "markdown",
      "metadata": {
        "id": "22GmLA2AmMVf"
      },
      "source": [
        "Age and Length of service doesn't have much impact on chances of promotion. Further, they will create problem of multi-collinearity\n",
        "\n",
        "Thus, we should remove these columns"
      ]
    },
    {
      "cell_type": "code",
      "metadata": {
        "colab": {
          "base_uri": "https://localhost:8080/",
          "height": 138
        },
        "id": "e2hW_XWMmL4Q",
        "outputId": "b46440a3-5bf1-48a0-ae71-74b1299d6973"
      },
      "source": [
        "prom_df[[\"age\",\"length_of_service\",\"is_promoted\"]].corr()"
      ],
      "execution_count": 82,
      "outputs": [
        {
          "output_type": "execute_result",
          "data": {
            "text/html": [
              "<div>\n",
              "<style scoped>\n",
              "    .dataframe tbody tr th:only-of-type {\n",
              "        vertical-align: middle;\n",
              "    }\n",
              "\n",
              "    .dataframe tbody tr th {\n",
              "        vertical-align: top;\n",
              "    }\n",
              "\n",
              "    .dataframe thead th {\n",
              "        text-align: right;\n",
              "    }\n",
              "</style>\n",
              "<table border=\"1\" class=\"dataframe\">\n",
              "  <thead>\n",
              "    <tr style=\"text-align: right;\">\n",
              "      <th></th>\n",
              "      <th>age</th>\n",
              "      <th>length_of_service</th>\n",
              "      <th>is_promoted</th>\n",
              "    </tr>\n",
              "  </thead>\n",
              "  <tbody>\n",
              "    <tr>\n",
              "      <th>age</th>\n",
              "      <td>1.000000</td>\n",
              "      <td>0.657111</td>\n",
              "      <td>-0.017166</td>\n",
              "    </tr>\n",
              "    <tr>\n",
              "      <th>length_of_service</th>\n",
              "      <td>0.657111</td>\n",
              "      <td>1.000000</td>\n",
              "      <td>-0.010670</td>\n",
              "    </tr>\n",
              "    <tr>\n",
              "      <th>is_promoted</th>\n",
              "      <td>-0.017166</td>\n",
              "      <td>-0.010670</td>\n",
              "      <td>1.000000</td>\n",
              "    </tr>\n",
              "  </tbody>\n",
              "</table>\n",
              "</div>"
            ],
            "text/plain": [
              "                        age  length_of_service  is_promoted\n",
              "age                1.000000           0.657111    -0.017166\n",
              "length_of_service  0.657111           1.000000    -0.010670\n",
              "is_promoted       -0.017166          -0.010670     1.000000"
            ]
          },
          "metadata": {
            "tags": []
          },
          "execution_count": 82
        }
      ]
    },
    {
      "cell_type": "code",
      "metadata": {
        "id": "_rlgS0ldp1kt"
      },
      "source": [
        "del prom_copy['age']\n",
        "del prom_copy['length_of_service']"
      ],
      "execution_count": 83,
      "outputs": []
    },
    {
      "cell_type": "markdown",
      "metadata": {
        "id": "TmLDncn6tk0v"
      },
      "source": [
        "### Splitting the dataset into training and test set"
      ]
    },
    {
      "cell_type": "code",
      "metadata": {
        "id": "4LfRyex4tkWP"
      },
      "source": [
        "from sklearn.model_selection import train_test_split"
      ],
      "execution_count": 84,
      "outputs": []
    },
    {
      "cell_type": "code",
      "metadata": {
        "id": "bAYm5xB0VsyM"
      },
      "source": [
        "X=prom_copy.drop(labels='is_promoted',axis=1)\n",
        "y=prom_copy['is_promoted']\n"
      ],
      "execution_count": 85,
      "outputs": []
    },
    {
      "cell_type": "code",
      "metadata": {
        "colab": {
          "base_uri": "https://localhost:8080/"
        },
        "id": "8FbYyfMahY6x",
        "outputId": "fb95719b-9589-464b-ddd7-625318f4cff9"
      },
      "source": [
        "X.columns"
      ],
      "execution_count": 86,
      "outputs": [
        {
          "output_type": "execute_result",
          "data": {
            "text/plain": [
              "Index(['other', 'sourcing', 'f', 'Bachelor's', 'Master's & above',\n",
              "       'department', 'region', 'no_of_trainings', 'previous_year_rating',\n",
              "       'KPIs_met >80%', 'awards_won?', 'avg_training_score'],\n",
              "      dtype='object')"
            ]
          },
          "metadata": {
            "tags": []
          },
          "execution_count": 86
        }
      ]
    },
    {
      "cell_type": "code",
      "metadata": {
        "id": "S3m8KaYsXSPM"
      },
      "source": [
        "X_train,X_test,y_train,y_test=train_test_split(X,y,test_size=.15,random_state=42)\n"
      ],
      "execution_count": 87,
      "outputs": []
    },
    {
      "cell_type": "code",
      "metadata": {
        "colab": {
          "base_uri": "https://localhost:8080/"
        },
        "id": "HCjmemMxh5uM",
        "outputId": "86e35011-e03f-4892-ba2e-7c05cd018671"
      },
      "source": [
        "print(X_train.shape,y_train.shape)\n",
        "print(X_test.shape,y_test.shape)"
      ],
      "execution_count": 88,
      "outputs": [
        {
          "output_type": "stream",
          "text": [
            "(46586, 12) (46586,)\n",
            "(8222, 12) (8222,)\n"
          ],
          "name": "stdout"
        }
      ]
    },
    {
      "cell_type": "markdown",
      "metadata": {
        "id": "ZNazcWaOekJw"
      },
      "source": [
        "### Feature Scaling"
      ]
    },
    {
      "cell_type": "code",
      "metadata": {
        "id": "clrDlPp3oIvg"
      },
      "source": [
        "from sklearn.preprocessing import StandardScaler"
      ],
      "execution_count": 89,
      "outputs": []
    },
    {
      "cell_type": "code",
      "metadata": {
        "id": "dK7e-p5kb4fd"
      },
      "source": [
        "scalar=StandardScaler()\n",
        "X_train=scalar.fit_transform(X_train)\n",
        "X_test=scalar.transform(X_test)"
      ],
      "execution_count": 90,
      "outputs": []
    },
    {
      "cell_type": "code",
      "metadata": {
        "colab": {
          "base_uri": "https://localhost:8080/"
        },
        "id": "Y6i0xyF1eQjq",
        "outputId": "1cb59dfa-c828-41ea-be18-4d4d5b006c4c"
      },
      "source": [
        "X_train[0:5]"
      ],
      "execution_count": 91,
      "outputs": [
        {
          "output_type": "execute_result",
          "data": {
            "text/plain": [
              "array([[-1.11623221,  1.16423599, -0.65038042, -1.55520228,  1.62178057,\n",
              "        -1.18906926,  1.27118248, -0.41500594, -0.19486495, -0.7380937 ,\n",
              "        -0.15529237, -0.92673533],\n",
              "       [ 0.89587094, -0.85893239, -0.65038042, -1.55520228,  1.62178057,\n",
              "         0.80770026, -0.71158137, -0.41500594,  1.3848755 , -0.7380937 ,\n",
              "        -0.15529237, -0.92673533],\n",
              "       [-1.11623221,  1.16423599, -0.65038042,  0.64300317, -0.61660623,\n",
              "        -1.98777707,  1.76687344, -0.41500594,  1.3848755 ,  1.35484154,\n",
              "        -0.15529237,  1.46726161],\n",
              "       [ 0.89587094, -0.85893239, -0.65038042, -1.55520228,  1.62178057,\n",
              "        -0.39036145, -1.20727233,  1.2237012 , -0.19486495, -0.7380937 ,\n",
              "        -0.15529237, -0.32823609],\n",
              "       [ 0.89587094, -0.85893239, -0.65038042,  0.64300317, -0.61660623,\n",
              "        -1.98777707, -1.20727233,  1.2237012 , -0.19486495, -0.7380937 ,\n",
              "        -0.15529237,  1.46726161]])"
            ]
          },
          "metadata": {
            "tags": []
          },
          "execution_count": 91
        }
      ]
    },
    {
      "cell_type": "markdown",
      "metadata": {
        "id": "U1RLWk18erWG"
      },
      "source": [
        "## Data Modeling"
      ]
    },
    {
      "cell_type": "markdown",
      "metadata": {
        "id": "xLLHGynh1Leu"
      },
      "source": [
        "First, let's import some required libraries"
      ]
    },
    {
      "cell_type": "code",
      "metadata": {
        "id": "HAW9lxHLezO6"
      },
      "source": [
        "from sklearn.model_selection import cross_val_score, GridSearchCV, RandomizedSearchCV\n",
        "from sklearn.metrics import accuracy_score, confusion_matrix"
      ],
      "execution_count": 92,
      "outputs": []
    },
    {
      "cell_type": "markdown",
      "metadata": {
        "id": "F4__5Va42Ki-"
      },
      "source": [
        "### 1. Logistic Regression"
      ]
    },
    {
      "cell_type": "code",
      "metadata": {
        "id": "IYf7GRR41t2Z"
      },
      "source": [
        "from sklearn.linear_model import LogisticRegression"
      ],
      "execution_count": 93,
      "outputs": []
    },
    {
      "cell_type": "code",
      "metadata": {
        "id": "olq4pSgZ2bRT"
      },
      "source": [
        "lr_model=LogisticRegression(random_state=0)"
      ],
      "execution_count": 94,
      "outputs": []
    },
    {
      "cell_type": "code",
      "metadata": {
        "id": "1KQmHrHx4ZUs"
      },
      "source": [
        "params={'solver':['lbfgs','saga','newton-cg'],'C':[1,.1,.5,.05]}"
      ],
      "execution_count": 95,
      "outputs": []
    },
    {
      "cell_type": "code",
      "metadata": {
        "id": "PCwo_2Jf6vMC"
      },
      "source": [
        "RCV=GridSearchCV(estimator=lr_model,param_grid=params,cv=10,scoring='accuracy')"
      ],
      "execution_count": 96,
      "outputs": []
    },
    {
      "cell_type": "code",
      "metadata": {
        "colab": {
          "base_uri": "https://localhost:8080/"
        },
        "id": "SBje-th99-3M",
        "outputId": "94086c6c-697c-499b-af49-a249930ee500"
      },
      "source": [
        "RCV.fit(X_train,y_train)"
      ],
      "execution_count": 97,
      "outputs": [
        {
          "output_type": "execute_result",
          "data": {
            "text/plain": [
              "GridSearchCV(cv=10, error_score=nan,\n",
              "             estimator=LogisticRegression(C=1.0, class_weight=None, dual=False,\n",
              "                                          fit_intercept=True,\n",
              "                                          intercept_scaling=1, l1_ratio=None,\n",
              "                                          max_iter=100, multi_class='auto',\n",
              "                                          n_jobs=None, penalty='l2',\n",
              "                                          random_state=0, solver='lbfgs',\n",
              "                                          tol=0.0001, verbose=0,\n",
              "                                          warm_start=False),\n",
              "             iid='deprecated', n_jobs=None,\n",
              "             param_grid={'C': [1, 0.1, 0.5, 0.05],\n",
              "                         'solver': ['lbfgs', 'saga', 'newton-cg']},\n",
              "             pre_dispatch='2*n_jobs', refit=True, return_train_score=False,\n",
              "             scoring='accuracy', verbose=0)"
            ]
          },
          "metadata": {
            "tags": []
          },
          "execution_count": 97
        }
      ]
    },
    {
      "cell_type": "code",
      "metadata": {
        "colab": {
          "base_uri": "https://localhost:8080/"
        },
        "id": "4lqKnYgL-DUy",
        "outputId": "52ff1f6f-fabb-4cd2-993f-c08c72193fce"
      },
      "source": [
        "print(RCV.best_score_)\n",
        "print(RCV.best_params_)"
      ],
      "execution_count": 98,
      "outputs": [
        {
          "output_type": "stream",
          "text": [
            "0.9177220992974627\n",
            "{'C': 0.1, 'solver': 'lbfgs'}\n"
          ],
          "name": "stdout"
        }
      ]
    },
    {
      "cell_type": "code",
      "metadata": {
        "colab": {
          "base_uri": "https://localhost:8080/"
        },
        "id": "OPy6i-qy-U9L",
        "outputId": "787cfd01-603b-40bf-e07c-ac7e462b8d54"
      },
      "source": [
        "lr_model=LogisticRegression(C=.1,random_state=0,solver='lbfgs')\n",
        "lr_model.fit(X_train,y_train)"
      ],
      "execution_count": 99,
      "outputs": [
        {
          "output_type": "execute_result",
          "data": {
            "text/plain": [
              "LogisticRegression(C=0.1, class_weight=None, dual=False, fit_intercept=True,\n",
              "                   intercept_scaling=1, l1_ratio=None, max_iter=100,\n",
              "                   multi_class='auto', n_jobs=None, penalty='l2',\n",
              "                   random_state=0, solver='lbfgs', tol=0.0001, verbose=0,\n",
              "                   warm_start=False)"
            ]
          },
          "metadata": {
            "tags": []
          },
          "execution_count": 99
        }
      ]
    },
    {
      "cell_type": "code",
      "metadata": {
        "id": "O3CLEpemARMG"
      },
      "source": [
        "y_pred=lr_model.predict(X_test)"
      ],
      "execution_count": 100,
      "outputs": []
    },
    {
      "cell_type": "code",
      "metadata": {
        "colab": {
          "base_uri": "https://localhost:8080/"
        },
        "id": "FqqDjbTGAgFU",
        "outputId": "fe487d98-60fc-466b-aac0-c773c1d4cf59"
      },
      "source": [
        "print(\"The accuracy score generated is: \",accuracy_score(y_test,y_pred))\n",
        "cm=confusion_matrix(y_true=y_test,y_pred=y_pred)\n",
        "print(cm)"
      ],
      "execution_count": 101,
      "outputs": [
        {
          "output_type": "stream",
          "text": [
            "The accuracy score generated is:  0.9244709316468013\n",
            "[[7544   25]\n",
            " [ 596   57]]\n"
          ],
          "name": "stdout"
        }
      ]
    },
    {
      "cell_type": "markdown",
      "metadata": {
        "id": "G8usNPrYBsmR"
      },
      "source": [
        "### 2. K nearest neighbours"
      ]
    },
    {
      "cell_type": "code",
      "metadata": {
        "id": "FbWBxDxrBDIW"
      },
      "source": [
        "from sklearn.neighbors import KNeighborsClassifier"
      ],
      "execution_count": 102,
      "outputs": []
    },
    {
      "cell_type": "code",
      "metadata": {
        "id": "5N2sahV_B99r"
      },
      "source": [
        "knc_model=KNeighborsClassifier()"
      ],
      "execution_count": 103,
      "outputs": []
    },
    {
      "cell_type": "code",
      "metadata": {
        "colab": {
          "base_uri": "https://localhost:8080/"
        },
        "id": "fYAqBNAkCKbL",
        "outputId": "ded29282-4b13-469a-9cfe-01bb057cfb0a"
      },
      "source": [
        "params={'n_neighbors':[5,8,10,12]}\n",
        "GSV=GridSearchCV(estimator=knc_model,param_grid=params,scoring='accuracy')\n",
        "GSV.fit(X_train,y_train)"
      ],
      "execution_count": 104,
      "outputs": [
        {
          "output_type": "execute_result",
          "data": {
            "text/plain": [
              "GridSearchCV(cv=None, error_score=nan,\n",
              "             estimator=KNeighborsClassifier(algorithm='auto', leaf_size=30,\n",
              "                                            metric='minkowski',\n",
              "                                            metric_params=None, n_jobs=None,\n",
              "                                            n_neighbors=5, p=2,\n",
              "                                            weights='uniform'),\n",
              "             iid='deprecated', n_jobs=None,\n",
              "             param_grid={'n_neighbors': [5, 8, 10, 12]},\n",
              "             pre_dispatch='2*n_jobs', refit=True, return_train_score=False,\n",
              "             scoring='accuracy', verbose=0)"
            ]
          },
          "metadata": {
            "tags": []
          },
          "execution_count": 104
        }
      ]
    },
    {
      "cell_type": "code",
      "metadata": {
        "colab": {
          "base_uri": "https://localhost:8080/"
        },
        "id": "sTynr7VaC1Md",
        "outputId": "172a3c84-ff37-4b4d-b9bc-0c021e13e0c3"
      },
      "source": [
        "print(GSV.best_score_)\n",
        "print(GSV.best_params_)"
      ],
      "execution_count": 105,
      "outputs": [
        {
          "output_type": "stream",
          "text": [
            "0.921435642721557\n",
            "{'n_neighbors': 8}\n"
          ],
          "name": "stdout"
        }
      ]
    },
    {
      "cell_type": "code",
      "metadata": {
        "colab": {
          "base_uri": "https://localhost:8080/"
        },
        "id": "JrjmHiWZDV0J",
        "outputId": "cdbb1fc0-bbef-4f53-ff72-ef49cf7696ab"
      },
      "source": [
        "knc_model=KNeighborsClassifier(n_neighbors=8)\n",
        "knc_model.fit(X_train,y_train)"
      ],
      "execution_count": 106,
      "outputs": [
        {
          "output_type": "execute_result",
          "data": {
            "text/plain": [
              "KNeighborsClassifier(algorithm='auto', leaf_size=30, metric='minkowski',\n",
              "                     metric_params=None, n_jobs=None, n_neighbors=8, p=2,\n",
              "                     weights='uniform')"
            ]
          },
          "metadata": {
            "tags": []
          },
          "execution_count": 106
        }
      ]
    },
    {
      "cell_type": "code",
      "metadata": {
        "colab": {
          "base_uri": "https://localhost:8080/"
        },
        "id": "Qjo2f60xDr6G",
        "outputId": "e95bd581-04bb-429c-946d-49aee0985724"
      },
      "source": [
        "y_pred=knc_model.predict(X_test)\n",
        "print(\"The accuracy score generated is: \",accuracy_score(y_test,y_pred))\n",
        "cm=confusion_matrix(y_true=y_test,y_pred=y_pred)\n",
        "print(cm)"
      ],
      "execution_count": 107,
      "outputs": [
        {
          "output_type": "stream",
          "text": [
            "The accuracy score generated is:  0.9304305521770858\n",
            "[[7541   28]\n",
            " [ 544  109]]\n"
          ],
          "name": "stdout"
        }
      ]
    },
    {
      "cell_type": "markdown",
      "metadata": {
        "id": "5LlecL61EgDj"
      },
      "source": [
        "### 3. Support Vector Classifier"
      ]
    },
    {
      "cell_type": "code",
      "metadata": {
        "id": "5n9tVOVgD7Gl"
      },
      "source": [
        "from sklearn.svm import SVC"
      ],
      "execution_count": 108,
      "outputs": []
    },
    {
      "cell_type": "code",
      "metadata": {
        "id": "EhQ21IjjEz9l"
      },
      "source": [
        "svc_model=SVC(kernel='rbf',C=1,random_state=0,gamma=.5)"
      ],
      "execution_count": 109,
      "outputs": []
    },
    {
      "cell_type": "code",
      "metadata": {
        "colab": {
          "base_uri": "https://localhost:8080/"
        },
        "id": "m2ywF5SFFNqR",
        "outputId": "38987c65-0f39-4e4c-a7f4-46a867455a61"
      },
      "source": [
        "svc_model.fit(X_train,y_train)"
      ],
      "execution_count": 110,
      "outputs": [
        {
          "output_type": "execute_result",
          "data": {
            "text/plain": [
              "SVC(C=1, break_ties=False, cache_size=200, class_weight=None, coef0=0.0,\n",
              "    decision_function_shape='ovr', degree=3, gamma=0.5, kernel='rbf',\n",
              "    max_iter=-1, probability=False, random_state=0, shrinking=True, tol=0.001,\n",
              "    verbose=False)"
            ]
          },
          "metadata": {
            "tags": []
          },
          "execution_count": 110
        }
      ]
    },
    {
      "cell_type": "code",
      "metadata": {
        "colab": {
          "base_uri": "https://localhost:8080/"
        },
        "id": "2dQO15paSgTa",
        "outputId": "f9a69039-0830-4246-b91b-5cf2bc5c2a67"
      },
      "source": [
        "y_pred=svc_model.predict(X_test)\n",
        "print(\"The accuracy score generated is: \",accuracy_score(y_test,y_pred))\n",
        "cm=confusion_matrix(y_true=y_test,y_pred=y_pred)\n",
        "print(cm)"
      ],
      "execution_count": 111,
      "outputs": [
        {
          "output_type": "stream",
          "text": [
            "The accuracy score generated is:  0.9318900510824617\n",
            "[[7553   16]\n",
            " [ 544  109]]\n"
          ],
          "name": "stdout"
        }
      ]
    },
    {
      "cell_type": "markdown",
      "metadata": {
        "id": "bwzmIUzCTOGY"
      },
      "source": [
        "### 4. Decision Tree Classifier\n"
      ]
    },
    {
      "cell_type": "code",
      "metadata": {
        "id": "1mZrrFZTKpXn"
      },
      "source": [
        "from sklearn.tree import DecisionTreeClassifier"
      ],
      "execution_count": 112,
      "outputs": []
    },
    {
      "cell_type": "code",
      "metadata": {
        "id": "B2J-2XbJTbTg"
      },
      "source": [
        "tree_model=DecisionTreeClassifier(random_state=0)"
      ],
      "execution_count": 113,
      "outputs": []
    },
    {
      "cell_type": "code",
      "metadata": {
        "id": "n5wpFf1BTiKO"
      },
      "source": [
        "\n",
        "parameters={'max_depth':[15,13,14,16,19],\n",
        "            'max_features':[10,12,11]}\n",
        "RCV=RandomizedSearchCV(estimator=tree_model,param_distributions=parameters,n_iter=10,scoring='accuracy',random_state=0)"
      ],
      "execution_count": 114,
      "outputs": []
    },
    {
      "cell_type": "code",
      "metadata": {
        "colab": {
          "base_uri": "https://localhost:8080/"
        },
        "id": "b-6kduZ_TuUD",
        "outputId": "2feb3cfe-0ee3-4c19-9e8b-51ed9d9e5f1f"
      },
      "source": [
        "RCV.fit(X_train,y_train)"
      ],
      "execution_count": 115,
      "outputs": [
        {
          "output_type": "execute_result",
          "data": {
            "text/plain": [
              "RandomizedSearchCV(cv=None, error_score=nan,\n",
              "                   estimator=DecisionTreeClassifier(ccp_alpha=0.0,\n",
              "                                                    class_weight=None,\n",
              "                                                    criterion='gini',\n",
              "                                                    max_depth=None,\n",
              "                                                    max_features=None,\n",
              "                                                    max_leaf_nodes=None,\n",
              "                                                    min_impurity_decrease=0.0,\n",
              "                                                    min_impurity_split=None,\n",
              "                                                    min_samples_leaf=1,\n",
              "                                                    min_samples_split=2,\n",
              "                                                    min_weight_fraction_leaf=0.0,\n",
              "                                                    presort='deprecated',\n",
              "                                                    random_state=0,\n",
              "                                                    splitter='best'),\n",
              "                   iid='deprecated', n_iter=10, n_jobs=None,\n",
              "                   param_distributions={'max_depth': [15, 13, 14, 16, 19],\n",
              "                                        'max_features': [10, 12, 11]},\n",
              "                   pre_dispatch='2*n_jobs', random_state=0, refit=True,\n",
              "                   return_train_score=False, scoring='accuracy', verbose=0)"
            ]
          },
          "metadata": {
            "tags": []
          },
          "execution_count": 115
        }
      ]
    },
    {
      "cell_type": "code",
      "metadata": {
        "colab": {
          "base_uri": "https://localhost:8080/"
        },
        "id": "riur1DCaTyl-",
        "outputId": "bb17300f-d528-4b44-c656-ec93de74eea4"
      },
      "source": [
        "\n",
        "print(RCV.best_params_)\n",
        "print(RCV.best_score_)"
      ],
      "execution_count": 116,
      "outputs": [
        {
          "output_type": "stream",
          "text": [
            "{'max_features': 12, 'max_depth': 13}\n",
            "0.9344438016275515\n"
          ],
          "name": "stdout"
        }
      ]
    },
    {
      "cell_type": "code",
      "metadata": {
        "id": "GnQdu0JGUBU3"
      },
      "source": [
        "\n",
        "DTC=DecisionTreeClassifier(criterion='gini',splitter='best',random_state=0,max_depth=13)"
      ],
      "execution_count": 117,
      "outputs": []
    },
    {
      "cell_type": "code",
      "metadata": {
        "colab": {
          "base_uri": "https://localhost:8080/"
        },
        "id": "AYA8FkpUUPkH",
        "outputId": "d0156f73-7daa-4beb-8261-ceaf5881431f"
      },
      "source": [
        "DTC.fit(X_train,y_train)"
      ],
      "execution_count": 118,
      "outputs": [
        {
          "output_type": "execute_result",
          "data": {
            "text/plain": [
              "DecisionTreeClassifier(ccp_alpha=0.0, class_weight=None, criterion='gini',\n",
              "                       max_depth=13, max_features=None, max_leaf_nodes=None,\n",
              "                       min_impurity_decrease=0.0, min_impurity_split=None,\n",
              "                       min_samples_leaf=1, min_samples_split=2,\n",
              "                       min_weight_fraction_leaf=0.0, presort='deprecated',\n",
              "                       random_state=0, splitter='best')"
            ]
          },
          "metadata": {
            "tags": []
          },
          "execution_count": 118
        }
      ]
    },
    {
      "cell_type": "code",
      "metadata": {
        "colab": {
          "base_uri": "https://localhost:8080/"
        },
        "id": "pEgujCIHUSkJ",
        "outputId": "fae3427b-4d0e-42ad-f51d-e5712556bca3"
      },
      "source": [
        "y_pred=DTC.predict(X_test)\n",
        "print(\"The accuracy score generated is: \",accuracy_score(y_test,y_pred))\n",
        "cm=confusion_matrix(y_true=y_test,y_pred=y_pred)\n",
        "print(cm)"
      ],
      "execution_count": 119,
      "outputs": [
        {
          "output_type": "stream",
          "text": [
            "The accuracy score generated is:  0.9429579177815617\n",
            "[[7534   35]\n",
            " [ 434  219]]\n"
          ],
          "name": "stdout"
        }
      ]
    },
    {
      "cell_type": "markdown",
      "metadata": {
        "id": "C2vMCkSaUgj5"
      },
      "source": [
        "### 5. Random Forest Classifier"
      ]
    },
    {
      "cell_type": "code",
      "metadata": {
        "id": "-d1C4PCaUcEk"
      },
      "source": [
        "from sklearn.ensemble import RandomForestClassifier"
      ],
      "execution_count": 120,
      "outputs": []
    },
    {
      "cell_type": "code",
      "metadata": {
        "id": "68S6M4vjUrSi"
      },
      "source": [
        "RFC=RandomForestClassifier(random_state=0)"
      ],
      "execution_count": 121,
      "outputs": []
    },
    {
      "cell_type": "code",
      "metadata": {
        "id": "pkCLND0iU1FY"
      },
      "source": [
        "parameters={'max_depth':[15,13,10],\n",
        "            'n_estimators':[50,100,150]}\n",
        "RCV=GridSearchCV(estimator=RFC,param_grid=parameters,scoring='accuracy')"
      ],
      "execution_count": 122,
      "outputs": []
    },
    {
      "cell_type": "code",
      "metadata": {
        "colab": {
          "base_uri": "https://localhost:8080/"
        },
        "id": "HUeGVCnZVJqz",
        "outputId": "46874102-0f7d-4ada-f0ed-4a3de3d72ac2"
      },
      "source": [
        "RCV.fit(X_train,y_train)"
      ],
      "execution_count": 123,
      "outputs": [
        {
          "output_type": "execute_result",
          "data": {
            "text/plain": [
              "GridSearchCV(cv=None, error_score=nan,\n",
              "             estimator=RandomForestClassifier(bootstrap=True, ccp_alpha=0.0,\n",
              "                                              class_weight=None,\n",
              "                                              criterion='gini', max_depth=None,\n",
              "                                              max_features='auto',\n",
              "                                              max_leaf_nodes=None,\n",
              "                                              max_samples=None,\n",
              "                                              min_impurity_decrease=0.0,\n",
              "                                              min_impurity_split=None,\n",
              "                                              min_samples_leaf=1,\n",
              "                                              min_samples_split=2,\n",
              "                                              min_weight_fraction_leaf=0.0,\n",
              "                                              n_estimators=100, n_jobs=None,\n",
              "                                              oob_score=False, random_state=0,\n",
              "                                              verbose=0, warm_start=False),\n",
              "             iid='deprecated', n_jobs=None,\n",
              "             param_grid={'max_depth': [15, 13, 10],\n",
              "                         'n_estimators': [50, 100, 150]},\n",
              "             pre_dispatch='2*n_jobs', refit=True, return_train_score=False,\n",
              "             scoring='accuracy', verbose=0)"
            ]
          },
          "metadata": {
            "tags": []
          },
          "execution_count": 123
        }
      ]
    },
    {
      "cell_type": "code",
      "metadata": {
        "colab": {
          "base_uri": "https://localhost:8080/"
        },
        "id": "hfrisfR4VMiR",
        "outputId": "69172618-d122-48d5-efca-8382c0e959ec"
      },
      "source": [
        "print(RCV.best_params_)\n",
        "print(RCV.best_score_)"
      ],
      "execution_count": 124,
      "outputs": [
        {
          "output_type": "stream",
          "text": [
            "{'max_depth': 15, 'n_estimators': 150}\n",
            "0.9339715696471217\n"
          ],
          "name": "stdout"
        }
      ]
    },
    {
      "cell_type": "code",
      "metadata": {
        "colab": {
          "base_uri": "https://localhost:8080/"
        },
        "id": "D5EutLr2WAJV",
        "outputId": "053faaa0-c564-4661-d6fc-880e92299ed2"
      },
      "source": [
        "RCV_model=RandomForestClassifier(n_estimators=120,max_depth=15,random_state=0)\n",
        "RCV_model.fit(X_train,y_train)"
      ],
      "execution_count": 125,
      "outputs": [
        {
          "output_type": "execute_result",
          "data": {
            "text/plain": [
              "RandomForestClassifier(bootstrap=True, ccp_alpha=0.0, class_weight=None,\n",
              "                       criterion='gini', max_depth=15, max_features='auto',\n",
              "                       max_leaf_nodes=None, max_samples=None,\n",
              "                       min_impurity_decrease=0.0, min_impurity_split=None,\n",
              "                       min_samples_leaf=1, min_samples_split=2,\n",
              "                       min_weight_fraction_leaf=0.0, n_estimators=120,\n",
              "                       n_jobs=None, oob_score=False, random_state=0, verbose=0,\n",
              "                       warm_start=False)"
            ]
          },
          "metadata": {
            "tags": []
          },
          "execution_count": 125
        }
      ]
    },
    {
      "cell_type": "code",
      "metadata": {
        "colab": {
          "base_uri": "https://localhost:8080/"
        },
        "id": "shAL_dAWWXB0",
        "outputId": "917ca589-6c56-4a72-f103-f97d96cf586f"
      },
      "source": [
        "y_pred=RCV_model.predict(X_test)\n",
        "print(\"The accuracy score generated is: \",accuracy_score(y_test,y_pred))\n",
        "cm=confusion_matrix(y_true=y_test,y_pred=y_pred)\n",
        "print(cm)"
      ],
      "execution_count": 126,
      "outputs": [
        {
          "output_type": "stream",
          "text": [
            "The accuracy score generated is:  0.9394307954269034\n",
            "[[7547   22]\n",
            " [ 476  177]]\n"
          ],
          "name": "stdout"
        }
      ]
    },
    {
      "cell_type": "markdown",
      "metadata": {
        "id": "e8sPK-oVXhih"
      },
      "source": [
        "The best model from all the above models is *Decision Tree Classifier* having accuracy score of .94 or 94%"
      ]
    },
    {
      "cell_type": "markdown",
      "metadata": {
        "id": "bWVQusuxX-gP"
      },
      "source": [
        "## Saving the ML model"
      ]
    },
    {
      "cell_type": "code",
      "metadata": {
        "id": "Ts2l8y_BWfIq"
      },
      "source": [
        "import tkinter as tk\n",
        "from joblib import dump,load"
      ],
      "execution_count": 127,
      "outputs": []
    },
    {
      "cell_type": "code",
      "metadata": {
        "colab": {
          "base_uri": "https://localhost:8080/"
        },
        "id": "axtwFN4zEBdT",
        "outputId": "ef7c25e2-4ba9-4462-8576-80e927e89473"
      },
      "source": [
        "dump(DTC,r\"my_model.joblib\")"
      ],
      "execution_count": 129,
      "outputs": [
        {
          "output_type": "execute_result",
          "data": {
            "text/plain": [
              "['my_model.joblib']"
            ]
          },
          "metadata": {
            "tags": []
          },
          "execution_count": 129
        }
      ]
    },
    {
      "cell_type": "code",
      "metadata": {
        "id": "4jfYn8q5L2FK"
      },
      "source": [
        ""
      ],
      "execution_count": null,
      "outputs": []
    }
  ]
}