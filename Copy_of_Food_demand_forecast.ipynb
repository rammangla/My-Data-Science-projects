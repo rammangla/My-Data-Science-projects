{
  "nbformat": 4,
  "nbformat_minor": 0,
  "metadata": {
    "kernelspec": {
      "display_name": "Python 3",
      "language": "python",
      "name": "python3"
    },
    "language_info": {
      "codemirror_mode": {
        "name": "ipython",
        "version": 3
      },
      "file_extension": ".py",
      "mimetype": "text/x-python",
      "name": "python",
      "nbconvert_exporter": "python",
      "pygments_lexer": "ipython3",
      "version": "3.7.4"
    },
    "colab": {
      "name": "Copy of Food demand forecast.ipynb",
      "provenance": [],
      "collapsed_sections": [],
      "toc_visible": true
    }
  },
  "cells": [
    {
      "cell_type": "code",
      "metadata": {
        "id": "X3_uaaIvuZ08",
        "colab": {
          "base_uri": "https://localhost:8080/",
          "height": 72
        },
        "outputId": "4492b52c-b3f2-4168-93b6-9d562f42c518"
      },
      "source": [
        "import pandas as pd\n",
        "import numpy as np\n",
        "import matplotlib.pyplot as plt\n",
        "%matplotlib inline\n",
        "import seaborn as sns"
      ],
      "execution_count": null,
      "outputs": [
        {
          "output_type": "stream",
          "text": [
            "/usr/local/lib/python3.6/dist-packages/statsmodels/tools/_testing.py:19: FutureWarning: pandas.util.testing is deprecated. Use the functions in the public API at pandas.testing instead.\n",
            "  import pandas.util.testing as tm\n"
          ],
          "name": "stderr"
        }
      ]
    },
    {
      "cell_type": "code",
      "metadata": {
        "id": "i5tDsUvvuZ1G"
      },
      "source": [
        "demand_data='train.csv'\n",
        "demand_df=pd.read_csv(demand_data)"
      ],
      "execution_count": null,
      "outputs": []
    },
    {
      "cell_type": "code",
      "metadata": {
        "id": "aseqU-njuZ1N",
        "colab": {
          "base_uri": "https://localhost:8080/",
          "height": 197
        },
        "outputId": "b5b7b36b-d3f1-4358-9e3a-b2be38fca658"
      },
      "source": [
        "demand_df.head()"
      ],
      "execution_count": null,
      "outputs": [
        {
          "output_type": "execute_result",
          "data": {
            "text/html": [
              "<div>\n",
              "<style scoped>\n",
              "    .dataframe tbody tr th:only-of-type {\n",
              "        vertical-align: middle;\n",
              "    }\n",
              "\n",
              "    .dataframe tbody tr th {\n",
              "        vertical-align: top;\n",
              "    }\n",
              "\n",
              "    .dataframe thead th {\n",
              "        text-align: right;\n",
              "    }\n",
              "</style>\n",
              "<table border=\"1\" class=\"dataframe\">\n",
              "  <thead>\n",
              "    <tr style=\"text-align: right;\">\n",
              "      <th></th>\n",
              "      <th>id</th>\n",
              "      <th>week</th>\n",
              "      <th>center_id</th>\n",
              "      <th>meal_id</th>\n",
              "      <th>checkout_price</th>\n",
              "      <th>base_price</th>\n",
              "      <th>emailer_for_promotion</th>\n",
              "      <th>homepage_featured</th>\n",
              "      <th>num_orders</th>\n",
              "    </tr>\n",
              "  </thead>\n",
              "  <tbody>\n",
              "    <tr>\n",
              "      <th>0</th>\n",
              "      <td>1379560</td>\n",
              "      <td>1</td>\n",
              "      <td>55</td>\n",
              "      <td>1885</td>\n",
              "      <td>136.83</td>\n",
              "      <td>152.29</td>\n",
              "      <td>0</td>\n",
              "      <td>0</td>\n",
              "      <td>177</td>\n",
              "    </tr>\n",
              "    <tr>\n",
              "      <th>1</th>\n",
              "      <td>1466964</td>\n",
              "      <td>1</td>\n",
              "      <td>55</td>\n",
              "      <td>1993</td>\n",
              "      <td>136.83</td>\n",
              "      <td>135.83</td>\n",
              "      <td>0</td>\n",
              "      <td>0</td>\n",
              "      <td>270</td>\n",
              "    </tr>\n",
              "    <tr>\n",
              "      <th>2</th>\n",
              "      <td>1346989</td>\n",
              "      <td>1</td>\n",
              "      <td>55</td>\n",
              "      <td>2539</td>\n",
              "      <td>134.86</td>\n",
              "      <td>135.86</td>\n",
              "      <td>0</td>\n",
              "      <td>0</td>\n",
              "      <td>189</td>\n",
              "    </tr>\n",
              "    <tr>\n",
              "      <th>3</th>\n",
              "      <td>1338232</td>\n",
              "      <td>1</td>\n",
              "      <td>55</td>\n",
              "      <td>2139</td>\n",
              "      <td>339.50</td>\n",
              "      <td>437.53</td>\n",
              "      <td>0</td>\n",
              "      <td>0</td>\n",
              "      <td>54</td>\n",
              "    </tr>\n",
              "    <tr>\n",
              "      <th>4</th>\n",
              "      <td>1448490</td>\n",
              "      <td>1</td>\n",
              "      <td>55</td>\n",
              "      <td>2631</td>\n",
              "      <td>243.50</td>\n",
              "      <td>242.50</td>\n",
              "      <td>0</td>\n",
              "      <td>0</td>\n",
              "      <td>40</td>\n",
              "    </tr>\n",
              "  </tbody>\n",
              "</table>\n",
              "</div>"
            ],
            "text/plain": [
              "        id  week  ...  homepage_featured  num_orders\n",
              "0  1379560     1  ...                  0         177\n",
              "1  1466964     1  ...                  0         270\n",
              "2  1346989     1  ...                  0         189\n",
              "3  1338232     1  ...                  0          54\n",
              "4  1448490     1  ...                  0          40\n",
              "\n",
              "[5 rows x 9 columns]"
            ]
          },
          "metadata": {
            "tags": []
          },
          "execution_count": 3
        }
      ]
    },
    {
      "cell_type": "code",
      "metadata": {
        "id": "T8FrHB-ZuZ1b"
      },
      "source": [
        "demand_df.drop('id',axis=1,inplace=True)"
      ],
      "execution_count": null,
      "outputs": []
    },
    {
      "cell_type": "code",
      "metadata": {
        "id": "DPE0hHb4uZ1f",
        "colab": {
          "base_uri": "https://localhost:8080/",
          "height": 34
        },
        "outputId": "a641ef9c-4a49-4d1d-d6f9-ad9324d6cadf"
      },
      "source": [
        "demand_df.shape"
      ],
      "execution_count": null,
      "outputs": [
        {
          "output_type": "execute_result",
          "data": {
            "text/plain": [
              "(456548, 8)"
            ]
          },
          "metadata": {
            "tags": []
          },
          "execution_count": 5
        }
      ]
    },
    {
      "cell_type": "code",
      "metadata": {
        "id": "fK5rffJmuZ1k",
        "colab": {
          "base_uri": "https://localhost:8080/",
          "height": 123
        },
        "outputId": "54d28cab-bc61-49ba-e955-07542a75190f"
      },
      "source": [
        "demand_df['center_id'].unique()"
      ],
      "execution_count": null,
      "outputs": [
        {
          "output_type": "execute_result",
          "data": {
            "text/plain": [
              "array([ 55,  24,  11,  83,  32,  13, 109,  52,  93, 186, 146,  57, 149,\n",
              "        89, 124, 152,  97,  74, 108,  99,  66,  94,  91,  20,  34, 137,\n",
              "        92, 126,  36, 162,  75, 177,  27, 157, 106,  64, 129,  14,  17,\n",
              "       153, 139, 161,  81,  26,  73,  50, 104,  42, 113, 145,  53,  72,\n",
              "        67, 174,  29,  77,  41,  30,  76,  59,  88, 143,  58,  10, 101,\n",
              "        80,  43,  65,  39, 102, 110, 132,  23,  86,  68,  51,  61])"
            ]
          },
          "metadata": {
            "tags": []
          },
          "execution_count": 6
        }
      ]
    },
    {
      "cell_type": "code",
      "metadata": {
        "id": "llklrrkruZ1p",
        "colab": {
          "base_uri": "https://localhost:8080/",
          "height": 105
        },
        "outputId": "e5bc1978-3c6d-421b-cf2c-becafe4bb6b7"
      },
      "source": [
        "demand_df['meal_id'].unique()"
      ],
      "execution_count": null,
      "outputs": [
        {
          "output_type": "execute_result",
          "data": {
            "text/plain": [
              "array([1885, 1993, 2539, 2139, 2631, 1248, 1778, 1062, 2707, 1207, 1230,\n",
              "       2322, 2290, 1727, 1109, 2640, 2306, 2126, 2826, 1754, 1971, 1902,\n",
              "       1311, 1803, 1558, 2581, 1962, 1445, 2444, 2867, 1525, 2704, 2304,\n",
              "       2577, 1878, 1216, 1247, 1770, 1198, 1438, 2494, 1847, 2760, 2492,\n",
              "       1543, 2664, 2569, 2490, 1571, 2956, 2104])"
            ]
          },
          "metadata": {
            "tags": []
          },
          "execution_count": 7
        }
      ]
    },
    {
      "cell_type": "code",
      "metadata": {
        "id": "37gDWvgduZ1u",
        "colab": {
          "base_uri": "https://localhost:8080/",
          "height": 34
        },
        "outputId": "8a23eb47-3558-431a-da3f-dc06017b4200"
      },
      "source": [
        "len(demand_df['center_id'].unique())"
      ],
      "execution_count": null,
      "outputs": [
        {
          "output_type": "execute_result",
          "data": {
            "text/plain": [
              "77"
            ]
          },
          "metadata": {
            "tags": []
          },
          "execution_count": 8
        }
      ]
    },
    {
      "cell_type": "code",
      "metadata": {
        "id": "Yjd4woQzuZ1z",
        "colab": {
          "base_uri": "https://localhost:8080/",
          "height": 34
        },
        "outputId": "5edcd300-e9ea-4eb6-9bcf-16ca391d37a1"
      },
      "source": [
        "len(demand_df['meal_id'].unique())"
      ],
      "execution_count": null,
      "outputs": [
        {
          "output_type": "execute_result",
          "data": {
            "text/plain": [
              "51"
            ]
          },
          "metadata": {
            "tags": []
          },
          "execution_count": 9
        }
      ]
    },
    {
      "cell_type": "code",
      "metadata": {
        "id": "5_YkppCIuZ13"
      },
      "source": [
        "center_data='fulfilment_center_info.csv'\n",
        "center_df=pd.read_csv(center_data)"
      ],
      "execution_count": null,
      "outputs": []
    },
    {
      "cell_type": "code",
      "metadata": {
        "id": "W5uhPRRduZ17",
        "colab": {
          "base_uri": "https://localhost:8080/",
          "height": 197
        },
        "outputId": "6577ce9c-43ef-4695-e8bc-88c37553ef9d"
      },
      "source": [
        "center_df.head()"
      ],
      "execution_count": null,
      "outputs": [
        {
          "output_type": "execute_result",
          "data": {
            "text/html": [
              "<div>\n",
              "<style scoped>\n",
              "    .dataframe tbody tr th:only-of-type {\n",
              "        vertical-align: middle;\n",
              "    }\n",
              "\n",
              "    .dataframe tbody tr th {\n",
              "        vertical-align: top;\n",
              "    }\n",
              "\n",
              "    .dataframe thead th {\n",
              "        text-align: right;\n",
              "    }\n",
              "</style>\n",
              "<table border=\"1\" class=\"dataframe\">\n",
              "  <thead>\n",
              "    <tr style=\"text-align: right;\">\n",
              "      <th></th>\n",
              "      <th>center_id</th>\n",
              "      <th>city_code</th>\n",
              "      <th>region_code</th>\n",
              "      <th>center_type</th>\n",
              "      <th>op_area</th>\n",
              "    </tr>\n",
              "  </thead>\n",
              "  <tbody>\n",
              "    <tr>\n",
              "      <th>0</th>\n",
              "      <td>11</td>\n",
              "      <td>679</td>\n",
              "      <td>56</td>\n",
              "      <td>TYPE_A</td>\n",
              "      <td>3.7</td>\n",
              "    </tr>\n",
              "    <tr>\n",
              "      <th>1</th>\n",
              "      <td>13</td>\n",
              "      <td>590</td>\n",
              "      <td>56</td>\n",
              "      <td>TYPE_B</td>\n",
              "      <td>6.7</td>\n",
              "    </tr>\n",
              "    <tr>\n",
              "      <th>2</th>\n",
              "      <td>124</td>\n",
              "      <td>590</td>\n",
              "      <td>56</td>\n",
              "      <td>TYPE_C</td>\n",
              "      <td>4.0</td>\n",
              "    </tr>\n",
              "    <tr>\n",
              "      <th>3</th>\n",
              "      <td>66</td>\n",
              "      <td>648</td>\n",
              "      <td>34</td>\n",
              "      <td>TYPE_A</td>\n",
              "      <td>4.1</td>\n",
              "    </tr>\n",
              "    <tr>\n",
              "      <th>4</th>\n",
              "      <td>94</td>\n",
              "      <td>632</td>\n",
              "      <td>34</td>\n",
              "      <td>TYPE_C</td>\n",
              "      <td>3.6</td>\n",
              "    </tr>\n",
              "  </tbody>\n",
              "</table>\n",
              "</div>"
            ],
            "text/plain": [
              "   center_id  city_code  region_code center_type  op_area\n",
              "0         11        679           56      TYPE_A      3.7\n",
              "1         13        590           56      TYPE_B      6.7\n",
              "2        124        590           56      TYPE_C      4.0\n",
              "3         66        648           34      TYPE_A      4.1\n",
              "4         94        632           34      TYPE_C      3.6"
            ]
          },
          "metadata": {
            "tags": []
          },
          "execution_count": 11
        }
      ]
    },
    {
      "cell_type": "code",
      "metadata": {
        "id": "1aEiDhDVuZ2A"
      },
      "source": [
        "meal_data='meal_info.csv'\n",
        "meal_df=pd.read_csv(meal_data)"
      ],
      "execution_count": null,
      "outputs": []
    },
    {
      "cell_type": "code",
      "metadata": {
        "id": "MhxIaSsMuZ2E",
        "colab": {
          "base_uri": "https://localhost:8080/",
          "height": 197
        },
        "outputId": "32b3bf73-4b61-4df5-bd4e-e37f084ac07a"
      },
      "source": [
        "meal_df.head()"
      ],
      "execution_count": null,
      "outputs": [
        {
          "output_type": "execute_result",
          "data": {
            "text/html": [
              "<div>\n",
              "<style scoped>\n",
              "    .dataframe tbody tr th:only-of-type {\n",
              "        vertical-align: middle;\n",
              "    }\n",
              "\n",
              "    .dataframe tbody tr th {\n",
              "        vertical-align: top;\n",
              "    }\n",
              "\n",
              "    .dataframe thead th {\n",
              "        text-align: right;\n",
              "    }\n",
              "</style>\n",
              "<table border=\"1\" class=\"dataframe\">\n",
              "  <thead>\n",
              "    <tr style=\"text-align: right;\">\n",
              "      <th></th>\n",
              "      <th>meal_id</th>\n",
              "      <th>category</th>\n",
              "      <th>cuisine</th>\n",
              "    </tr>\n",
              "  </thead>\n",
              "  <tbody>\n",
              "    <tr>\n",
              "      <th>0</th>\n",
              "      <td>1885</td>\n",
              "      <td>Beverages</td>\n",
              "      <td>Thai</td>\n",
              "    </tr>\n",
              "    <tr>\n",
              "      <th>1</th>\n",
              "      <td>1993</td>\n",
              "      <td>Beverages</td>\n",
              "      <td>Thai</td>\n",
              "    </tr>\n",
              "    <tr>\n",
              "      <th>2</th>\n",
              "      <td>2539</td>\n",
              "      <td>Beverages</td>\n",
              "      <td>Thai</td>\n",
              "    </tr>\n",
              "    <tr>\n",
              "      <th>3</th>\n",
              "      <td>1248</td>\n",
              "      <td>Beverages</td>\n",
              "      <td>Indian</td>\n",
              "    </tr>\n",
              "    <tr>\n",
              "      <th>4</th>\n",
              "      <td>2631</td>\n",
              "      <td>Beverages</td>\n",
              "      <td>Indian</td>\n",
              "    </tr>\n",
              "  </tbody>\n",
              "</table>\n",
              "</div>"
            ],
            "text/plain": [
              "   meal_id   category cuisine\n",
              "0     1885  Beverages    Thai\n",
              "1     1993  Beverages    Thai\n",
              "2     2539  Beverages    Thai\n",
              "3     1248  Beverages  Indian\n",
              "4     2631  Beverages  Indian"
            ]
          },
          "metadata": {
            "tags": []
          },
          "execution_count": 13
        }
      ]
    },
    {
      "cell_type": "code",
      "metadata": {
        "id": "QN6OVXMeuZ2I"
      },
      "source": [
        "demand_df=pd.merge(center_df,demand_df,how='inner',on='center_id')"
      ],
      "execution_count": null,
      "outputs": []
    },
    {
      "cell_type": "code",
      "metadata": {
        "id": "IUm_MXg6uZ2M"
      },
      "source": [
        "demand_df=pd.merge(meal_df,demand_df,how='inner',on='meal_id')"
      ],
      "execution_count": null,
      "outputs": []
    },
    {
      "cell_type": "code",
      "metadata": {
        "id": "j7V-s8rmuZ2Q",
        "colab": {
          "base_uri": "https://localhost:8080/",
          "height": 426
        },
        "outputId": "2be7c7ac-fbcb-4888-9cd3-9a48b0202aae"
      },
      "source": [
        "demand_df"
      ],
      "execution_count": null,
      "outputs": [
        {
          "output_type": "execute_result",
          "data": {
            "text/html": [
              "<div>\n",
              "<style scoped>\n",
              "    .dataframe tbody tr th:only-of-type {\n",
              "        vertical-align: middle;\n",
              "    }\n",
              "\n",
              "    .dataframe tbody tr th {\n",
              "        vertical-align: top;\n",
              "    }\n",
              "\n",
              "    .dataframe thead th {\n",
              "        text-align: right;\n",
              "    }\n",
              "</style>\n",
              "<table border=\"1\" class=\"dataframe\">\n",
              "  <thead>\n",
              "    <tr style=\"text-align: right;\">\n",
              "      <th></th>\n",
              "      <th>meal_id</th>\n",
              "      <th>category</th>\n",
              "      <th>cuisine</th>\n",
              "      <th>center_id</th>\n",
              "      <th>city_code</th>\n",
              "      <th>region_code</th>\n",
              "      <th>center_type</th>\n",
              "      <th>op_area</th>\n",
              "      <th>week</th>\n",
              "      <th>checkout_price</th>\n",
              "      <th>base_price</th>\n",
              "      <th>emailer_for_promotion</th>\n",
              "      <th>homepage_featured</th>\n",
              "      <th>num_orders</th>\n",
              "    </tr>\n",
              "  </thead>\n",
              "  <tbody>\n",
              "    <tr>\n",
              "      <th>0</th>\n",
              "      <td>1885</td>\n",
              "      <td>Beverages</td>\n",
              "      <td>Thai</td>\n",
              "      <td>11</td>\n",
              "      <td>679</td>\n",
              "      <td>56</td>\n",
              "      <td>TYPE_A</td>\n",
              "      <td>3.7</td>\n",
              "      <td>1</td>\n",
              "      <td>136.83</td>\n",
              "      <td>136.83</td>\n",
              "      <td>0</td>\n",
              "      <td>0</td>\n",
              "      <td>959</td>\n",
              "    </tr>\n",
              "    <tr>\n",
              "      <th>1</th>\n",
              "      <td>1885</td>\n",
              "      <td>Beverages</td>\n",
              "      <td>Thai</td>\n",
              "      <td>11</td>\n",
              "      <td>679</td>\n",
              "      <td>56</td>\n",
              "      <td>TYPE_A</td>\n",
              "      <td>3.7</td>\n",
              "      <td>2</td>\n",
              "      <td>133.86</td>\n",
              "      <td>135.86</td>\n",
              "      <td>0</td>\n",
              "      <td>0</td>\n",
              "      <td>1054</td>\n",
              "    </tr>\n",
              "    <tr>\n",
              "      <th>2</th>\n",
              "      <td>1885</td>\n",
              "      <td>Beverages</td>\n",
              "      <td>Thai</td>\n",
              "      <td>11</td>\n",
              "      <td>679</td>\n",
              "      <td>56</td>\n",
              "      <td>TYPE_A</td>\n",
              "      <td>3.7</td>\n",
              "      <td>3</td>\n",
              "      <td>135.86</td>\n",
              "      <td>133.86</td>\n",
              "      <td>0</td>\n",
              "      <td>0</td>\n",
              "      <td>891</td>\n",
              "    </tr>\n",
              "    <tr>\n",
              "      <th>3</th>\n",
              "      <td>1885</td>\n",
              "      <td>Beverages</td>\n",
              "      <td>Thai</td>\n",
              "      <td>11</td>\n",
              "      <td>679</td>\n",
              "      <td>56</td>\n",
              "      <td>TYPE_A</td>\n",
              "      <td>3.7</td>\n",
              "      <td>4</td>\n",
              "      <td>134.86</td>\n",
              "      <td>135.86</td>\n",
              "      <td>0</td>\n",
              "      <td>0</td>\n",
              "      <td>1107</td>\n",
              "    </tr>\n",
              "    <tr>\n",
              "      <th>4</th>\n",
              "      <td>1885</td>\n",
              "      <td>Beverages</td>\n",
              "      <td>Thai</td>\n",
              "      <td>11</td>\n",
              "      <td>679</td>\n",
              "      <td>56</td>\n",
              "      <td>TYPE_A</td>\n",
              "      <td>3.7</td>\n",
              "      <td>5</td>\n",
              "      <td>146.53</td>\n",
              "      <td>146.53</td>\n",
              "      <td>0</td>\n",
              "      <td>0</td>\n",
              "      <td>919</td>\n",
              "    </tr>\n",
              "    <tr>\n",
              "      <th>...</th>\n",
              "      <td>...</td>\n",
              "      <td>...</td>\n",
              "      <td>...</td>\n",
              "      <td>...</td>\n",
              "      <td>...</td>\n",
              "      <td>...</td>\n",
              "      <td>...</td>\n",
              "      <td>...</td>\n",
              "      <td>...</td>\n",
              "      <td>...</td>\n",
              "      <td>...</td>\n",
              "      <td>...</td>\n",
              "      <td>...</td>\n",
              "      <td>...</td>\n",
              "    </tr>\n",
              "    <tr>\n",
              "      <th>456543</th>\n",
              "      <td>1445</td>\n",
              "      <td>Seafood</td>\n",
              "      <td>Continental</td>\n",
              "      <td>51</td>\n",
              "      <td>638</td>\n",
              "      <td>56</td>\n",
              "      <td>TYPE_A</td>\n",
              "      <td>7.0</td>\n",
              "      <td>141</td>\n",
              "      <td>728.53</td>\n",
              "      <td>727.53</td>\n",
              "      <td>0</td>\n",
              "      <td>0</td>\n",
              "      <td>27</td>\n",
              "    </tr>\n",
              "    <tr>\n",
              "      <th>456544</th>\n",
              "      <td>1445</td>\n",
              "      <td>Seafood</td>\n",
              "      <td>Continental</td>\n",
              "      <td>51</td>\n",
              "      <td>638</td>\n",
              "      <td>56</td>\n",
              "      <td>TYPE_A</td>\n",
              "      <td>7.0</td>\n",
              "      <td>142</td>\n",
              "      <td>728.53</td>\n",
              "      <td>728.53</td>\n",
              "      <td>0</td>\n",
              "      <td>0</td>\n",
              "      <td>40</td>\n",
              "    </tr>\n",
              "    <tr>\n",
              "      <th>456545</th>\n",
              "      <td>1445</td>\n",
              "      <td>Seafood</td>\n",
              "      <td>Continental</td>\n",
              "      <td>51</td>\n",
              "      <td>638</td>\n",
              "      <td>56</td>\n",
              "      <td>TYPE_A</td>\n",
              "      <td>7.0</td>\n",
              "      <td>143</td>\n",
              "      <td>485.03</td>\n",
              "      <td>727.53</td>\n",
              "      <td>0</td>\n",
              "      <td>1</td>\n",
              "      <td>204</td>\n",
              "    </tr>\n",
              "    <tr>\n",
              "      <th>456546</th>\n",
              "      <td>1445</td>\n",
              "      <td>Seafood</td>\n",
              "      <td>Continental</td>\n",
              "      <td>51</td>\n",
              "      <td>638</td>\n",
              "      <td>56</td>\n",
              "      <td>TYPE_A</td>\n",
              "      <td>7.0</td>\n",
              "      <td>144</td>\n",
              "      <td>484.03</td>\n",
              "      <td>728.53</td>\n",
              "      <td>1</td>\n",
              "      <td>1</td>\n",
              "      <td>337</td>\n",
              "    </tr>\n",
              "    <tr>\n",
              "      <th>456547</th>\n",
              "      <td>1445</td>\n",
              "      <td>Seafood</td>\n",
              "      <td>Continental</td>\n",
              "      <td>51</td>\n",
              "      <td>638</td>\n",
              "      <td>56</td>\n",
              "      <td>TYPE_A</td>\n",
              "      <td>7.0</td>\n",
              "      <td>145</td>\n",
              "      <td>728.53</td>\n",
              "      <td>727.53</td>\n",
              "      <td>0</td>\n",
              "      <td>0</td>\n",
              "      <td>13</td>\n",
              "    </tr>\n",
              "  </tbody>\n",
              "</table>\n",
              "<p>456548 rows × 14 columns</p>\n",
              "</div>"
            ],
            "text/plain": [
              "        meal_id   category  ... homepage_featured  num_orders\n",
              "0          1885  Beverages  ...                 0         959\n",
              "1          1885  Beverages  ...                 0        1054\n",
              "2          1885  Beverages  ...                 0         891\n",
              "3          1885  Beverages  ...                 0        1107\n",
              "4          1885  Beverages  ...                 0         919\n",
              "...         ...        ...  ...               ...         ...\n",
              "456543     1445    Seafood  ...                 0          27\n",
              "456544     1445    Seafood  ...                 0          40\n",
              "456545     1445    Seafood  ...                 1         204\n",
              "456546     1445    Seafood  ...                 1         337\n",
              "456547     1445    Seafood  ...                 0          13\n",
              "\n",
              "[456548 rows x 14 columns]"
            ]
          },
          "metadata": {
            "tags": []
          },
          "execution_count": 16
        }
      ]
    },
    {
      "cell_type": "code",
      "metadata": {
        "id": "riGbuObyuZ2U"
      },
      "source": [
        "sample=demand_df[['week','num_orders']].groupby(by='week').sum()"
      ],
      "execution_count": null,
      "outputs": []
    },
    {
      "cell_type": "code",
      "metadata": {
        "id": "6PxK5EUTuZ2Z",
        "colab": {
          "base_uri": "https://localhost:8080/",
          "height": 307
        },
        "outputId": "2c6e3a25-02d8-4366-ab5d-eef8a1e54c89"
      },
      "source": [
        "sample.plot()"
      ],
      "execution_count": null,
      "outputs": [
        {
          "output_type": "execute_result",
          "data": {
            "text/plain": [
              "<matplotlib.axes._subplots.AxesSubplot at 0x7fa40290ad30>"
            ]
          },
          "metadata": {
            "tags": []
          },
          "execution_count": 18
        },
        {
          "output_type": "display_data",
          "data": {
            "image/png": "[encoded data removed]",
            "text/plain": [
              "<Figure size 432x288 with 1 Axes>"
            ]
          },
          "metadata": {
            "tags": [],
            "needs_background": "light"
          }
        }
      ]
    },
    {
      "cell_type": "code",
      "metadata": {
        "id": "jKKGu9PJuZ2f",
        "colab": {
          "base_uri": "https://localhost:8080/",
          "height": 390
        },
        "outputId": "e2ea4dd0-ac32-4546-c175-d957a0a78569"
      },
      "source": [
        "demand_df.info()"
      ],
      "execution_count": null,
      "outputs": [
        {
          "output_type": "stream",
          "text": [
            "<class 'pandas.core.frame.DataFrame'>\n",
            "Int64Index: 456548 entries, 0 to 456547\n",
            "Data columns (total 14 columns):\n",
            " #   Column                 Non-Null Count   Dtype  \n",
            "---  ------                 --------------   -----  \n",
            " 0   meal_id                456548 non-null  int64  \n",
            " 1   category               456548 non-null  object \n",
            " 2   cuisine                456548 non-null  object \n",
            " 3   center_id              456548 non-null  int64  \n",
            " 4   city_code              456548 non-null  int64  \n",
            " 5   region_code            456548 non-null  int64  \n",
            " 6   center_type            456548 non-null  object \n",
            " 7   op_area                456548 non-null  float64\n",
            " 8   week                   456548 non-null  int64  \n",
            " 9   checkout_price         456548 non-null  float64\n",
            " 10  base_price             456548 non-null  float64\n",
            " 11  emailer_for_promotion  456548 non-null  int64  \n",
            " 12  homepage_featured      456548 non-null  int64  \n",
            " 13  num_orders             456548 non-null  int64  \n",
            "dtypes: float64(3), int64(8), object(3)\n",
            "memory usage: 52.2+ MB\n"
          ],
          "name": "stdout"
        }
      ]
    },
    {
      "cell_type": "markdown",
      "metadata": {
        "id": "VPRDPXTAuZ2j"
      },
      "source": [
        "## Exploratory data analysis"
      ]
    },
    {
      "cell_type": "code",
      "metadata": {
        "id": "Wl7JUUmNuZ2k"
      },
      "source": [
        "roll_mean=sample.rolling(window=10).mean()\n",
        "roll_std=sample.rolling(window=10).std()"
      ],
      "execution_count": null,
      "outputs": []
    },
    {
      "cell_type": "code",
      "metadata": {
        "id": "7RyshJEHuZ2o",
        "colab": {
          "base_uri": "https://localhost:8080/",
          "height": 402
        },
        "outputId": "037e1c21-b14c-48f4-bc09-d7213159d70a"
      },
      "source": [
        "plt.figure(figsize=(6,6))\n",
        "plt.plot(sample,label='num orders')\n",
        "plt.plot(roll_mean,label='rolling mean')\n",
        "plt.plot(roll_std,label='rolling std')\n",
        "plt.legend()"
      ],
      "execution_count": null,
      "outputs": [
        {
          "output_type": "execute_result",
          "data": {
            "text/plain": [
              "<matplotlib.legend.Legend at 0x7fa4023802e8>"
            ]
          },
          "metadata": {
            "tags": []
          },
          "execution_count": 21
        },
        {
          "output_type": "display_data",
          "data": {
            "image/png": "[encoded data removed]",
            "text/plain": [
              "<Figure size 432x432 with 1 Axes>"
            ]
          },
          "metadata": {
            "tags": [],
            "needs_background": "light"
          }
        }
      ]
    },
    {
      "cell_type": "code",
      "metadata": {
        "id": "yHuxz8APuZ2s"
      },
      "source": [
        "from statsmodels.tsa.seasonal import seasonal_decompose"
      ],
      "execution_count": null,
      "outputs": []
    },
    {
      "cell_type": "code",
      "metadata": {
        "id": "pamfcuJauZ2w"
      },
      "source": [
        "sample.index=pd.date_range(start='01/01/2019',periods=145,freq='7d')"
      ],
      "execution_count": null,
      "outputs": []
    },
    {
      "cell_type": "code",
      "metadata": {
        "id": "19CMD5AMuZ21",
        "colab": {
          "base_uri": "https://localhost:8080/",
          "height": 296
        },
        "outputId": "476ac1af-8520-456d-b9db-2339b9e24781"
      },
      "source": [
        "decomposition=seasonal_decompose(sample,'additive').plot()"
      ],
      "execution_count": null,
      "outputs": [
        {
          "output_type": "display_data",
          "data": {
            "image/png": "[encoded data removed]",
            "text/plain": [
              "<Figure size 432x288 with 4 Axes>"
            ]
          },
          "metadata": {
            "tags": [],
            "needs_background": "light"
          }
        }
      ]
    },
    {
      "cell_type": "code",
      "metadata": {
        "id": "rK1-ZwnQuZ27"
      },
      "source": [
        "#Week doesn't seem to have any impact on number of orders placed\n",
        "#since there is no clear increasing or decreasing trend\n",
        "#Seasonality is also not clearly defined"
      ],
      "execution_count": null,
      "outputs": []
    },
    {
      "cell_type": "code",
      "metadata": {
        "id": "cKKd8vjMuZ3A",
        "colab": {
          "base_uri": "https://localhost:8080/",
          "height": 404
        },
        "outputId": "42ce066a-a1b3-49e7-ed53-a6239a3ff5c5"
      },
      "source": [
        "fig=plt.figure(figsize=(11,11))\n",
        "sns.catplot(x='category',y='num_orders',kind='point',data=demand_df,orient='v')"
      ],
      "execution_count": null,
      "outputs": [
        {
          "output_type": "execute_result",
          "data": {
            "text/plain": [
              "<seaborn.axisgrid.FacetGrid at 0x7fa3fd439dd8>"
            ]
          },
          "metadata": {
            "tags": []
          },
          "execution_count": 26
        },
        {
          "output_type": "display_data",
          "data": {
            "text/plain": [
              "<Figure size 792x792 with 0 Axes>"
            ]
          },
          "metadata": {
            "tags": []
          }
        },
        {
          "output_type": "display_data",
          "data": {
            "image/png": "[encoded data removed]",
            "text/plain": [
              "<Figure size 360x360 with 1 Axes>"
            ]
          },
          "metadata": {
            "tags": [],
            "needs_background": "light"
          }
        }
      ]
    },
    {
      "cell_type": "code",
      "metadata": {
        "id": "6q8o7xobuZ3E"
      },
      "source": [
        "#For different cuisines, the number of food orders differ. This shows it's impact on total number of orders"
      ],
      "execution_count": null,
      "outputs": []
    },
    {
      "cell_type": "code",
      "metadata": {
        "id": "-T6FQzpeuZ3J",
        "colab": {
          "base_uri": "https://localhost:8080/",
          "height": 386
        },
        "outputId": "9d5b22f9-0ca9-4572-80eb-f54309f9187c"
      },
      "source": [
        "sns.catplot(x='cuisine',y='num_orders',kind='bar',data=demand_df,orient='v')"
      ],
      "execution_count": null,
      "outputs": [
        {
          "output_type": "execute_result",
          "data": {
            "text/plain": [
              "<seaborn.axisgrid.FacetGrid at 0x7fa3fd439a58>"
            ]
          },
          "metadata": {
            "tags": []
          },
          "execution_count": 28
        },
        {
          "output_type": "display_data",
          "data": {
            "image/png": "[encoded data removed]",
            "text/plain": [
              "<Figure size 360x360 with 1 Axes>"
            ]
          },
          "metadata": {
            "tags": [],
            "needs_background": "light"
          }
        }
      ]
    },
    {
      "cell_type": "code",
      "metadata": {
        "id": "Fr5TacQIuZ3N",
        "colab": {
          "base_uri": "https://localhost:8080/",
          "height": 941
        },
        "outputId": "bd145791-e4cd-4ddf-fbd6-7f7f8941cd0e"
      },
      "source": [
        "demand_df['city_code'].value_counts()"
      ],
      "execution_count": null,
      "outputs": [
        {
          "output_type": "execute_result",
          "data": {
            "text/plain": [
              "590    54746\n",
              "526    43525\n",
              "638    20047\n",
              "522    13459\n",
              "517    13109\n",
              "604    13062\n",
              "699    12098\n",
              "647    11833\n",
              "576    11456\n",
              "614    11332\n",
              "676    11177\n",
              "593    10804\n",
              "685     6993\n",
              "700     6891\n",
              "713     6853\n",
              "579     6843\n",
              "679     6801\n",
              "456     6716\n",
              "703     6706\n",
              "698     6434\n",
              "577     6389\n",
              "599     6296\n",
              "596     6293\n",
              "648     6090\n",
              "602     6057\n",
              "659     6053\n",
              "654     6041\n",
              "628     5983\n",
              "651     5975\n",
              "562     5938\n",
              "615     5892\n",
              "556     5885\n",
              "473     5855\n",
              "561     5846\n",
              "461     5763\n",
              "620     5732\n",
              "609     5721\n",
              "675     5715\n",
              "485     5712\n",
              "658     5591\n",
              "553     5547\n",
              "649     5528\n",
              "680     5379\n",
              "683     5296\n",
              "695     5296\n",
              "632     5292\n",
              "702     5264\n",
              "515     5085\n",
              "478     5021\n",
              "693     4627\n",
              "541     4501\n",
              "Name: city_code, dtype: int64"
            ]
          },
          "metadata": {
            "tags": []
          },
          "execution_count": 29
        }
      ]
    },
    {
      "cell_type": "code",
      "metadata": {
        "id": "uplj0eHEuZ3Q",
        "colab": {
          "base_uri": "https://localhost:8080/",
          "height": 34
        },
        "outputId": "9dec4b84-bf2d-4670-d05b-de2375e828d7"
      },
      "source": [
        "len(demand_df['city_code'].unique())"
      ],
      "execution_count": null,
      "outputs": [
        {
          "output_type": "execute_result",
          "data": {
            "text/plain": [
              "51"
            ]
          },
          "metadata": {
            "tags": []
          },
          "execution_count": 30
        }
      ]
    },
    {
      "cell_type": "code",
      "metadata": {
        "id": "ZB-_d9ZcuZ3U",
        "colab": {
          "base_uri": "https://localhost:8080/",
          "height": 176
        },
        "outputId": "2c52af81-b6a7-49a2-9815-38e80eb04add"
      },
      "source": [
        "demand_df['region_code'].value_counts()"
      ],
      "execution_count": null,
      "outputs": [
        {
          "output_type": "execute_result",
          "data": {
            "text/plain": [
              "56    191228\n",
              "34    116713\n",
              "77     94612\n",
              "85     30283\n",
              "23      6434\n",
              "71      6293\n",
              "93      5721\n",
              "35      5264\n",
              "Name: region_code, dtype: int64"
            ]
          },
          "metadata": {
            "tags": []
          },
          "execution_count": 31
        }
      ]
    },
    {
      "cell_type": "code",
      "metadata": {
        "id": "s7_Un9RPuZ3Z",
        "colab": {
          "base_uri": "https://localhost:8080/",
          "height": 87
        },
        "outputId": "d24fde67-cf83-4f52-ea9c-9820681a6eb9"
      },
      "source": [
        "demand_df['center_type'].value_counts()"
      ],
      "execution_count": null,
      "outputs": [
        {
          "output_type": "execute_result",
          "data": {
            "text/plain": [
              "TYPE_A    262881\n",
              "TYPE_C     99593\n",
              "TYPE_B     94074\n",
              "Name: center_type, dtype: int64"
            ]
          },
          "metadata": {
            "tags": []
          },
          "execution_count": 32
        }
      ]
    },
    {
      "cell_type": "code",
      "metadata": {
        "id": "45_1EvUXuZ3c",
        "colab": {
          "base_uri": "https://localhost:8080/",
          "height": 386
        },
        "outputId": "0c3d99b7-c83a-4ac9-af8a-44c0384220d1"
      },
      "source": [
        "\n",
        "\n",
        "sns.catplot(x='city_code',y='num_orders',kind='point',data=demand_df)\n"
      ],
      "execution_count": null,
      "outputs": [
        {
          "output_type": "execute_result",
          "data": {
            "text/plain": [
              "<seaborn.axisgrid.FacetGrid at 0x7fa3fd38ff60>"
            ]
          },
          "metadata": {
            "tags": []
          },
          "execution_count": 33
        },
        {
          "output_type": "display_data",
          "data": {
            "image/png": "[encoded data removed]",
            "text/plain": [
              "<Figure size 360x360 with 1 Axes>"
            ]
          },
          "metadata": {
            "tags": [],
            "needs_background": "light"
          }
        }
      ]
    },
    {
      "cell_type": "code",
      "metadata": {
        "id": "mHbPzzJsuZ3g",
        "colab": {
          "base_uri": "https://localhost:8080/",
          "height": 386
        },
        "outputId": "66a8ffb5-8b1f-4b72-8a19-d1e4b9c552c0"
      },
      "source": [
        "\n",
        "sns.catplot(x='region_code',y='num_orders',kind='point',data=demand_df)\n",
        "\n"
      ],
      "execution_count": null,
      "outputs": [
        {
          "output_type": "execute_result",
          "data": {
            "text/plain": [
              "<seaborn.axisgrid.FacetGrid at 0x7fa3fd27e278>"
            ]
          },
          "metadata": {
            "tags": []
          },
          "execution_count": 34
        },
        {
          "output_type": "display_data",
          "data": {
            "image/png": "[encoded data removed]",
            "text/plain": [
              "<Figure size 360x360 with 1 Axes>"
            ]
          },
          "metadata": {
            "tags": [],
            "needs_background": "light"
          }
        }
      ]
    },
    {
      "cell_type": "code",
      "metadata": {
        "id": "1P3AK8ElwkWw",
        "colab": {
          "base_uri": "https://localhost:8080/",
          "height": 386
        },
        "outputId": "1c6a1eef-c29b-49b0-f6be-21e8c2f2f603"
      },
      "source": [
        "sns.catplot(x='center_type',y='num_orders',kind='bar',data=demand_df)"
      ],
      "execution_count": null,
      "outputs": [
        {
          "output_type": "execute_result",
          "data": {
            "text/plain": [
              "<seaborn.axisgrid.FacetGrid at 0x7fa3fb4019e8>"
            ]
          },
          "metadata": {
            "tags": []
          },
          "execution_count": 35
        },
        {
          "output_type": "display_data",
          "data": {
            "image/png": "[encoded data removed]",
            "text/plain": [
              "<Figure size 360x360 with 1 Axes>"
            ]
          },
          "metadata": {
            "tags": [],
            "needs_background": "light"
          }
        }
      ]
    },
    {
      "cell_type": "code",
      "metadata": {
        "id": "mgGBTqCKwuv0",
        "colab": {
          "base_uri": "https://localhost:8080/",
          "height": 386
        },
        "outputId": "7975eca8-5922-4464-9fd2-d6351fac0b43"
      },
      "source": [
        "sns.relplot(x='op_area',y='num_orders',kind='line',data=demand_df)"
      ],
      "execution_count": null,
      "outputs": [
        {
          "output_type": "execute_result",
          "data": {
            "text/plain": [
              "<seaborn.axisgrid.FacetGrid at 0x7fa3fd23ee80>"
            ]
          },
          "metadata": {
            "tags": []
          },
          "execution_count": 36
        },
        {
          "output_type": "display_data",
          "data": {
            "image/png": "[encoded data removed]",
            "text/plain": [
              "<Figure size 360x360 with 1 Axes>"
            ]
          },
          "metadata": {
            "tags": [],
            "needs_background": "light"
          }
        }
      ]
    },
    {
      "cell_type": "code",
      "metadata": {
        "id": "ut4TNaRYxp6m"
      },
      "source": [
        "#As the total operation area increases, number of order increases"
      ],
      "execution_count": null,
      "outputs": []
    },
    {
      "cell_type": "code",
      "metadata": {
        "id": "b9PJaiGCzP8s",
        "colab": {
          "base_uri": "https://localhost:8080/",
          "height": 70
        },
        "outputId": "3535ea33-24ae-462a-b9a4-b5964aec592d"
      },
      "source": [
        "print(max(demand_df['checkout_price']))\n",
        "print(min(demand_df['checkout_price']))\n",
        "print(demand_df['checkout_price'].mean())"
      ],
      "execution_count": null,
      "outputs": [
        {
          "output_type": "stream",
          "text": [
            "866.27\n",
            "2.97\n",
            "332.23893255521\n"
          ],
          "name": "stdout"
        }
      ]
    },
    {
      "cell_type": "code",
      "metadata": {
        "id": "bbD7GEK_zl28",
        "colab": {
          "base_uri": "https://localhost:8080/",
          "height": 297
        },
        "outputId": "413997f0-9a78-4d53-aaeb-622e1aa07d5f"
      },
      "source": [
        "sns.regplot(x='checkout_price',y='num_orders',data=demand_df,x_estimator=np.mean)"
      ],
      "execution_count": null,
      "outputs": [
        {
          "output_type": "execute_result",
          "data": {
            "text/plain": [
              "<matplotlib.axes._subplots.AxesSubplot at 0x7fa3fb0dada0>"
            ]
          },
          "metadata": {
            "tags": []
          },
          "execution_count": 39
        },
        {
          "output_type": "display_data",
          "data": {
            "image/png": "[encoded data removed]",
            "text/plain": [
              "<Figure size 432x288 with 1 Axes>"
            ]
          },
          "metadata": {
            "tags": [],
            "needs_background": "light"
          }
        }
      ]
    },
    {
      "cell_type": "code",
      "metadata": {
        "id": "7XOU7Pzm1Z_2",
        "colab": {
          "base_uri": "https://localhost:8080/",
          "height": 70
        },
        "outputId": "ade71675-a542-4b8d-f90b-028aa8134d38"
      },
      "source": [
        "print(max(demand_df['base_price']))\n",
        "print(min(demand_df['base_price']))\n",
        "print(demand_df['base_price'].mean())"
      ],
      "execution_count": null,
      "outputs": [
        {
          "output_type": "stream",
          "text": [
            "866.27\n",
            "55.35\n",
            "354.1566274525984\n"
          ],
          "name": "stdout"
        }
      ]
    },
    {
      "cell_type": "code",
      "metadata": {
        "id": "dabxZdfI2yk0",
        "colab": {
          "base_uri": "https://localhost:8080/",
          "height": 297
        },
        "outputId": "50bbbf64-accb-4de9-aa35-b0f376284ec7"
      },
      "source": [
        "sns.regplot(x='base_price',y='num_orders',x_estimator=np.mean,data=demand_df)"
      ],
      "execution_count": null,
      "outputs": [
        {
          "output_type": "execute_result",
          "data": {
            "text/plain": [
              "<matplotlib.axes._subplots.AxesSubplot at 0x7fa3fbae5748>"
            ]
          },
          "metadata": {
            "tags": []
          },
          "execution_count": 41
        },
        {
          "output_type": "display_data",
          "data": {
            "image/png": "[encoded data removed]",
            "text/plain": [
              "<Figure size 432x288 with 1 Axes>"
            ]
          },
          "metadata": {
            "tags": [],
            "needs_background": "light"
          }
        }
      ]
    },
    {
      "cell_type": "code",
      "metadata": {
        "id": "10uJyiaG3L82"
      },
      "source": [
        "demand_df['price_diff']=demand_df['base_price']-demand_df['checkout_price']"
      ],
      "execution_count": null,
      "outputs": []
    },
    {
      "cell_type": "code",
      "metadata": {
        "id": "JTd5iiEr3yzR",
        "colab": {
          "base_uri": "https://localhost:8080/",
          "height": 297
        },
        "outputId": "c2fc94f4-2b0f-4176-96ec-580b5b4c5300"
      },
      "source": [
        "sns.regplot(x='price_diff',y='num_orders',data=demand_df,x_estimator=np.mean)"
      ],
      "execution_count": null,
      "outputs": [
        {
          "output_type": "execute_result",
          "data": {
            "text/plain": [
              "<matplotlib.axes._subplots.AxesSubplot at 0x7fa3fa4d7438>"
            ]
          },
          "metadata": {
            "tags": []
          },
          "execution_count": 43
        },
        {
          "output_type": "display_data",
          "data": {
            "image/png": "[encoded data removed]",
            "text/plain": [
              "<Figure size 432x288 with 1 Axes>"
            ]
          },
          "metadata": {
            "tags": [],
            "needs_background": "light"
          }
        }
      ]
    },
    {
      "cell_type": "code",
      "metadata": {
        "id": "BAyYawb335Qb",
        "colab": {
          "base_uri": "https://localhost:8080/",
          "height": 296
        },
        "outputId": "987010c6-f2f3-4003-ce3d-e95fb215441d"
      },
      "source": [
        "sample=demand_df[['week','base_price']].groupby(by='week').mean()\n",
        "sample.index=pd.date_range(start='01/01/2019',periods=145,freq='7d')\n",
        "decomposition=seasonal_decompose(sample,'additive').plot()"
      ],
      "execution_count": null,
      "outputs": [
        {
          "output_type": "display_data",
          "data": {
            "image/png": "[encoded data removed]",
            "text/plain": [
              "<Figure size 432x288 with 4 Axes>"
            ]
          },
          "metadata": {
            "tags": [],
            "needs_background": "light"
          }
        }
      ]
    },
    {
      "cell_type": "code",
      "metadata": {
        "id": "omocpTnM6yoL",
        "colab": {
          "base_uri": "https://localhost:8080/",
          "height": 296
        },
        "outputId": "5224bba8-37ae-4c61-b40e-f29747076f30"
      },
      "source": [
        "sample=demand_df[['week','checkout_price']].groupby(by='week').mean()\n",
        "sample.index=pd.date_range(start='01/01/2019',periods=145,freq='7d')\n",
        "decomposition=seasonal_decompose(sample,'additive').plot()"
      ],
      "execution_count": null,
      "outputs": [
        {
          "output_type": "display_data",
          "data": {
            "image/png": "[encoded data removed]",
            "text/plain": [
              "<Figure size 432x288 with 4 Axes>"
            ]
          },
          "metadata": {
            "tags": [],
            "needs_background": "light"
          }
        }
      ]
    },
    {
      "cell_type": "code",
      "metadata": {
        "id": "AfRqtwK49EH0",
        "colab": {
          "base_uri": "https://localhost:8080/",
          "height": 106
        },
        "outputId": "e9028935-0011-49c6-cf63-b4da7b04fc31"
      },
      "source": [
        "demand_df[['num_orders','base_price','checkout_price','week']].corr().style.background_gradient(cmap='PuBu')"
      ],
      "execution_count": null,
      "outputs": [
        {
          "output_type": "execute_result",
          "data": {
            "text/html": [
              "<style  type=\"text/css\" >\n",
              "    #T_380ac4d4_b799_11ea_bc89_0242ac1c0002row0_col0 {\n",
              "            background-color:  #023858;\n",
              "            color:  #f1f1f1;\n",
              "        }    #T_380ac4d4_b799_11ea_bc89_0242ac1c0002row0_col1 {\n",
              "            background-color:  #fff7fb;\n",
              "            color:  #000000;\n",
              "        }    #T_380ac4d4_b799_11ea_bc89_0242ac1c0002row0_col2 {\n",
              "            background-color:  #fff7fb;\n",
              "            color:  #000000;\n",
              "        }    #T_380ac4d4_b799_11ea_bc89_0242ac1c0002row0_col3 {\n",
              "            background-color:  #fff7fb;\n",
              "            color:  #000000;\n",
              "        }    #T_380ac4d4_b799_11ea_bc89_0242ac1c0002row1_col0 {\n",
              "            background-color:  #f8f1f8;\n",
              "            color:  #000000;\n",
              "        }    #T_380ac4d4_b799_11ea_bc89_0242ac1c0002row1_col1 {\n",
              "            background-color:  #023858;\n",
              "            color:  #f1f1f1;\n",
              "        }    #T_380ac4d4_b799_11ea_bc89_0242ac1c0002row1_col2 {\n",
              "            background-color:  #034267;\n",
              "            color:  #f1f1f1;\n",
              "        }    #T_380ac4d4_b799_11ea_bc89_0242ac1c0002row1_col3 {\n",
              "            background-color:  #f8f1f8;\n",
              "            color:  #000000;\n",
              "        }    #T_380ac4d4_b799_11ea_bc89_0242ac1c0002row2_col0 {\n",
              "            background-color:  #fff7fb;\n",
              "            color:  #000000;\n",
              "        }    #T_380ac4d4_b799_11ea_bc89_0242ac1c0002row2_col1 {\n",
              "            background-color:  #034267;\n",
              "            color:  #f1f1f1;\n",
              "        }    #T_380ac4d4_b799_11ea_bc89_0242ac1c0002row2_col2 {\n",
              "            background-color:  #023858;\n",
              "            color:  #f1f1f1;\n",
              "        }    #T_380ac4d4_b799_11ea_bc89_0242ac1c0002row2_col3 {\n",
              "            background-color:  #f8f1f8;\n",
              "            color:  #000000;\n",
              "        }    #T_380ac4d4_b799_11ea_bc89_0242ac1c0002row3_col0 {\n",
              "            background-color:  #dad9ea;\n",
              "            color:  #000000;\n",
              "        }    #T_380ac4d4_b799_11ea_bc89_0242ac1c0002row3_col1 {\n",
              "            background-color:  #dad9ea;\n",
              "            color:  #000000;\n",
              "        }    #T_380ac4d4_b799_11ea_bc89_0242ac1c0002row3_col2 {\n",
              "            background-color:  #d2d3e7;\n",
              "            color:  #000000;\n",
              "        }    #T_380ac4d4_b799_11ea_bc89_0242ac1c0002row3_col3 {\n",
              "            background-color:  #023858;\n",
              "            color:  #f1f1f1;\n",
              "        }</style><table id=\"T_380ac4d4_b799_11ea_bc89_0242ac1c0002\" ><thead>    <tr>        <th class=\"blank level0\" ></th>        <th class=\"col_heading level0 col0\" >num_orders</th>        <th class=\"col_heading level0 col1\" >base_price</th>        <th class=\"col_heading level0 col2\" >checkout_price</th>        <th class=\"col_heading level0 col3\" >week</th>    </tr></thead><tbody>\n",
              "                <tr>\n",
              "                        <th id=\"T_380ac4d4_b799_11ea_bc89_0242ac1c0002level0_row0\" class=\"row_heading level0 row0\" >num_orders</th>\n",
              "                        <td id=\"T_380ac4d4_b799_11ea_bc89_0242ac1c0002row0_col0\" class=\"data row0 col0\" >1.000000</td>\n",
              "                        <td id=\"T_380ac4d4_b799_11ea_bc89_0242ac1c0002row0_col1\" class=\"data row0 col1\" >-0.222306</td>\n",
              "                        <td id=\"T_380ac4d4_b799_11ea_bc89_0242ac1c0002row0_col2\" class=\"data row0 col2\" >-0.282108</td>\n",
              "                        <td id=\"T_380ac4d4_b799_11ea_bc89_0242ac1c0002row0_col3\" class=\"data row0 col3\" >-0.017210</td>\n",
              "            </tr>\n",
              "            <tr>\n",
              "                        <th id=\"T_380ac4d4_b799_11ea_bc89_0242ac1c0002level0_row1\" class=\"row_heading level0 row1\" >base_price</th>\n",
              "                        <td id=\"T_380ac4d4_b799_11ea_bc89_0242ac1c0002row1_col0\" class=\"data row1 col0\" >-0.222306</td>\n",
              "                        <td id=\"T_380ac4d4_b799_11ea_bc89_0242ac1c0002row1_col1\" class=\"data row1 col1\" >1.000000</td>\n",
              "                        <td id=\"T_380ac4d4_b799_11ea_bc89_0242ac1c0002row1_col2\" class=\"data row1 col2\" >0.953389</td>\n",
              "                        <td id=\"T_380ac4d4_b799_11ea_bc89_0242ac1c0002row1_col3\" class=\"data row1 col3\" >0.028614</td>\n",
              "            </tr>\n",
              "            <tr>\n",
              "                        <th id=\"T_380ac4d4_b799_11ea_bc89_0242ac1c0002level0_row2\" class=\"row_heading level0 row2\" >checkout_price</th>\n",
              "                        <td id=\"T_380ac4d4_b799_11ea_bc89_0242ac1c0002row2_col0\" class=\"data row2 col0\" >-0.282108</td>\n",
              "                        <td id=\"T_380ac4d4_b799_11ea_bc89_0242ac1c0002row2_col1\" class=\"data row2 col1\" >0.953389</td>\n",
              "                        <td id=\"T_380ac4d4_b799_11ea_bc89_0242ac1c0002row2_col2\" class=\"data row2 col2\" >1.000000</td>\n",
              "                        <td id=\"T_380ac4d4_b799_11ea_bc89_0242ac1c0002row2_col3\" class=\"data row2 col3\" >0.026581</td>\n",
              "            </tr>\n",
              "            <tr>\n",
              "                        <th id=\"T_380ac4d4_b799_11ea_bc89_0242ac1c0002level0_row3\" class=\"row_heading level0 row3\" >week</th>\n",
              "                        <td id=\"T_380ac4d4_b799_11ea_bc89_0242ac1c0002row3_col0\" class=\"data row3 col0\" >-0.017210</td>\n",
              "                        <td id=\"T_380ac4d4_b799_11ea_bc89_0242ac1c0002row3_col1\" class=\"data row3 col1\" >0.028614</td>\n",
              "                        <td id=\"T_380ac4d4_b799_11ea_bc89_0242ac1c0002row3_col2\" class=\"data row3 col2\" >0.026581</td>\n",
              "                        <td id=\"T_380ac4d4_b799_11ea_bc89_0242ac1c0002row3_col3\" class=\"data row3 col3\" >1.000000</td>\n",
              "            </tr>\n",
              "    </tbody></table>"
            ],
            "text/plain": [
              "<pandas.io.formats.style.Styler at 0x7fa3fd2b4b38>"
            ]
          },
          "metadata": {
            "tags": []
          },
          "execution_count": 46
        }
      ]
    },
    {
      "cell_type": "code",
      "metadata": {
        "id": "j1fGyWCO-8Ye",
        "colab": {
          "base_uri": "https://localhost:8080/",
          "height": 70
        },
        "outputId": "06d14b13-9bfc-42e2-f277-cf8a5851aba1"
      },
      "source": [
        "demand_df['emailer_for_promotion'].value_counts()"
      ],
      "execution_count": null,
      "outputs": [
        {
          "output_type": "execute_result",
          "data": {
            "text/plain": [
              "0    419498\n",
              "1     37050\n",
              "Name: emailer_for_promotion, dtype: int64"
            ]
          },
          "metadata": {
            "tags": []
          },
          "execution_count": 47
        }
      ]
    },
    {
      "cell_type": "code",
      "metadata": {
        "id": "B19JvHTi_Cfd",
        "colab": {
          "base_uri": "https://localhost:8080/",
          "height": 276
        },
        "outputId": "d21fd8be-59c0-4ac4-be1f-162807b41a4d"
      },
      "source": [
        "sample=demand_df[['emailer_for_promotion','num_orders']].groupby(by='emailer_for_promotion').mean().plot(kind='bar')"
      ],
      "execution_count": null,
      "outputs": [
        {
          "output_type": "display_data",
          "data": {
            "image/png": "[encoded data removed]",
            "text/plain": [
              "<Figure size 432x288 with 1 Axes>"
            ]
          },
          "metadata": {
            "tags": [],
            "needs_background": "light"
          }
        }
      ]
    },
    {
      "cell_type": "code",
      "metadata": {
        "id": "AhR0u3ui_c8U",
        "colab": {
          "base_uri": "https://localhost:8080/",
          "height": 70
        },
        "outputId": "7375e4d2-5366-4e92-9d92-69360139158d"
      },
      "source": [
        "demand_df['homepage_featured'].value_counts()"
      ],
      "execution_count": null,
      "outputs": [
        {
          "output_type": "execute_result",
          "data": {
            "text/plain": [
              "0    406693\n",
              "1     49855\n",
              "Name: homepage_featured, dtype: int64"
            ]
          },
          "metadata": {
            "tags": []
          },
          "execution_count": 49
        }
      ]
    },
    {
      "cell_type": "code",
      "metadata": {
        "id": "o2HoBVwy_jTF",
        "colab": {
          "base_uri": "https://localhost:8080/",
          "height": 276
        },
        "outputId": "72a55b25-a8d9-45fa-afda-6e14e4f9973a"
      },
      "source": [
        "sample=demand_df[['homepage_featured','num_orders']].groupby(by='homepage_featured').mean().plot(kind='bar')"
      ],
      "execution_count": null,
      "outputs": [
        {
          "output_type": "display_data",
          "data": {
            "image/png": "[encoded data removed]",
            "text/plain": [
              "<Figure size 432x288 with 1 Axes>"
            ]
          },
          "metadata": {
            "tags": [],
            "needs_background": "light"
          }
        }
      ]
    },
    {
      "cell_type": "markdown",
      "metadata": {
        "id": "59t2YgXd-W2_"
      },
      "source": [
        "## Variable treatment"
      ]
    },
    {
      "cell_type": "code",
      "metadata": {
        "id": "C4CgMXmZ-E7r",
        "colab": {
          "base_uri": "https://localhost:8080/",
          "height": 301
        },
        "outputId": "8024a439-e221-489e-a275-a09e855c4f6c"
      },
      "source": [
        "demand_df.dtypes"
      ],
      "execution_count": null,
      "outputs": [
        {
          "output_type": "execute_result",
          "data": {
            "text/plain": [
              "meal_id                    int64\n",
              "category                  object\n",
              "cuisine                   object\n",
              "center_id                  int64\n",
              "city_code                  int64\n",
              "region_code                int64\n",
              "center_type               object\n",
              "op_area                  float64\n",
              "week                       int64\n",
              "checkout_price           float64\n",
              "base_price               float64\n",
              "emailer_for_promotion      int64\n",
              "homepage_featured          int64\n",
              "num_orders                 int64\n",
              "price_diff               float64\n",
              "dtype: object"
            ]
          },
          "metadata": {
            "tags": []
          },
          "execution_count": 51
        }
      ]
    },
    {
      "cell_type": "code",
      "metadata": {
        "id": "lD1L_R-Y-bK3"
      },
      "source": [
        "demand_df.drop(labels=['meal_id','center_id','week','price_diff'],axis=1,inplace=True)"
      ],
      "execution_count": null,
      "outputs": []
    },
    {
      "cell_type": "code",
      "metadata": {
        "id": "KV1NTIMC-6Dw"
      },
      "source": [
        "from sklearn.preprocessing import LabelEncoder\n",
        "le=LabelEncoder()\n",
        "demand_df['category']=le.fit_transform(demand_df['category'])"
      ],
      "execution_count": null,
      "outputs": []
    },
    {
      "cell_type": "code",
      "metadata": {
        "id": "jA4mkSgiAKQu"
      },
      "source": [
        "sample=pd.get_dummies(data=demand_df['cuisine'],drop_first=True)\n",
        "demand_df=pd.concat([sample,demand_df],axis=1)"
      ],
      "execution_count": null,
      "outputs": []
    },
    {
      "cell_type": "code",
      "metadata": {
        "id": "CJfdeqijAYxT"
      },
      "source": [
        "sample=pd.get_dummies(data=demand_df['center_type'],drop_first=True)\n",
        "demand_df=pd.concat([sample,demand_df],axis=1)"
      ],
      "execution_count": null,
      "outputs": []
    },
    {
      "cell_type": "code",
      "metadata": {
        "id": "ojc3U8twA7yP",
        "colab": {
          "base_uri": "https://localhost:8080/",
          "height": 105
        },
        "outputId": "6a6d470f-57f4-45c6-8a35-c54708dd6531"
      },
      "source": [
        "demand_df.columns"
      ],
      "execution_count": null,
      "outputs": [
        {
          "output_type": "execute_result",
          "data": {
            "text/plain": [
              "Index(['TYPE_B', 'TYPE_C', 'Indian', 'Italian', 'Thai', 'category', 'cuisine',\n",
              "       'city_code', 'region_code', 'center_type', 'op_area', 'checkout_price',\n",
              "       'base_price', 'emailer_for_promotion', 'homepage_featured',\n",
              "       'num_orders'],\n",
              "      dtype='object')"
            ]
          },
          "metadata": {
            "tags": []
          },
          "execution_count": 56
        }
      ]
    },
    {
      "cell_type": "code",
      "metadata": {
        "id": "zC2iPQUPDwcC"
      },
      "source": [
        "demand_df.drop(['cuisine','center_type'],axis=1,inplace=True)"
      ],
      "execution_count": null,
      "outputs": []
    },
    {
      "cell_type": "markdown",
      "metadata": {
        "id": "Hg-xYXacBIyD"
      },
      "source": [
        "## Model Building"
      ]
    },
    {
      "cell_type": "code",
      "metadata": {
        "id": "VvNG0j4XBB_a"
      },
      "source": [
        "X=demand_df.iloc[:,0:-1].values\n",
        "y=demand_df.iloc[:,-1].values"
      ],
      "execution_count": null,
      "outputs": []
    },
    {
      "cell_type": "code",
      "metadata": {
        "id": "SAHPdIlRDi1I",
        "colab": {
          "base_uri": "https://localhost:8080/",
          "height": 52
        },
        "outputId": "2af7c638-a91f-4647-8bd2-7e9c052286d3"
      },
      "source": [
        "X[1]"
      ],
      "execution_count": null,
      "outputs": [
        {
          "output_type": "execute_result",
          "data": {
            "text/plain": [
              "array([  0.  ,   0.  ,   0.  ,   0.  ,   1.  ,   0.  , 679.  ,  56.  ,\n",
              "         3.7 , 133.86, 135.86,   0.  ,   0.  ])"
            ]
          },
          "metadata": {
            "tags": []
          },
          "execution_count": 59
        }
      ]
    },
    {
      "cell_type": "code",
      "metadata": {
        "id": "vdJGo-r5BbbB"
      },
      "source": [
        "from sklearn.model_selection import cross_val_score"
      ],
      "execution_count": null,
      "outputs": []
    },
    {
      "cell_type": "code",
      "metadata": {
        "id": "yMjK2UikBcqV"
      },
      "source": [
        "from sklearn.model_selection import RandomizedSearchCV"
      ],
      "execution_count": null,
      "outputs": []
    },
    {
      "cell_type": "code",
      "metadata": {
        "id": "Oq30Xb-sGQ14"
      },
      "source": [
        "from sklearn.metrics import mean_squared_error\n",
        "from sklearn.metrics import mean_squared_log_error"
      ],
      "execution_count": null,
      "outputs": []
    },
    {
      "cell_type": "code",
      "metadata": {
        "id": "2TXkSgDYHYs-"
      },
      "source": [
        "from math import sqrt\n"
      ],
      "execution_count": null,
      "outputs": []
    },
    {
      "cell_type": "markdown",
      "metadata": {
        "id": "BGgEnKszCuJS"
      },
      "source": [
        "### Multiple Linear Regression"
      ]
    },
    {
      "cell_type": "code",
      "metadata": {
        "id": "IN4-7kHvCnkF"
      },
      "source": [
        "from sklearn.linear_model import LinearRegression\n",
        "lr=LinearRegression()"
      ],
      "execution_count": null,
      "outputs": []
    },
    {
      "cell_type": "code",
      "metadata": {
        "id": "6SB9rwPCC9QZ",
        "colab": {
          "base_uri": "https://localhost:8080/",
          "height": 34
        },
        "outputId": "b6d4fc2c-b630-4553-e644-707316f96bb4"
      },
      "source": [
        "lr.fit(X,y)"
      ],
      "execution_count": null,
      "outputs": [
        {
          "output_type": "execute_result",
          "data": {
            "text/plain": [
              "LinearRegression(copy_X=True, fit_intercept=True, n_jobs=None, normalize=False)"
            ]
          },
          "metadata": {
            "tags": []
          },
          "execution_count": 65
        }
      ]
    },
    {
      "cell_type": "code",
      "metadata": {
        "id": "9Yt1oYkkDAvu"
      },
      "source": [
        "MSE=cross_val_score(estimator=lr,X=X,y=y,scoring='neg_mean_squared_error',cv=5)"
      ],
      "execution_count": null,
      "outputs": []
    },
    {
      "cell_type": "code",
      "metadata": {
        "id": "g8ckmslKFyGO",
        "colab": {
          "base_uri": "https://localhost:8080/",
          "height": 34
        },
        "outputId": "e360e4b2-98f3-48e5-ed1a-ec5595cbeeba"
      },
      "source": [
        "print('RMSE value:',sqrt(abs(MSE.mean())))"
      ],
      "execution_count": null,
      "outputs": [
        {
          "output_type": "stream",
          "text": [
            "RMSE value: 392.46781785397616\n"
          ],
          "name": "stdout"
        }
      ]
    },
    {
      "cell_type": "markdown",
      "metadata": {
        "id": "vlFDasiZH-aX"
      },
      "source": [
        "### Decision Tree Regressor"
      ]
    },
    {
      "cell_type": "code",
      "metadata": {
        "id": "7P9tsEFdF8z9"
      },
      "source": [
        "from sklearn.model_selection import train_test_split"
      ],
      "execution_count": null,
      "outputs": []
    },
    {
      "cell_type": "code",
      "metadata": {
        "id": "96CwJJvhIF__"
      },
      "source": [
        "X_train,X_test,y_train,y_test=train_test_split(X,y,test_size=.3,random_state=0)"
      ],
      "execution_count": null,
      "outputs": []
    },
    {
      "cell_type": "code",
      "metadata": {
        "id": "PwouFWgqIMBN",
        "colab": {
          "base_uri": "https://localhost:8080/",
          "height": 34
        },
        "outputId": "0b2dcb39-8b3d-41a7-be24-694e99f2a256"
      },
      "source": [
        "print(X_train.shape,y_train.shape)"
      ],
      "execution_count": null,
      "outputs": [
        {
          "output_type": "stream",
          "text": [
            "(319583, 13) (319583,)\n"
          ],
          "name": "stdout"
        }
      ]
    },
    {
      "cell_type": "code",
      "metadata": {
        "id": "mamcKLLWI80Q"
      },
      "source": [
        "from sklearn.tree import DecisionTreeRegressor"
      ],
      "execution_count": null,
      "outputs": []
    },
    {
      "cell_type": "code",
      "metadata": {
        "id": "1CmUzqnEJaGb"
      },
      "source": [
        "dtr=DecisionTreeRegressor(criterion='mse',random_state=0)"
      ],
      "execution_count": null,
      "outputs": []
    },
    {
      "cell_type": "code",
      "metadata": {
        "id": "ppmzsckMJc5j"
      },
      "source": [
        "params={'max_features':[7,8,9,10],\n",
        "        'max_depth':[14,15,16],\n",
        "        }"
      ],
      "execution_count": null,
      "outputs": []
    },
    {
      "cell_type": "code",
      "metadata": {
        "id": "u003kQsRjMJF"
      },
      "source": [
        "random=RandomizedSearchCV(estimator=dtr,param_distributions=params,n_iter=15,scoring='neg_mean_squared_error',cv=5,random_state=0)"
      ],
      "execution_count": null,
      "outputs": []
    },
    {
      "cell_type": "code",
      "metadata": {
        "id": "FLnAF2ygOyIo",
        "colab": {
          "base_uri": "https://localhost:8080/",
          "height": 410
        },
        "outputId": "37c49d45-54e5-4066-d7ca-3943663c9480"
      },
      "source": [
        "random.fit(X_train,y_train)"
      ],
      "execution_count": null,
      "outputs": [
        {
          "output_type": "stream",
          "text": [
            "/usr/local/lib/python3.6/dist-packages/sklearn/model_selection/_search.py:281: UserWarning: The total space of parameters 12 is smaller than n_iter=15. Running 12 iterations. For exhaustive searches, use GridSearchCV.\n",
            "  % (grid_size, self.n_iter, grid_size), UserWarning)\n"
          ],
          "name": "stderr"
        },
        {
          "output_type": "execute_result",
          "data": {
            "text/plain": [
              "RandomizedSearchCV(cv=5, error_score=nan,\n",
              "                   estimator=DecisionTreeRegressor(ccp_alpha=0.0,\n",
              "                                                   criterion='mse',\n",
              "                                                   max_depth=14, max_features=8,\n",
              "                                                   max_leaf_nodes=None,\n",
              "                                                   min_impurity_decrease=0.0,\n",
              "                                                   min_impurity_split=None,\n",
              "                                                   min_samples_leaf=1,\n",
              "                                                   min_samples_split=2,\n",
              "                                                   min_weight_fraction_leaf=0.0,\n",
              "                                                   presort='deprecated',\n",
              "                                                   random_state=0,\n",
              "                                                   splitter='best'),\n",
              "                   iid='deprecated', n_iter=15, n_jobs=None,\n",
              "                   param_distributions={'max_depth': [14, 15, 16],\n",
              "                                        'max_features': [7, 8, 9, 10]},\n",
              "                   pre_dispatch='2*n_jobs', random_state=0, refit=True,\n",
              "                   return_train_score=False, scoring='neg_mean_squared_error',\n",
              "                   verbose=0)"
            ]
          },
          "metadata": {
            "tags": []
          },
          "execution_count": 87
        }
      ]
    },
    {
      "cell_type": "code",
      "metadata": {
        "id": "RgozGWRWQsat",
        "colab": {
          "base_uri": "https://localhost:8080/",
          "height": 52
        },
        "outputId": "481d62e4-0f85-4a10-ab58-9af279a2e8f1"
      },
      "source": [
        "print(random.best_params_)\n",
        "print(random.best_score_)"
      ],
      "execution_count": null,
      "outputs": [
        {
          "output_type": "stream",
          "text": [
            "{'max_features': 8, 'max_depth': 15}\n",
            "-48588.81897326904\n"
          ],
          "name": "stdout"
        }
      ]
    },
    {
      "cell_type": "code",
      "metadata": {
        "id": "fhVKN-0YRCec"
      },
      "source": [
        "dtr=DecisionTreeRegressor(criterion='mse',max_depth=15,min_samples_split=2,max_features=8,random_state=0)"
      ],
      "execution_count": null,
      "outputs": []
    },
    {
      "cell_type": "code",
      "metadata": {
        "id": "vN0JCTQURgh6",
        "colab": {
          "base_uri": "https://localhost:8080/",
          "height": 123
        },
        "outputId": "9bd06ae4-831e-4adf-c4cd-532f74c70758"
      },
      "source": [
        "dtr.fit(X_train,y_train)"
      ],
      "execution_count": null,
      "outputs": [
        {
          "output_type": "execute_result",
          "data": {
            "text/plain": [
              "DecisionTreeRegressor(ccp_alpha=0.0, criterion='mse', max_depth=15,\n",
              "                      max_features=8, max_leaf_nodes=None,\n",
              "                      min_impurity_decrease=0.0, min_impurity_split=None,\n",
              "                      min_samples_leaf=1, min_samples_split=2,\n",
              "                      min_weight_fraction_leaf=0.0, presort='deprecated',\n",
              "                      random_state=0, splitter='best')"
            ]
          },
          "metadata": {
            "tags": []
          },
          "execution_count": 90
        }
      ]
    },
    {
      "cell_type": "code",
      "metadata": {
        "id": "dboq8wkZS1JF",
        "colab": {
          "base_uri": "https://localhost:8080/",
          "height": 34
        },
        "outputId": "dfa6a841-11de-48f8-d3ad-73e8f39a58d9"
      },
      "source": [
        "MSE=cross_val_score(estimator=dtr,X=X,y=y,scoring='neg_mean_squared_error',cv=5)\n",
        "print('RMSE value:',sqrt(abs(MSE.mean())))"
      ],
      "execution_count": null,
      "outputs": [
        {
          "output_type": "stream",
          "text": [
            "RMSE value: 504.2608326501746\n"
          ],
          "name": "stdout"
        }
      ]
    },
    {
      "cell_type": "markdown",
      "metadata": {
        "id": "06krLeQATbTJ"
      },
      "source": [
        "### Random Forest Regressor"
      ]
    },
    {
      "cell_type": "code",
      "metadata": {
        "id": "awCuglVFTZ1K"
      },
      "source": [
        "from sklearn.ensemble import RandomForestRegressor"
      ],
      "execution_count": null,
      "outputs": []
    },
    {
      "cell_type": "code",
      "metadata": {
        "id": "yLUwpSBQTOD3"
      },
      "source": [
        "rfr=RandomForestRegressor(n_estimators=100,random_state=0)"
      ],
      "execution_count": null,
      "outputs": []
    },
    {
      "cell_type": "code",
      "metadata": {
        "id": "1adHjTbzT0oD"
      },
      "source": [
        "params={'min_samples_split':[2,5,4],\n",
        "        'max_depth':[13,11,12],\n",
        "        'max_features':[10,12,11]}"
      ],
      "execution_count": null,
      "outputs": []
    },
    {
      "cell_type": "code",
      "metadata": {
        "id": "YNKspmkfULbm"
      },
      "source": [
        "random=RandomizedSearchCV(estimator=rfr,param_distributions=params,n_iter=15,scoring='neg_mean_squared_error',cv=2,random_state=0)\n"
      ],
      "execution_count": null,
      "outputs": []
    },
    {
      "cell_type": "code",
      "metadata": {
        "id": "i8Zx3ogiVpD_",
        "colab": {
          "base_uri": "https://localhost:8080/",
          "height": 443
        },
        "outputId": "5b2bd407-7062-4027-d148-3e0fb3e981fb"
      },
      "source": [
        "random.fit(X_train,y_train)"
      ],
      "execution_count": null,
      "outputs": [
        {
          "output_type": "execute_result",
          "data": {
            "text/plain": [
              "RandomizedSearchCV(cv=2, error_score=nan,\n",
              "                   estimator=RandomForestRegressor(bootstrap=True,\n",
              "                                                   ccp_alpha=0.0,\n",
              "                                                   criterion='mse',\n",
              "                                                   max_depth=None,\n",
              "                                                   max_features='auto',\n",
              "                                                   max_leaf_nodes=None,\n",
              "                                                   max_samples=None,\n",
              "                                                   min_impurity_decrease=0.0,\n",
              "                                                   min_impurity_split=None,\n",
              "                                                   min_samples_leaf=1,\n",
              "                                                   min_samples_split=2,\n",
              "                                                   min_weight_fraction_leaf=0.0,\n",
              "                                                   n_estimators=100,\n",
              "                                                   n_jobs=None, oob_score=False,\n",
              "                                                   random_state=0, verbose=0,\n",
              "                                                   warm_start=False),\n",
              "                   iid='deprecated', n_iter=15, n_jobs=None,\n",
              "                   param_distributions={'max_depth': [13, 11, 12],\n",
              "                                        'max_features': [10, 12, 11],\n",
              "                                        'min_samples_split': [2, 5, 4]},\n",
              "                   pre_dispatch='2*n_jobs', random_state=0, refit=True,\n",
              "                   return_train_score=False, scoring='neg_mean_squared_error',\n",
              "                   verbose=0)"
            ]
          },
          "metadata": {
            "tags": []
          },
          "execution_count": 104
        }
      ]
    },
    {
      "cell_type": "code",
      "metadata": {
        "id": "zdCw9vysUQpd",
        "colab": {
          "base_uri": "https://localhost:8080/",
          "height": 52
        },
        "outputId": "90eaaa17-8626-4b92-dce1-da5ed7f80518"
      },
      "source": [
        "print(random.best_params_)\n",
        "print(random.best_score_)"
      ],
      "execution_count": null,
      "outputs": [
        {
          "output_type": "stream",
          "text": [
            "{'min_samples_split': 4, 'max_features': 10, 'max_depth': 13}\n",
            "-40139.506773639805\n"
          ],
          "name": "stdout"
        }
      ]
    },
    {
      "cell_type": "code",
      "metadata": {
        "id": "IOhds91IYyYA"
      },
      "source": [
        "rfr=RandomForestRegressor(n_estimators=100,max_depth=14,min_samples_split=3,max_features=10,random_state=0)"
      ],
      "execution_count": null,
      "outputs": []
    },
    {
      "cell_type": "code",
      "metadata": {
        "id": "WOtZERr6gT0t",
        "colab": {
          "base_uri": "https://localhost:8080/",
          "height": 34
        },
        "outputId": "991d53da-2c29-4c9c-f3a0-4d7e479f53e1"
      },
      "source": [
        "MSE=cross_val_score(estimator=rfr,X=X,y=y,scoring='neg_mean_squared_error',cv=5)\n",
        "print('RMSE value:',sqrt(abs(MSE.mean())))"
      ],
      "execution_count": null,
      "outputs": [
        {
          "output_type": "stream",
          "text": [
            "RMSE value: 405.206334611182\n"
          ],
          "name": "stdout"
        }
      ]
    },
    {
      "cell_type": "code",
      "metadata": {
        "id": "aDw5YdmUgf6i"
      },
      "source": [
        "from xgboost import XGBRegressor"
      ],
      "execution_count": null,
      "outputs": []
    },
    {
      "cell_type": "code",
      "metadata": {
        "id": "g0t7_WAlioBs"
      },
      "source": [
        "xgb=XGBRegressor(random_state=0,objective='reg:linear')"
      ],
      "execution_count": null,
      "outputs": []
    },
    {
      "cell_type": "code",
      "metadata": {
        "id": "U80U_Zybi2Po"
      },
      "source": [
        "params={'max_depth':[2,4,6,8],\n",
        "        'learning_rate':[.1,.05,.08],\n",
        "        'n_estimators':[50,80,100,120],\n",
        "        'booster':['gbtree','gblinear'],\n",
        "        'reg_alpha':[0,.1,.3]}"
      ],
      "execution_count": null,
      "outputs": []
    },
    {
      "cell_type": "code",
      "metadata": {
        "id": "LjisaJx0jL0J"
      },
      "source": [
        "random=RandomizedSearchCV(estimator=xgb,param_distributions=params,n_iter=30,scoring='neg_mean_squared_error',cv=2,random_state=0)"
      ],
      "execution_count": null,
      "outputs": []
    },
    {
      "cell_type": "code",
      "metadata": {
        "id": "9nbGD4otjQy5",
        "colab": {
          "base_uri": "https://localhost:8080/",
          "height": 1000
        },
        "outputId": "dbe23def-cab7-4f85-909e-fcd3ae180708"
      },
      "source": [
        "random.fit(X_train,y_train)"
      ],
      "execution_count": null,
      "outputs": [
        {
          "output_type": "stream",
          "text": [
            "[12:26:52] WARNING: /workspace/src/objective/regression_obj.cu:152: reg:linear is now deprecated in favor of reg:squarederror.\n",
            "[12:27:00] WARNING: /workspace/src/objective/regression_obj.cu:152: reg:linear is now deprecated in favor of reg:squarederror.\n",
            "[12:27:07] WARNING: /workspace/src/objective/regression_obj.cu:152: reg:linear is now deprecated in favor of reg:squarederror.\n",
            "[12:27:09] WARNING: /workspace/src/objective/regression_obj.cu:152: reg:linear is now deprecated in favor of reg:squarederror.\n",
            "[12:27:12] WARNING: /workspace/src/objective/regression_obj.cu:152: reg:linear is now deprecated in favor of reg:squarederror.\n",
            "[12:27:42] WARNING: /workspace/src/objective/regression_obj.cu:152: reg:linear is now deprecated in favor of reg:squarederror.\n",
            "[12:28:11] WARNING: /workspace/src/objective/regression_obj.cu:152: reg:linear is now deprecated in favor of reg:squarederror.\n",
            "[12:28:15] WARNING: /workspace/src/objective/regression_obj.cu:152: reg:linear is now deprecated in favor of reg:squarederror.\n",
            "[12:28:19] WARNING: /workspace/src/objective/regression_obj.cu:152: reg:linear is now deprecated in favor of reg:squarederror.\n",
            "[12:28:21] WARNING: /workspace/src/objective/regression_obj.cu:152: reg:linear is now deprecated in favor of reg:squarederror.\n",
            "[12:28:24] WARNING: /workspace/src/objective/regression_obj.cu:152: reg:linear is now deprecated in favor of reg:squarederror.\n",
            "[12:28:58] WARNING: /workspace/src/objective/regression_obj.cu:152: reg:linear is now deprecated in favor of reg:squarederror.\n",
            "[12:29:32] WARNING: /workspace/src/objective/regression_obj.cu:152: reg:linear is now deprecated in favor of reg:squarederror.\n",
            "[12:29:42] WARNING: /workspace/src/objective/regression_obj.cu:152: reg:linear is now deprecated in favor of reg:squarederror.\n",
            "[12:29:52] WARNING: /workspace/src/objective/regression_obj.cu:152: reg:linear is now deprecated in favor of reg:squarederror.\n",
            "[12:29:55] WARNING: /workspace/src/objective/regression_obj.cu:152: reg:linear is now deprecated in favor of reg:squarederror.\n",
            "[12:29:57] WARNING: /workspace/src/objective/regression_obj.cu:152: reg:linear is now deprecated in favor of reg:squarederror.\n",
            "[12:30:08] WARNING: /workspace/src/objective/regression_obj.cu:152: reg:linear is now deprecated in favor of reg:squarederror.\n",
            "[12:30:18] WARNING: /workspace/src/objective/regression_obj.cu:152: reg:linear is now deprecated in favor of reg:squarederror.\n",
            "[12:30:33] WARNING: /workspace/src/objective/regression_obj.cu:152: reg:linear is now deprecated in favor of reg:squarederror.\n",
            "[12:30:48] WARNING: /workspace/src/objective/regression_obj.cu:152: reg:linear is now deprecated in favor of reg:squarederror.\n",
            "[12:30:54] WARNING: /workspace/src/objective/regression_obj.cu:152: reg:linear is now deprecated in favor of reg:squarederror.\n",
            "[12:30:59] WARNING: /workspace/src/objective/regression_obj.cu:152: reg:linear is now deprecated in favor of reg:squarederror.\n",
            "[12:31:04] WARNING: /workspace/src/objective/regression_obj.cu:152: reg:linear is now deprecated in favor of reg:squarederror.\n",
            "[12:31:09] WARNING: /workspace/src/objective/regression_obj.cu:152: reg:linear is now deprecated in favor of reg:squarederror.\n",
            "[12:31:15] WARNING: /workspace/src/objective/regression_obj.cu:152: reg:linear is now deprecated in favor of reg:squarederror.\n",
            "[12:31:22] WARNING: /workspace/src/objective/regression_obj.cu:152: reg:linear is now deprecated in favor of reg:squarederror.\n",
            "[12:31:46] WARNING: /workspace/src/objective/regression_obj.cu:152: reg:linear is now deprecated in favor of reg:squarederror.\n",
            "[12:32:11] WARNING: /workspace/src/objective/regression_obj.cu:152: reg:linear is now deprecated in favor of reg:squarederror.\n",
            "[12:32:21] WARNING: /workspace/src/objective/regression_obj.cu:152: reg:linear is now deprecated in favor of reg:squarederror.\n",
            "[12:32:31] WARNING: /workspace/src/objective/regression_obj.cu:152: reg:linear is now deprecated in favor of reg:squarederror.\n",
            "[12:32:36] WARNING: /workspace/src/objective/regression_obj.cu:152: reg:linear is now deprecated in favor of reg:squarederror.\n",
            "[12:32:40] WARNING: /workspace/src/objective/regression_obj.cu:152: reg:linear is now deprecated in favor of reg:squarederror.\n",
            "[12:32:46] WARNING: /workspace/src/objective/regression_obj.cu:152: reg:linear is now deprecated in favor of reg:squarederror.\n",
            "[12:32:51] WARNING: /workspace/src/objective/regression_obj.cu:152: reg:linear is now deprecated in favor of reg:squarederror.\n",
            "[12:32:57] WARNING: /workspace/src/objective/regression_obj.cu:152: reg:linear is now deprecated in favor of reg:squarederror.\n",
            "[12:33:02] WARNING: /workspace/src/objective/regression_obj.cu:152: reg:linear is now deprecated in favor of reg:squarederror.\n",
            "[12:33:05] WARNING: /workspace/src/objective/regression_obj.cu:152: reg:linear is now deprecated in favor of reg:squarederror.\n",
            "[12:33:07] WARNING: /workspace/src/objective/regression_obj.cu:152: reg:linear is now deprecated in favor of reg:squarederror.\n",
            "[12:33:31] WARNING: /workspace/src/objective/regression_obj.cu:152: reg:linear is now deprecated in favor of reg:squarederror.\n",
            "[12:33:54] WARNING: /workspace/src/objective/regression_obj.cu:152: reg:linear is now deprecated in favor of reg:squarederror.\n",
            "[12:34:00] WARNING: /workspace/src/objective/regression_obj.cu:152: reg:linear is now deprecated in favor of reg:squarederror.\n",
            "[12:34:05] WARNING: /workspace/src/objective/regression_obj.cu:152: reg:linear is now deprecated in favor of reg:squarederror.\n",
            "[12:34:11] WARNING: /workspace/src/objective/regression_obj.cu:152: reg:linear is now deprecated in favor of reg:squarederror.\n",
            "[12:34:16] WARNING: /workspace/src/objective/regression_obj.cu:152: reg:linear is now deprecated in favor of reg:squarederror.\n",
            "[12:34:22] WARNING: /workspace/src/objective/regression_obj.cu:152: reg:linear is now deprecated in favor of reg:squarederror.\n",
            "[12:34:28] WARNING: /workspace/src/objective/regression_obj.cu:152: reg:linear is now deprecated in favor of reg:squarederror.\n",
            "[12:34:32] WARNING: /workspace/src/objective/regression_obj.cu:152: reg:linear is now deprecated in favor of reg:squarederror.\n",
            "[12:34:36] WARNING: /workspace/src/objective/regression_obj.cu:152: reg:linear is now deprecated in favor of reg:squarederror.\n",
            "[12:34:45] WARNING: /workspace/src/objective/regression_obj.cu:152: reg:linear is now deprecated in favor of reg:squarederror.\n",
            "[12:34:53] WARNING: /workspace/src/objective/regression_obj.cu:152: reg:linear is now deprecated in favor of reg:squarederror.\n",
            "[12:35:00] WARNING: /workspace/src/objective/regression_obj.cu:152: reg:linear is now deprecated in favor of reg:squarederror.\n",
            "[12:35:06] WARNING: /workspace/src/objective/regression_obj.cu:152: reg:linear is now deprecated in favor of reg:squarederror.\n",
            "[12:35:10] WARNING: /workspace/src/objective/regression_obj.cu:152: reg:linear is now deprecated in favor of reg:squarederror.\n",
            "[12:35:14] WARNING: /workspace/src/objective/regression_obj.cu:152: reg:linear is now deprecated in favor of reg:squarederror.\n",
            "[12:35:16] WARNING: /workspace/src/objective/regression_obj.cu:152: reg:linear is now deprecated in favor of reg:squarederror.\n",
            "[12:35:19] WARNING: /workspace/src/objective/regression_obj.cu:152: reg:linear is now deprecated in favor of reg:squarederror.\n",
            "[12:35:39] WARNING: /workspace/src/objective/regression_obj.cu:152: reg:linear is now deprecated in favor of reg:squarederror.\n",
            "[12:35:59] WARNING: /workspace/src/objective/regression_obj.cu:152: reg:linear is now deprecated in favor of reg:squarederror.\n",
            "[12:36:03] WARNING: /workspace/src/objective/regression_obj.cu:152: reg:linear is now deprecated in favor of reg:squarederror.\n",
            "[12:36:07] WARNING: /workspace/src/objective/regression_obj.cu:152: reg:linear is now deprecated in favor of reg:squarederror.\n"
          ],
          "name": "stdout"
        },
        {
          "output_type": "execute_result",
          "data": {
            "text/plain": [
              "RandomizedSearchCV(cv=2, error_score=nan,\n",
              "                   estimator=XGBRegressor(base_score=0.5, booster='gbtree',\n",
              "                                          colsample_bylevel=1,\n",
              "                                          colsample_bynode=1,\n",
              "                                          colsample_bytree=1, gamma=0,\n",
              "                                          importance_type='gain',\n",
              "                                          learning_rate=0.1, max_delta_step=0,\n",
              "                                          max_depth=3, min_child_weight=1,\n",
              "                                          missing=None, n_estimators=100,\n",
              "                                          n_jobs=1, nthread=None,\n",
              "                                          objective='reg:linear',\n",
              "                                          random_state=0, reg_alpha=...\n",
              "                                          seed=None, silent=None, subsample=1,\n",
              "                                          verbosity=1),\n",
              "                   iid='deprecated', n_iter=30, n_jobs=None,\n",
              "                   param_distributions={'booster': ['gbtree', 'gblinear'],\n",
              "                                        'learning_rate': [0.1, 0.05, 0.08],\n",
              "                                        'max_depth': [2, 4, 6, 8],\n",
              "                                        'n_estimators': [50, 80, 100, 120],\n",
              "                                        'reg_alpha': [0, 0.1, 0.3]},\n",
              "                   pre_dispatch='2*n_jobs', random_state=0, refit=True,\n",
              "                   return_train_score=False, scoring='neg_mean_squared_error',\n",
              "                   verbose=0)"
            ]
          },
          "metadata": {
            "tags": []
          },
          "execution_count": 121
        }
      ]
    },
    {
      "cell_type": "code",
      "metadata": {
        "id": "HJ6l4byrkoq-",
        "colab": {
          "base_uri": "https://localhost:8080/",
          "height": 52
        },
        "outputId": "3599aac0-aadd-411d-a9c3-7e657aaaeac1"
      },
      "source": [
        "print(random.best_params_)\n",
        "print(random.best_score_)"
      ],
      "execution_count": null,
      "outputs": [
        {
          "output_type": "stream",
          "text": [
            "{'reg_alpha': 0, 'n_estimators': 120, 'max_depth': 8, 'learning_rate': 0.1, 'booster': 'gbtree'}\n",
            "-36436.80353823294\n"
          ],
          "name": "stdout"
        }
      ]
    },
    {
      "cell_type": "code",
      "metadata": {
        "id": "Ry-HHiLxo1or"
      },
      "source": [
        "xgb=XGBRegressor(max_depth=9,learning_rate=.1,n_estimators=130,objective='reg:linear',reg_alpha=0,reg_lambda=.9,random_state=0)"
      ],
      "execution_count": null,
      "outputs": []
    },
    {
      "cell_type": "code",
      "metadata": {
        "id": "XMpBXAdTpIbQ",
        "colab": {
          "base_uri": "https://localhost:8080/",
          "height": 123
        },
        "outputId": "4cd11a92-eff1-4543-91e0-b13e4d1fecf0"
      },
      "source": [
        "MSE=cross_val_score(estimator=xgb,X=X,y=y,scoring='neg_mean_squared_error',cv=5)\n",
        "print('RMSE value:',sqrt(abs(MSE.mean())))"
      ],
      "execution_count": null,
      "outputs": [
        {
          "output_type": "stream",
          "text": [
            "[12:51:41] WARNING: /workspace/src/objective/regression_obj.cu:152: reg:linear is now deprecated in favor of reg:squarederror.\n",
            "[12:53:09] WARNING: /workspace/src/objective/regression_obj.cu:152: reg:linear is now deprecated in favor of reg:squarederror.\n",
            "[12:54:35] WARNING: /workspace/src/objective/regression_obj.cu:152: reg:linear is now deprecated in favor of reg:squarederror.\n",
            "[12:56:02] WARNING: /workspace/src/objective/regression_obj.cu:152: reg:linear is now deprecated in favor of reg:squarederror.\n",
            "[12:57:30] WARNING: /workspace/src/objective/regression_obj.cu:152: reg:linear is now deprecated in favor of reg:squarederror.\n",
            "RMSE value: 405.6783176861417\n"
          ],
          "name": "stdout"
        }
      ]
    },
    {
      "cell_type": "markdown",
      "metadata": {
        "id": "j94E-W-itkua"
      },
      "source": [
        "### Gradient Boosting Regressor"
      ]
    },
    {
      "cell_type": "code",
      "metadata": {
        "id": "3FfF1ctDpi7N"
      },
      "source": [
        "from sklearn.ensemble import GradientBoostingRegressor"
      ],
      "execution_count": null,
      "outputs": []
    },
    {
      "cell_type": "code",
      "metadata": {
        "id": "_kIZlnaMts_A"
      },
      "source": [
        "gbr=GradientBoostingRegressor(learning_rate=.1,n_estimators=100,random_state=0)"
      ],
      "execution_count": null,
      "outputs": []
    },
    {
      "cell_type": "code",
      "metadata": {
        "id": "O3Y3cFfIt9pJ",
        "colab": {
          "base_uri": "https://localhost:8080/",
          "height": 34
        },
        "outputId": "1bed36e3-c7d5-44fb-b5ec-0bd3bb58c07c"
      },
      "source": [
        "MSE=cross_val_score(estimator=gbr,X=X,y=y,scoring='neg_mean_squared_error',cv=5)\n",
        "print('RMSE value:',sqrt(abs(MSE.mean())))"
      ],
      "execution_count": null,
      "outputs": [
        {
          "output_type": "stream",
          "text": [
            "RMSE value: 370.73787743002345\n"
          ],
          "name": "stdout"
        }
      ]
    },
    {
      "cell_type": "markdown",
      "metadata": {
        "id": "gveIFqhbvihT"
      },
      "source": [
        "**From all the above models, the best one is GradientBoostingRegressor**"
      ]
    },
    {
      "cell_type": "code",
      "metadata": {
        "id": "9y5StIT2uBG_"
      },
      "source": [
        ""
      ],
      "execution_count": null,
      "outputs": []
    }
  ]
}